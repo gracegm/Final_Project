{
 "cells": [
  {
   "cell_type": "markdown",
   "metadata": {},
   "source": [
    "# DAY0 - Looking for Dataset + Problem "
   ]
  },
  {
   "cell_type": "code",
   "execution_count": 1,
   "metadata": {},
   "outputs": [],
   "source": [
    "# needed to make web requests\n",
    "import requests\n",
    "\n",
    "#store the data we get as a dataframe\n",
    "import pandas as pd\n",
    "\n",
    "#convert the response as a structured json\n",
    "import json\n",
    "\n",
    "#mathematical operations on lists\n",
    "import numpy as np\n",
    "\n",
    "#parse the datetimes we get from NOAA\n",
    "from datetime import datetime\n",
    "\n"
   ]
  },
  {
   "cell_type": "code",
   "execution_count": 2,
   "metadata": {},
   "outputs": [],
   "source": [
    "%matplotlib inline\n",
    "\n",
    "import numpy as np\n",
    "import pandas as pd\n",
    "import seaborn as sns\n",
    "import matplotlib.pyplot as plt\n",
    "\n",
    "from datetime import timedelta\n",
    "from sklearn.metrics import accuracy_score"
   ]
  },
  {
   "cell_type": "code",
   "execution_count": null,
   "metadata": {},
   "outputs": [],
   "source": [
    "#add the access token you got from NOAA\n",
    "Token = 'xKIlBHakeOEdyBfhPkKcDKyLzjofRpNY'\n",
    "\n",
    "#MIAMI INTERNATIONAL AIRPORT, FL US station\n",
    "station_id = 'GHCND:USW00012839'\n",
    "\n",
    "# https://www.ncdc.noaa.gov/cdo-web/datatools/findstation"
   ]
  },
  {
   "cell_type": "code",
   "execution_count": 3,
   "metadata": {},
   "outputs": [
    {
     "name": "stdout",
     "output_type": "stream",
     "text": [
      "working on year 2015\n",
      "working on year 2016\n",
      "working on year 2017\n",
      "working on year 2018\n",
      "working on year 2019\n"
     ]
    }
   ],
   "source": [
    "#initialize lists to store data\n",
    "dates_temp = []\n",
    "dates_prcp = []\n",
    "temps = []\n",
    "prcp = []\n",
    "\n",
    "#for each year from 2015-2019 ...\n",
    "for year in range(2015, 2020):\n",
    "    year = str(year)\n",
    "    print('working on year '+year)\n",
    "    \n",
    "    #make the api call\n",
    "    r = requests.get('https://www.ncdc.noaa.gov/cdo-web/api/v2/data?datasetid=GHCND&datatypeid=TAVG&limit=1000&stationid=GHCND:USW00023129&startdate='+year+'-01-01&enddate='+year+'-12-31', headers={'token':Token})\n",
    "    #load the api response as a json\n",
    "    d = json.loads(r.text)\n",
    "    #get all items in the response which are average temperature readings\n",
    "    avg_temps = [item for item in d['results'] if item['datatype']=='TAVG']\n",
    "    #get the date field from all average temperature readings\n",
    "    dates_temp += [item['date'] for item in avg_temps]\n",
    "    #get the actual average temperature from all average temperature readings\n",
    "    temps += [item['value'] for item in avg_temps]"
   ]
  },
  {
   "cell_type": "code",
   "execution_count": 4,
   "metadata": {},
   "outputs": [],
   "source": [
    "#initialize dataframe\n",
    "df_temp = pd.DataFrame()\n",
    "\n",
    "#populate date and average temperature fields (cast string date to datetime and convert temperature from tenths of Celsius to Fahrenheit)\n",
    "df_temp['date'] = [datetime.strptime(d, \"%Y-%m-%dT%H:%M:%S\") for d in dates_temp]\n",
    "df_temp['avgTemp'] = [float(v)/10.0*1.8 + 32 for v in temps]"
   ]
  },
  {
   "cell_type": "code",
   "execution_count": 10,
   "metadata": {},
   "outputs": [
    {
     "data": {
      "text/plain": [
       "0   2015-01-01\n",
       "1   2015-01-02\n",
       "2   2015-01-03\n",
       "3   2015-01-04\n",
       "4   2015-01-05\n",
       "Name: date, dtype: datetime64[ns]"
      ]
     },
     "execution_count": 10,
     "metadata": {},
     "output_type": "execute_result"
    }
   ],
   "source": [
    "df_temp['date'].head()"
   ]
  },
  {
   "cell_type": "code",
   "execution_count": 11,
   "metadata": {},
   "outputs": [
    {
     "data": {
      "text/plain": [
       "0    46.58\n",
       "1    48.02\n",
       "2    49.82\n",
       "3    52.16\n",
       "4    58.64\n",
       "Name: avgTemp, dtype: float64"
      ]
     },
     "execution_count": 11,
     "metadata": {},
     "output_type": "execute_result"
    }
   ],
   "source": [
    "df_temp['avgTemp'].head()"
   ]
  },
  {
   "cell_type": "code",
   "execution_count": null,
   "metadata": {},
   "outputs": [],
   "source": []
  },
  {
   "cell_type": "code",
   "execution_count": null,
   "metadata": {},
   "outputs": [],
   "source": []
  },
  {
   "cell_type": "code",
   "execution_count": null,
   "metadata": {},
   "outputs": [],
   "source": []
  },
  {
   "cell_type": "markdown",
   "metadata": {},
   "source": [
    "# DAY1 - Brainstorming & Data Preparation\n",
    "\n",
    "    Idea generation & planning\n",
    "    Data gathering & cleaning\n",
    "    Data storage"
   ]
  },
  {
   "cell_type": "markdown",
   "metadata": {},
   "source": [
    "# Let's start with the Solar Dataset\n"
   ]
  },
  {
   "cell_type": "code",
   "execution_count": 80,
   "metadata": {
    "scrolled": true
   },
   "outputs": [
    {
     "data": {
      "text/html": [
       "<div>\n",
       "<style scoped>\n",
       "    .dataframe tbody tr th:only-of-type {\n",
       "        vertical-align: middle;\n",
       "    }\n",
       "\n",
       "    .dataframe tbody tr th {\n",
       "        vertical-align: top;\n",
       "    }\n",
       "\n",
       "    .dataframe thead th {\n",
       "        text-align: right;\n",
       "    }\n",
       "</style>\n",
       "<table border=\"1\" class=\"dataframe\">\n",
       "  <thead>\n",
       "    <tr style=\"text-align: right;\">\n",
       "      <th></th>\n",
       "      <th>Catalog Number</th>\n",
       "      <th>Calendar Date</th>\n",
       "      <th>Eclipse Time</th>\n",
       "      <th>Delta T (s)</th>\n",
       "      <th>Lunation Number</th>\n",
       "      <th>Saros Number</th>\n",
       "      <th>Eclipse Type</th>\n",
       "      <th>Gamma</th>\n",
       "      <th>Eclipse Magnitude</th>\n",
       "      <th>Latitude</th>\n",
       "      <th>Longitude</th>\n",
       "      <th>Sun Altitude</th>\n",
       "      <th>Sun Azimuth</th>\n",
       "      <th>Path Width (km)</th>\n",
       "      <th>Central Duration</th>\n",
       "    </tr>\n",
       "  </thead>\n",
       "  <tbody>\n",
       "    <tr>\n",
       "      <td>0</td>\n",
       "      <td>1</td>\n",
       "      <td>-1999 June 12</td>\n",
       "      <td>03:14:51</td>\n",
       "      <td>46438</td>\n",
       "      <td>-49456</td>\n",
       "      <td>5</td>\n",
       "      <td>T</td>\n",
       "      <td>-0.2701</td>\n",
       "      <td>1.0733</td>\n",
       "      <td>6.0N</td>\n",
       "      <td>33.3W</td>\n",
       "      <td>74</td>\n",
       "      <td>344</td>\n",
       "      <td>247</td>\n",
       "      <td>06m37s</td>\n",
       "    </tr>\n",
       "    <tr>\n",
       "      <td>1</td>\n",
       "      <td>2</td>\n",
       "      <td>-1999 December 5</td>\n",
       "      <td>23:45:23</td>\n",
       "      <td>46426</td>\n",
       "      <td>-49450</td>\n",
       "      <td>10</td>\n",
       "      <td>A</td>\n",
       "      <td>-0.2317</td>\n",
       "      <td>0.9382</td>\n",
       "      <td>32.9S</td>\n",
       "      <td>10.8E</td>\n",
       "      <td>76</td>\n",
       "      <td>21</td>\n",
       "      <td>236</td>\n",
       "      <td>06m44s</td>\n",
       "    </tr>\n",
       "    <tr>\n",
       "      <td>2</td>\n",
       "      <td>3</td>\n",
       "      <td>-1998 June 1</td>\n",
       "      <td>18:09:16</td>\n",
       "      <td>46415</td>\n",
       "      <td>-49444</td>\n",
       "      <td>15</td>\n",
       "      <td>T</td>\n",
       "      <td>0.4994</td>\n",
       "      <td>1.0284</td>\n",
       "      <td>46.2N</td>\n",
       "      <td>83.4E</td>\n",
       "      <td>60</td>\n",
       "      <td>151</td>\n",
       "      <td>111</td>\n",
       "      <td>02m15s</td>\n",
       "    </tr>\n",
       "    <tr>\n",
       "      <td>3</td>\n",
       "      <td>4</td>\n",
       "      <td>-1998 November 25</td>\n",
       "      <td>05:57:03</td>\n",
       "      <td>46403</td>\n",
       "      <td>-49438</td>\n",
       "      <td>20</td>\n",
       "      <td>A</td>\n",
       "      <td>-0.9045</td>\n",
       "      <td>0.9806</td>\n",
       "      <td>67.8S</td>\n",
       "      <td>143.8W</td>\n",
       "      <td>25</td>\n",
       "      <td>74</td>\n",
       "      <td>162</td>\n",
       "      <td>01m14s</td>\n",
       "    </tr>\n",
       "    <tr>\n",
       "      <td>4</td>\n",
       "      <td>5</td>\n",
       "      <td>-1997 April 22</td>\n",
       "      <td>13:19:56</td>\n",
       "      <td>46393</td>\n",
       "      <td>-49433</td>\n",
       "      <td>-13</td>\n",
       "      <td>P</td>\n",
       "      <td>-1.4670</td>\n",
       "      <td>0.1611</td>\n",
       "      <td>60.6S</td>\n",
       "      <td>106.4W</td>\n",
       "      <td>0</td>\n",
       "      <td>281</td>\n",
       "      <td>NaN</td>\n",
       "      <td>NaN</td>\n",
       "    </tr>\n",
       "  </tbody>\n",
       "</table>\n",
       "</div>"
      ],
      "text/plain": [
       "   Catalog Number      Calendar Date Eclipse Time  Delta T (s)  \\\n",
       "0               1      -1999 June 12     03:14:51        46438   \n",
       "1               2   -1999 December 5     23:45:23        46426   \n",
       "2               3       -1998 June 1     18:09:16        46415   \n",
       "3               4  -1998 November 25     05:57:03        46403   \n",
       "4               5     -1997 April 22     13:19:56        46393   \n",
       "\n",
       "   Lunation Number  Saros Number Eclipse Type   Gamma  Eclipse Magnitude  \\\n",
       "0           -49456             5            T -0.2701             1.0733   \n",
       "1           -49450            10            A -0.2317             0.9382   \n",
       "2           -49444            15            T  0.4994             1.0284   \n",
       "3           -49438            20            A -0.9045             0.9806   \n",
       "4           -49433           -13            P -1.4670             0.1611   \n",
       "\n",
       "  Latitude Longitude  Sun Altitude  Sun Azimuth Path Width (km)  \\\n",
       "0     6.0N     33.3W            74          344             247   \n",
       "1    32.9S     10.8E            76           21             236   \n",
       "2    46.2N     83.4E            60          151             111   \n",
       "3    67.8S    143.8W            25           74             162   \n",
       "4    60.6S    106.4W             0          281             NaN   \n",
       "\n",
       "  Central Duration  \n",
       "0           06m37s  \n",
       "1           06m44s  \n",
       "2           02m15s  \n",
       "3           01m14s  \n",
       "4              NaN  "
      ]
     },
     "execution_count": 80,
     "metadata": {},
     "output_type": "execute_result"
    }
   ],
   "source": [
    "import pandas as pd\n",
    "\n",
    "solar = pd.read_csv('/Users/gracemartinez/Downloads/solar.csv')\n",
    "solar.head()"
   ]
  },
  {
   "cell_type": "code",
   "execution_count": null,
   "metadata": {},
   "outputs": [],
   "source": []
  },
  {
   "cell_type": "code",
   "execution_count": 81,
   "metadata": {},
   "outputs": [
    {
     "data": {
      "text/plain": [
       "(11898, 15)"
      ]
     },
     "execution_count": 81,
     "metadata": {},
     "output_type": "execute_result"
    }
   ],
   "source": [
    "solar.shape"
   ]
  },
  {
   "cell_type": "code",
   "execution_count": null,
   "metadata": {},
   "outputs": [],
   "source": []
  },
  {
   "cell_type": "code",
   "execution_count": 82,
   "metadata": {},
   "outputs": [
    {
     "data": {
      "text/plain": [
       "Index(['Catalog Number', 'Calendar Date', 'Eclipse Time', 'Delta T (s)',\n",
       "       'Lunation Number', 'Saros Number', 'Eclipse Type', 'Gamma',\n",
       "       'Eclipse Magnitude', 'Latitude', 'Longitude', 'Sun Altitude',\n",
       "       'Sun Azimuth', 'Path Width (km)', 'Central Duration'],\n",
       "      dtype='object')"
      ]
     },
     "execution_count": 82,
     "metadata": {},
     "output_type": "execute_result"
    }
   ],
   "source": [
    "solar.columns"
   ]
  },
  {
   "cell_type": "code",
   "execution_count": null,
   "metadata": {},
   "outputs": [],
   "source": []
  },
  {
   "cell_type": "code",
   "execution_count": 83,
   "metadata": {},
   "outputs": [
    {
     "data": {
      "text/plain": [
       "Index(['Catalog_Number', 'Calendar_Date', 'Eclipse_Time', 'Delta_T_(s)',\n",
       "       'Lunation_Number', 'Saros_Number', 'Eclipse_Type', 'Gamma',\n",
       "       'Eclipse_Magnitude', 'Latitude', 'Longitude', 'Sun_Altitude',\n",
       "       'Sun_Azimuth', 'Path_Width_(km)', 'Central_Duration'],\n",
       "      dtype='object')"
      ]
     },
     "execution_count": 83,
     "metadata": {},
     "output_type": "execute_result"
    }
   ],
   "source": [
    "solar.columns = solar.columns.str.replace(' ','_')\n",
    "solar.columns"
   ]
  },
  {
   "cell_type": "code",
   "execution_count": null,
   "metadata": {},
   "outputs": [],
   "source": []
  },
  {
   "cell_type": "code",
   "execution_count": 84,
   "metadata": {},
   "outputs": [
    {
     "ename": "SyntaxError",
     "evalue": "invalid syntax (<ipython-input-84-a4979ca7886a>, line 15)",
     "output_type": "error",
     "traceback": [
      "\u001b[0;36m  File \u001b[0;32m\"<ipython-input-84-a4979ca7886a>\"\u001b[0;36m, line \u001b[0;32m15\u001b[0m\n\u001b[0;31m    ['Sun Azimuth', 'Sun\\'s azimuth at greatest eclipse.'], ['Path Width (\\km)\\', 'Width of the path of totality or annularity at greatest eclipse (\\kilometers)\\.'], ['Central Duration', 'Central Line Duration of total or annular phase at greatest eclipse.']]\u001b[0m\n\u001b[0m                                                                                       ^\u001b[0m\n\u001b[0;31mSyntaxError\u001b[0m\u001b[0;31m:\u001b[0m invalid syntax\n"
     ]
    }
   ],
   "source": [
    "#make a dataframe describing columns meanings\n",
    "\n",
    "# Import pandas library \n",
    "import pandas as pd \n",
    "  \n",
    "# initialize list of lists \n",
    "column_data = [['Catalog Number', 'Sequential number of the eclipse in the catalog links to the map published in the Five Millennium Canon of Solar Eclipses: -1999 to +3000.'], ['Calendar Date', 'Calendar Date at instant of Greatest Eclipse. Gregorian Calendar is used for dates after 1582 Oct 15. Julian Calendar is used for dates before 1582 Oct 04.'], \n",
    "               ['Eclipse Time', 'Duration of Time'], \n",
    "               ['Delta T (\\s)\\', \\'the arithmetic difference between Dynamical Time and Universal Time. It is a measure of the accumulated clock error due to the variable rotation period of Earth.'], \n",
    "               ['Lunation Number', 'the number of synodic months since New Moon of 2000 Jan 06. The Brown Lunation Number can be determined by adding 953.'], ['Saros Number', 'Saros series number of eclipse. Each eclipse in a Saros is separated by an interval of 18 years 11.3 days.'], \n",
    "               ['Eclipse Type', 'Eclipse Type where: P  = Partial Eclipse. A  = Annular Eclipse. T  = Total Eclipse. H  = Hybrid or Annular/Total Eclipse. Second character in Eclipse Type: \"m\" = Middle eclipse of Saros series. \"n\" = Central eclipse with no northern limit. \"s\" = Central eclipse with no southern limit. \"+\" = Non-central eclipse with no northern limit. \"-\" = Non-central eclipse with no southern limit. \"2\" = Hybrid path begins total and ends annular. \"3\" = Hybrid path begins annular and ends total. \"b\" = Saros series begins (\\first eclipse in series)\\. \"e\" = Saros series ends (\\last eclipse in series)\\.'],\n",
    "                ['Gamma', 'Distance of the shadow cone axis from the center of Earth (\\units of equatorial radii)\\ at the instant of greatest eclipse.'],\n",
    "                ['Eclipse Magnitude', 'the fraction of the Sun\\'s diameter obscured by the Moon. For annular, total and hybrid eclipses, this value is actually the diameter ratio of Moon/Sun.'], \n",
    "                ['Latitude', 'Latitude where greatest eclipse is seen.'], ['Longitude', 'Longitude where greatest eclipse is seen.'], ['Sun Altitude', 'Sun\\'s altitude at greatest eclipse.']\n",
    "                ['Sun Azimuth', 'Sun\\'s azimuth at greatest eclipse.'], ['Path Width (\\km)\\', 'Width of the path of totality or annularity at greatest eclipse (\\kilometers)\\.'], ['Central Duration', 'Central Line Duration of total or annular phase at greatest eclipse.']]\n",
    "\n",
    "  \n",
    "# Create the pandas DataFrame \n",
    "solar_df = pd.DataFrame(column_data, columns = ['Column_Name', 'Description']) \n",
    "  \n",
    "# print dataframe. \n",
    "solar_df "
   ]
  },
  {
   "cell_type": "code",
   "execution_count": null,
   "metadata": {},
   "outputs": [],
   "source": []
  },
  {
   "cell_type": "code",
   "execution_count": 85,
   "metadata": {},
   "outputs": [
    {
     "data": {
      "text/plain": [
       "Catalog_Number         int64\n",
       "Calendar_Date         object\n",
       "Eclipse_Time          object\n",
       "Delta_T_(s)            int64\n",
       "Lunation_Number        int64\n",
       "Saros_Number           int64\n",
       "Eclipse_Type          object\n",
       "Gamma                float64\n",
       "Eclipse_Magnitude    float64\n",
       "Latitude              object\n",
       "Longitude             object\n",
       "Sun_Altitude           int64\n",
       "Sun_Azimuth            int64\n",
       "Path_Width_(km)       object\n",
       "Central_Duration      object\n",
       "dtype: object"
      ]
     },
     "execution_count": 85,
     "metadata": {},
     "output_type": "execute_result"
    }
   ],
   "source": [
    "solar.dtypes"
   ]
  },
  {
   "cell_type": "code",
   "execution_count": null,
   "metadata": {},
   "outputs": [],
   "source": []
  },
  {
   "cell_type": "code",
   "execution_count": null,
   "metadata": {},
   "outputs": [],
   "source": [
    "# need to know what each column means/represents to know if they're a correct type"
   ]
  },
  {
   "cell_type": "code",
   "execution_count": null,
   "metadata": {},
   "outputs": [],
   "source": [
    "'''\n",
    "- Need to change:\n",
    "\n",
    "Calendar_Date         object -> (-)Y/M/D, ex. -1997 May 22\n",
    "Eclipse_Time          object -> Date\n",
    "\n",
    "- will drop for python, have again for tableau:\n",
    "\n",
    "Latitude              object, separate into 2 columns: decimal# & Letter\n",
    "Longitude             object, separate into 2 columns: decimal# & Letter\n",
    "\n",
    "- i dont think i need them:     need to see the correlation with the Y\n",
    "\n",
    "Path_Width_(km)       object    1/3 of null values. \n",
    "Central_Duration      object    1/3 of null values. "
   ]
  },
  {
   "cell_type": "code",
   "execution_count": 86,
   "metadata": {},
   "outputs": [
    {
     "data": {
      "text/plain": [
       "P     3875\n",
       "A     3755\n",
       "T     3049\n",
       "H      502\n",
       "Pb     163\n",
       "Pe     162\n",
       "Am      72\n",
       "Tm      72\n",
       "An      36\n",
       "A-      34\n",
       "A+      34\n",
       "H3      26\n",
       "As      25\n",
       "H2      24\n",
       "T-      17\n",
       "Hm      17\n",
       "Tn      14\n",
       "Ts      12\n",
       "T+       9\n",
       "Name: Eclipse_Type, dtype: int64"
      ]
     },
     "execution_count": 86,
     "metadata": {},
     "output_type": "execute_result"
    }
   ],
   "source": [
    "solar['Eclipse_Type'].value_counts()"
   ]
  },
  {
   "cell_type": "code",
   "execution_count": null,
   "metadata": {},
   "outputs": [],
   "source": []
  },
  {
   "cell_type": "code",
   "execution_count": 32,
   "metadata": {},
   "outputs": [],
   "source": [
    "# we will data clean by putting all common categories together "
   ]
  },
  {
   "cell_type": "code",
   "execution_count": 87,
   "metadata": {},
   "outputs": [],
   "source": [
    "# only 4 types of lunar eclipse: P, A, T, H \n",
    "\n",
    "def eclipseClean(x):\n",
    "    if 'P' in x:\n",
    "        return('P')\n",
    "    if 'A' in x:\n",
    "        return('A')\n",
    "    if 'T' in x:\n",
    "        return('T')\n",
    "    if 'H' in x:\n",
    "        return('H')\n",
    "    \n",
    "    "
   ]
  },
  {
   "cell_type": "code",
   "execution_count": null,
   "metadata": {},
   "outputs": [],
   "source": []
  },
  {
   "cell_type": "code",
   "execution_count": 88,
   "metadata": {},
   "outputs": [
    {
     "data": {
      "text/plain": [
       "P    4200\n",
       "A    3956\n",
       "T    3173\n",
       "H     569\n",
       "Name: Eclipse_Type, dtype: int64"
      ]
     },
     "execution_count": 88,
     "metadata": {},
     "output_type": "execute_result"
    }
   ],
   "source": [
    "solar['Eclipse_Type'] = list(map(eclipseClean,solar['Eclipse_Type']))\n",
    "solar['Eclipse_Type'].value_counts()"
   ]
  },
  {
   "cell_type": "code",
   "execution_count": null,
   "metadata": {},
   "outputs": [],
   "source": []
  },
  {
   "cell_type": "code",
   "execution_count": 89,
   "metadata": {},
   "outputs": [
    {
     "data": {
      "text/plain": [
       "4"
      ]
     },
     "execution_count": 89,
     "metadata": {},
     "output_type": "execute_result"
    }
   ],
   "source": [
    "len(solar['Eclipse_Type'].value_counts())"
   ]
  },
  {
   "cell_type": "code",
   "execution_count": null,
   "metadata": {},
   "outputs": [],
   "source": []
  },
  {
   "cell_type": "code",
   "execution_count": null,
   "metadata": {},
   "outputs": [],
   "source": [
    "# so now we have the 4 main categories of 'Eclipse Type', \n",
    "# but we can drop 'H' column because it's \"Hybrid or Annular/Total Eclipse.\"\n",
    "# and we're only dealing with Partial, Annular, or Total Eclipses."
   ]
  },
  {
   "cell_type": "code",
   "execution_count": 90,
   "metadata": {},
   "outputs": [],
   "source": [
    "solar = solar.drop(solar[solar.Eclipse_Type == 'H'].index)"
   ]
  },
  {
   "cell_type": "code",
   "execution_count": null,
   "metadata": {},
   "outputs": [],
   "source": []
  },
  {
   "cell_type": "code",
   "execution_count": 91,
   "metadata": {},
   "outputs": [
    {
     "data": {
      "text/plain": [
       "P    4200\n",
       "A    3956\n",
       "T    3173\n",
       "Name: Eclipse_Type, dtype: int64"
      ]
     },
     "execution_count": 91,
     "metadata": {},
     "output_type": "execute_result"
    }
   ],
   "source": [
    "solar['Eclipse_Type'].value_counts()"
   ]
  },
  {
   "cell_type": "code",
   "execution_count": null,
   "metadata": {},
   "outputs": [],
   "source": []
  },
  {
   "cell_type": "code",
   "execution_count": null,
   "metadata": {},
   "outputs": [],
   "source": [
    "# now let's look at the Latitude & Longitude columns"
   ]
  },
  {
   "cell_type": "code",
   "execution_count": 92,
   "metadata": {},
   "outputs": [
    {
     "data": {
      "text/plain": [
       "0     6.0N\n",
       "1    32.9S\n",
       "2    46.2N\n",
       "3    67.8S\n",
       "4    60.6S\n",
       "Name: Latitude, dtype: object"
      ]
     },
     "execution_count": 92,
     "metadata": {},
     "output_type": "execute_result"
    }
   ],
   "source": [
    "solar.Latitude.head()"
   ]
  },
  {
   "cell_type": "code",
   "execution_count": null,
   "metadata": {},
   "outputs": [],
   "source": []
  },
  {
   "cell_type": "code",
   "execution_count": 93,
   "metadata": {},
   "outputs": [
    {
     "data": {
      "text/html": [
       "<div>\n",
       "<style scoped>\n",
       "    .dataframe tbody tr th:only-of-type {\n",
       "        vertical-align: middle;\n",
       "    }\n",
       "\n",
       "    .dataframe tbody tr th {\n",
       "        vertical-align: top;\n",
       "    }\n",
       "\n",
       "    .dataframe thead th {\n",
       "        text-align: right;\n",
       "    }\n",
       "</style>\n",
       "<table border=\"1\" class=\"dataframe\">\n",
       "  <thead>\n",
       "    <tr style=\"text-align: right;\">\n",
       "      <th></th>\n",
       "      <th>Catalog_Number</th>\n",
       "      <th>Calendar_Date</th>\n",
       "      <th>Eclipse_Time</th>\n",
       "      <th>Delta_T_(s)</th>\n",
       "      <th>Lunation_Number</th>\n",
       "      <th>Saros_Number</th>\n",
       "      <th>Eclipse_Type</th>\n",
       "      <th>Gamma</th>\n",
       "      <th>Eclipse_Magnitude</th>\n",
       "      <th>Latitude</th>\n",
       "      <th>Longitude</th>\n",
       "      <th>Sun_Altitude</th>\n",
       "      <th>Sun_Azimuth</th>\n",
       "      <th>Path_Width_(km)</th>\n",
       "      <th>Central_Duration</th>\n",
       "      <th>Latitude_Number</th>\n",
       "      <th>Latitude_Letter</th>\n",
       "    </tr>\n",
       "  </thead>\n",
       "  <tbody>\n",
       "    <tr>\n",
       "      <td>0</td>\n",
       "      <td>1</td>\n",
       "      <td>-1999 June 12</td>\n",
       "      <td>03:14:51</td>\n",
       "      <td>46438</td>\n",
       "      <td>-49456</td>\n",
       "      <td>5</td>\n",
       "      <td>T</td>\n",
       "      <td>-0.2701</td>\n",
       "      <td>1.0733</td>\n",
       "      <td>6.0N</td>\n",
       "      <td>33.3W</td>\n",
       "      <td>74</td>\n",
       "      <td>344</td>\n",
       "      <td>247</td>\n",
       "      <td>06m37s</td>\n",
       "      <td>6.0</td>\n",
       "      <td>N</td>\n",
       "    </tr>\n",
       "    <tr>\n",
       "      <td>1</td>\n",
       "      <td>2</td>\n",
       "      <td>-1999 December 5</td>\n",
       "      <td>23:45:23</td>\n",
       "      <td>46426</td>\n",
       "      <td>-49450</td>\n",
       "      <td>10</td>\n",
       "      <td>A</td>\n",
       "      <td>-0.2317</td>\n",
       "      <td>0.9382</td>\n",
       "      <td>32.9S</td>\n",
       "      <td>10.8E</td>\n",
       "      <td>76</td>\n",
       "      <td>21</td>\n",
       "      <td>236</td>\n",
       "      <td>06m44s</td>\n",
       "      <td>32.9</td>\n",
       "      <td>S</td>\n",
       "    </tr>\n",
       "    <tr>\n",
       "      <td>2</td>\n",
       "      <td>3</td>\n",
       "      <td>-1998 June 1</td>\n",
       "      <td>18:09:16</td>\n",
       "      <td>46415</td>\n",
       "      <td>-49444</td>\n",
       "      <td>15</td>\n",
       "      <td>T</td>\n",
       "      <td>0.4994</td>\n",
       "      <td>1.0284</td>\n",
       "      <td>46.2N</td>\n",
       "      <td>83.4E</td>\n",
       "      <td>60</td>\n",
       "      <td>151</td>\n",
       "      <td>111</td>\n",
       "      <td>02m15s</td>\n",
       "      <td>46.2</td>\n",
       "      <td>N</td>\n",
       "    </tr>\n",
       "    <tr>\n",
       "      <td>3</td>\n",
       "      <td>4</td>\n",
       "      <td>-1998 November 25</td>\n",
       "      <td>05:57:03</td>\n",
       "      <td>46403</td>\n",
       "      <td>-49438</td>\n",
       "      <td>20</td>\n",
       "      <td>A</td>\n",
       "      <td>-0.9045</td>\n",
       "      <td>0.9806</td>\n",
       "      <td>67.8S</td>\n",
       "      <td>143.8W</td>\n",
       "      <td>25</td>\n",
       "      <td>74</td>\n",
       "      <td>162</td>\n",
       "      <td>01m14s</td>\n",
       "      <td>67.8</td>\n",
       "      <td>S</td>\n",
       "    </tr>\n",
       "    <tr>\n",
       "      <td>4</td>\n",
       "      <td>5</td>\n",
       "      <td>-1997 April 22</td>\n",
       "      <td>13:19:56</td>\n",
       "      <td>46393</td>\n",
       "      <td>-49433</td>\n",
       "      <td>-13</td>\n",
       "      <td>P</td>\n",
       "      <td>-1.4670</td>\n",
       "      <td>0.1611</td>\n",
       "      <td>60.6S</td>\n",
       "      <td>106.4W</td>\n",
       "      <td>0</td>\n",
       "      <td>281</td>\n",
       "      <td>NaN</td>\n",
       "      <td>NaN</td>\n",
       "      <td>60.6</td>\n",
       "      <td>S</td>\n",
       "    </tr>\n",
       "  </tbody>\n",
       "</table>\n",
       "</div>"
      ],
      "text/plain": [
       "   Catalog_Number      Calendar_Date Eclipse_Time  Delta_T_(s)  \\\n",
       "0               1      -1999 June 12     03:14:51        46438   \n",
       "1               2   -1999 December 5     23:45:23        46426   \n",
       "2               3       -1998 June 1     18:09:16        46415   \n",
       "3               4  -1998 November 25     05:57:03        46403   \n",
       "4               5     -1997 April 22     13:19:56        46393   \n",
       "\n",
       "   Lunation_Number  Saros_Number Eclipse_Type   Gamma  Eclipse_Magnitude  \\\n",
       "0           -49456             5            T -0.2701             1.0733   \n",
       "1           -49450            10            A -0.2317             0.9382   \n",
       "2           -49444            15            T  0.4994             1.0284   \n",
       "3           -49438            20            A -0.9045             0.9806   \n",
       "4           -49433           -13            P -1.4670             0.1611   \n",
       "\n",
       "  Latitude Longitude  Sun_Altitude  Sun_Azimuth Path_Width_(km)  \\\n",
       "0     6.0N     33.3W            74          344             247   \n",
       "1    32.9S     10.8E            76           21             236   \n",
       "2    46.2N     83.4E            60          151             111   \n",
       "3    67.8S    143.8W            25           74             162   \n",
       "4    60.6S    106.4W             0          281             NaN   \n",
       "\n",
       "  Central_Duration Latitude_Number Latitude_Letter  \n",
       "0           06m37s             6.0               N  \n",
       "1           06m44s            32.9               S  \n",
       "2           02m15s            46.2               N  \n",
       "3           01m14s            67.8               S  \n",
       "4              NaN            60.6               S  "
      ]
     },
     "execution_count": 93,
     "metadata": {},
     "output_type": "execute_result"
    }
   ],
   "source": [
    "# Using regex to separate Latitude & Longitude columns\n",
    "\n",
    "import re\n",
    "\n",
    "solar['Latitude_Number'] = solar['Latitude'].str.replace('([A-Z]+)', '')\n",
    "solar['Latitude_Letter'] = solar['Latitude'].str.extract('([A-Z]+)')\n",
    "solar.head()"
   ]
  },
  {
   "cell_type": "code",
   "execution_count": null,
   "metadata": {},
   "outputs": [],
   "source": []
  },
  {
   "cell_type": "code",
   "execution_count": 94,
   "metadata": {},
   "outputs": [
    {
     "data": {
      "text/html": [
       "<div>\n",
       "<style scoped>\n",
       "    .dataframe tbody tr th:only-of-type {\n",
       "        vertical-align: middle;\n",
       "    }\n",
       "\n",
       "    .dataframe tbody tr th {\n",
       "        vertical-align: top;\n",
       "    }\n",
       "\n",
       "    .dataframe thead th {\n",
       "        text-align: right;\n",
       "    }\n",
       "</style>\n",
       "<table border=\"1\" class=\"dataframe\">\n",
       "  <thead>\n",
       "    <tr style=\"text-align: right;\">\n",
       "      <th></th>\n",
       "      <th>Catalog_Number</th>\n",
       "      <th>Calendar_Date</th>\n",
       "      <th>Eclipse_Time</th>\n",
       "      <th>Delta_T_(s)</th>\n",
       "      <th>Lunation_Number</th>\n",
       "      <th>Saros_Number</th>\n",
       "      <th>Eclipse_Type</th>\n",
       "      <th>Gamma</th>\n",
       "      <th>Eclipse_Magnitude</th>\n",
       "      <th>Latitude</th>\n",
       "      <th>Longitude</th>\n",
       "      <th>Sun_Altitude</th>\n",
       "      <th>Sun_Azimuth</th>\n",
       "      <th>Path_Width_(km)</th>\n",
       "      <th>Central_Duration</th>\n",
       "      <th>Latitude_Number</th>\n",
       "      <th>Latitude_Letter</th>\n",
       "      <th>Longitude_Number</th>\n",
       "      <th>Longitude_Letter</th>\n",
       "    </tr>\n",
       "  </thead>\n",
       "  <tbody>\n",
       "    <tr>\n",
       "      <td>0</td>\n",
       "      <td>1</td>\n",
       "      <td>-1999 June 12</td>\n",
       "      <td>03:14:51</td>\n",
       "      <td>46438</td>\n",
       "      <td>-49456</td>\n",
       "      <td>5</td>\n",
       "      <td>T</td>\n",
       "      <td>-0.2701</td>\n",
       "      <td>1.0733</td>\n",
       "      <td>6.0N</td>\n",
       "      <td>33.3W</td>\n",
       "      <td>74</td>\n",
       "      <td>344</td>\n",
       "      <td>247</td>\n",
       "      <td>06m37s</td>\n",
       "      <td>6.0</td>\n",
       "      <td>N</td>\n",
       "      <td>33.3</td>\n",
       "      <td>W</td>\n",
       "    </tr>\n",
       "    <tr>\n",
       "      <td>1</td>\n",
       "      <td>2</td>\n",
       "      <td>-1999 December 5</td>\n",
       "      <td>23:45:23</td>\n",
       "      <td>46426</td>\n",
       "      <td>-49450</td>\n",
       "      <td>10</td>\n",
       "      <td>A</td>\n",
       "      <td>-0.2317</td>\n",
       "      <td>0.9382</td>\n",
       "      <td>32.9S</td>\n",
       "      <td>10.8E</td>\n",
       "      <td>76</td>\n",
       "      <td>21</td>\n",
       "      <td>236</td>\n",
       "      <td>06m44s</td>\n",
       "      <td>32.9</td>\n",
       "      <td>S</td>\n",
       "      <td>10.8</td>\n",
       "      <td>E</td>\n",
       "    </tr>\n",
       "    <tr>\n",
       "      <td>2</td>\n",
       "      <td>3</td>\n",
       "      <td>-1998 June 1</td>\n",
       "      <td>18:09:16</td>\n",
       "      <td>46415</td>\n",
       "      <td>-49444</td>\n",
       "      <td>15</td>\n",
       "      <td>T</td>\n",
       "      <td>0.4994</td>\n",
       "      <td>1.0284</td>\n",
       "      <td>46.2N</td>\n",
       "      <td>83.4E</td>\n",
       "      <td>60</td>\n",
       "      <td>151</td>\n",
       "      <td>111</td>\n",
       "      <td>02m15s</td>\n",
       "      <td>46.2</td>\n",
       "      <td>N</td>\n",
       "      <td>83.4</td>\n",
       "      <td>E</td>\n",
       "    </tr>\n",
       "    <tr>\n",
       "      <td>3</td>\n",
       "      <td>4</td>\n",
       "      <td>-1998 November 25</td>\n",
       "      <td>05:57:03</td>\n",
       "      <td>46403</td>\n",
       "      <td>-49438</td>\n",
       "      <td>20</td>\n",
       "      <td>A</td>\n",
       "      <td>-0.9045</td>\n",
       "      <td>0.9806</td>\n",
       "      <td>67.8S</td>\n",
       "      <td>143.8W</td>\n",
       "      <td>25</td>\n",
       "      <td>74</td>\n",
       "      <td>162</td>\n",
       "      <td>01m14s</td>\n",
       "      <td>67.8</td>\n",
       "      <td>S</td>\n",
       "      <td>143.8</td>\n",
       "      <td>W</td>\n",
       "    </tr>\n",
       "    <tr>\n",
       "      <td>4</td>\n",
       "      <td>5</td>\n",
       "      <td>-1997 April 22</td>\n",
       "      <td>13:19:56</td>\n",
       "      <td>46393</td>\n",
       "      <td>-49433</td>\n",
       "      <td>-13</td>\n",
       "      <td>P</td>\n",
       "      <td>-1.4670</td>\n",
       "      <td>0.1611</td>\n",
       "      <td>60.6S</td>\n",
       "      <td>106.4W</td>\n",
       "      <td>0</td>\n",
       "      <td>281</td>\n",
       "      <td>NaN</td>\n",
       "      <td>NaN</td>\n",
       "      <td>60.6</td>\n",
       "      <td>S</td>\n",
       "      <td>106.4</td>\n",
       "      <td>W</td>\n",
       "    </tr>\n",
       "  </tbody>\n",
       "</table>\n",
       "</div>"
      ],
      "text/plain": [
       "   Catalog_Number      Calendar_Date Eclipse_Time  Delta_T_(s)  \\\n",
       "0               1      -1999 June 12     03:14:51        46438   \n",
       "1               2   -1999 December 5     23:45:23        46426   \n",
       "2               3       -1998 June 1     18:09:16        46415   \n",
       "3               4  -1998 November 25     05:57:03        46403   \n",
       "4               5     -1997 April 22     13:19:56        46393   \n",
       "\n",
       "   Lunation_Number  Saros_Number Eclipse_Type   Gamma  Eclipse_Magnitude  \\\n",
       "0           -49456             5            T -0.2701             1.0733   \n",
       "1           -49450            10            A -0.2317             0.9382   \n",
       "2           -49444            15            T  0.4994             1.0284   \n",
       "3           -49438            20            A -0.9045             0.9806   \n",
       "4           -49433           -13            P -1.4670             0.1611   \n",
       "\n",
       "  Latitude Longitude  Sun_Altitude  Sun_Azimuth Path_Width_(km)  \\\n",
       "0     6.0N     33.3W            74          344             247   \n",
       "1    32.9S     10.8E            76           21             236   \n",
       "2    46.2N     83.4E            60          151             111   \n",
       "3    67.8S    143.8W            25           74             162   \n",
       "4    60.6S    106.4W             0          281             NaN   \n",
       "\n",
       "  Central_Duration Latitude_Number Latitude_Letter Longitude_Number  \\\n",
       "0           06m37s             6.0               N             33.3   \n",
       "1           06m44s            32.9               S             10.8   \n",
       "2           02m15s            46.2               N             83.4   \n",
       "3           01m14s            67.8               S            143.8   \n",
       "4              NaN            60.6               S            106.4   \n",
       "\n",
       "  Longitude_Letter  \n",
       "0                W  \n",
       "1                E  \n",
       "2                E  \n",
       "3                W  \n",
       "4                W  "
      ]
     },
     "execution_count": 94,
     "metadata": {},
     "output_type": "execute_result"
    }
   ],
   "source": [
    "# Same with Logitude\n",
    "\n",
    "solar['Longitude_Number'] = solar['Longitude'].str.replace('([A-Z]+)', '')\n",
    "solar['Longitude_Letter'] = solar['Longitude'].str.extract('([A-Z]+)')\n",
    "solar.head()"
   ]
  },
  {
   "cell_type": "code",
   "execution_count": null,
   "metadata": {},
   "outputs": [],
   "source": []
  },
  {
   "cell_type": "code",
   "execution_count": 95,
   "metadata": {},
   "outputs": [
    {
     "data": {
      "text/html": [
       "<div>\n",
       "<style scoped>\n",
       "    .dataframe tbody tr th:only-of-type {\n",
       "        vertical-align: middle;\n",
       "    }\n",
       "\n",
       "    .dataframe tbody tr th {\n",
       "        vertical-align: top;\n",
       "    }\n",
       "\n",
       "    .dataframe thead th {\n",
       "        text-align: right;\n",
       "    }\n",
       "</style>\n",
       "<table border=\"1\" class=\"dataframe\">\n",
       "  <thead>\n",
       "    <tr style=\"text-align: right;\">\n",
       "      <th></th>\n",
       "      <th>Catalog_Number</th>\n",
       "      <th>Calendar_Date</th>\n",
       "      <th>Eclipse_Time</th>\n",
       "      <th>Delta_T_(s)</th>\n",
       "      <th>Lunation_Number</th>\n",
       "      <th>Saros_Number</th>\n",
       "      <th>Eclipse_Type</th>\n",
       "      <th>Gamma</th>\n",
       "      <th>Eclipse_Magnitude</th>\n",
       "      <th>Sun_Altitude</th>\n",
       "      <th>Sun_Azimuth</th>\n",
       "      <th>Path_Width_(km)</th>\n",
       "      <th>Central_Duration</th>\n",
       "      <th>Latitude_Number</th>\n",
       "      <th>Latitude_Letter</th>\n",
       "      <th>Longitude_Number</th>\n",
       "      <th>Longitude_Letter</th>\n",
       "    </tr>\n",
       "  </thead>\n",
       "  <tbody>\n",
       "    <tr>\n",
       "      <td>0</td>\n",
       "      <td>1</td>\n",
       "      <td>-1999 June 12</td>\n",
       "      <td>03:14:51</td>\n",
       "      <td>46438</td>\n",
       "      <td>-49456</td>\n",
       "      <td>5</td>\n",
       "      <td>T</td>\n",
       "      <td>-0.2701</td>\n",
       "      <td>1.0733</td>\n",
       "      <td>74</td>\n",
       "      <td>344</td>\n",
       "      <td>247</td>\n",
       "      <td>06m37s</td>\n",
       "      <td>6.0</td>\n",
       "      <td>N</td>\n",
       "      <td>33.3</td>\n",
       "      <td>W</td>\n",
       "    </tr>\n",
       "    <tr>\n",
       "      <td>1</td>\n",
       "      <td>2</td>\n",
       "      <td>-1999 December 5</td>\n",
       "      <td>23:45:23</td>\n",
       "      <td>46426</td>\n",
       "      <td>-49450</td>\n",
       "      <td>10</td>\n",
       "      <td>A</td>\n",
       "      <td>-0.2317</td>\n",
       "      <td>0.9382</td>\n",
       "      <td>76</td>\n",
       "      <td>21</td>\n",
       "      <td>236</td>\n",
       "      <td>06m44s</td>\n",
       "      <td>32.9</td>\n",
       "      <td>S</td>\n",
       "      <td>10.8</td>\n",
       "      <td>E</td>\n",
       "    </tr>\n",
       "    <tr>\n",
       "      <td>2</td>\n",
       "      <td>3</td>\n",
       "      <td>-1998 June 1</td>\n",
       "      <td>18:09:16</td>\n",
       "      <td>46415</td>\n",
       "      <td>-49444</td>\n",
       "      <td>15</td>\n",
       "      <td>T</td>\n",
       "      <td>0.4994</td>\n",
       "      <td>1.0284</td>\n",
       "      <td>60</td>\n",
       "      <td>151</td>\n",
       "      <td>111</td>\n",
       "      <td>02m15s</td>\n",
       "      <td>46.2</td>\n",
       "      <td>N</td>\n",
       "      <td>83.4</td>\n",
       "      <td>E</td>\n",
       "    </tr>\n",
       "    <tr>\n",
       "      <td>3</td>\n",
       "      <td>4</td>\n",
       "      <td>-1998 November 25</td>\n",
       "      <td>05:57:03</td>\n",
       "      <td>46403</td>\n",
       "      <td>-49438</td>\n",
       "      <td>20</td>\n",
       "      <td>A</td>\n",
       "      <td>-0.9045</td>\n",
       "      <td>0.9806</td>\n",
       "      <td>25</td>\n",
       "      <td>74</td>\n",
       "      <td>162</td>\n",
       "      <td>01m14s</td>\n",
       "      <td>67.8</td>\n",
       "      <td>S</td>\n",
       "      <td>143.8</td>\n",
       "      <td>W</td>\n",
       "    </tr>\n",
       "    <tr>\n",
       "      <td>4</td>\n",
       "      <td>5</td>\n",
       "      <td>-1997 April 22</td>\n",
       "      <td>13:19:56</td>\n",
       "      <td>46393</td>\n",
       "      <td>-49433</td>\n",
       "      <td>-13</td>\n",
       "      <td>P</td>\n",
       "      <td>-1.4670</td>\n",
       "      <td>0.1611</td>\n",
       "      <td>0</td>\n",
       "      <td>281</td>\n",
       "      <td>NaN</td>\n",
       "      <td>NaN</td>\n",
       "      <td>60.6</td>\n",
       "      <td>S</td>\n",
       "      <td>106.4</td>\n",
       "      <td>W</td>\n",
       "    </tr>\n",
       "  </tbody>\n",
       "</table>\n",
       "</div>"
      ],
      "text/plain": [
       "   Catalog_Number      Calendar_Date Eclipse_Time  Delta_T_(s)  \\\n",
       "0               1      -1999 June 12     03:14:51        46438   \n",
       "1               2   -1999 December 5     23:45:23        46426   \n",
       "2               3       -1998 June 1     18:09:16        46415   \n",
       "3               4  -1998 November 25     05:57:03        46403   \n",
       "4               5     -1997 April 22     13:19:56        46393   \n",
       "\n",
       "   Lunation_Number  Saros_Number Eclipse_Type   Gamma  Eclipse_Magnitude  \\\n",
       "0           -49456             5            T -0.2701             1.0733   \n",
       "1           -49450            10            A -0.2317             0.9382   \n",
       "2           -49444            15            T  0.4994             1.0284   \n",
       "3           -49438            20            A -0.9045             0.9806   \n",
       "4           -49433           -13            P -1.4670             0.1611   \n",
       "\n",
       "   Sun_Altitude  Sun_Azimuth Path_Width_(km) Central_Duration Latitude_Number  \\\n",
       "0            74          344             247           06m37s             6.0   \n",
       "1            76           21             236           06m44s            32.9   \n",
       "2            60          151             111           02m15s            46.2   \n",
       "3            25           74             162           01m14s            67.8   \n",
       "4             0          281             NaN              NaN            60.6   \n",
       "\n",
       "  Latitude_Letter Longitude_Number Longitude_Letter  \n",
       "0               N             33.3                W  \n",
       "1               S             10.8                E  \n",
       "2               N             83.4                E  \n",
       "3               S            143.8                W  \n",
       "4               S            106.4                W  "
      ]
     },
     "execution_count": 95,
     "metadata": {},
     "output_type": "execute_result"
    }
   ],
   "source": [
    "# Dropping original Latitude & Longitude columns \n",
    "\n",
    "solar.drop(columns =[\"Latitude\", \"Longitude\"], inplace = True) \n",
    "solar.head()"
   ]
  },
  {
   "cell_type": "code",
   "execution_count": null,
   "metadata": {},
   "outputs": [],
   "source": []
  },
  {
   "cell_type": "code",
   "execution_count": 96,
   "metadata": {},
   "outputs": [
    {
     "data": {
      "text/plain": [
       "Catalog_Number          0\n",
       "Calendar_Date           0\n",
       "Eclipse_Time            0\n",
       "Delta_T_(s)             0\n",
       "Lunation_Number         0\n",
       "Saros_Number            0\n",
       "Eclipse_Type            0\n",
       "Gamma                   0\n",
       "Eclipse_Magnitude       0\n",
       "Sun_Altitude            0\n",
       "Sun_Azimuth             0\n",
       "Path_Width_(km)      4200\n",
       "Central_Duration     4200\n",
       "Latitude_Number         0\n",
       "Latitude_Letter         0\n",
       "Longitude_Number        0\n",
       "Longitude_Letter        0\n",
       "dtype: int64"
      ]
     },
     "execution_count": 96,
     "metadata": {},
     "output_type": "execute_result"
    }
   ],
   "source": [
    "solar.isnull().sum()"
   ]
  },
  {
   "cell_type": "code",
   "execution_count": null,
   "metadata": {},
   "outputs": [],
   "source": []
  },
  {
   "cell_type": "code",
   "execution_count": 97,
   "metadata": {},
   "outputs": [
    {
     "data": {
      "text/plain": [
       "Catalog_Number       0.00000\n",
       "Calendar_Date        0.00000\n",
       "Eclipse_Time         0.00000\n",
       "Delta_T_(s)          0.00000\n",
       "Lunation_Number      0.00000\n",
       "Saros_Number         0.00000\n",
       "Eclipse_Type         0.00000\n",
       "Gamma                0.00000\n",
       "Eclipse_Magnitude    0.00000\n",
       "Sun_Altitude         0.00000\n",
       "Sun_Azimuth          0.00000\n",
       "Path_Width_(km)      0.37073\n",
       "Central_Duration     0.37073\n",
       "Latitude_Number      0.00000\n",
       "Latitude_Letter      0.00000\n",
       "Longitude_Number     0.00000\n",
       "Longitude_Letter     0.00000\n",
       "dtype: float64"
      ]
     },
     "execution_count": 97,
     "metadata": {},
     "output_type": "execute_result"
    }
   ],
   "source": [
    "# how much correlation do the columns with Null have\n",
    "\n",
    "solar.isnull().sum() / solar.shape[0]"
   ]
  },
  {
   "cell_type": "code",
   "execution_count": null,
   "metadata": {},
   "outputs": [],
   "source": []
  },
  {
   "cell_type": "code",
   "execution_count": 98,
   "metadata": {},
   "outputs": [],
   "source": [
    "# Need to drop 2 columns with high missing null values\n",
    "\n",
    "solar = solar.drop([\"Path_Width_(km)\", \"Central_Duration\"], axis=1)"
   ]
  },
  {
   "cell_type": "code",
   "execution_count": null,
   "metadata": {},
   "outputs": [],
   "source": []
  },
  {
   "cell_type": "code",
   "execution_count": 99,
   "metadata": {},
   "outputs": [],
   "source": [
    "# Also drop 'Catalog_Number' column since it is just like the index, hence unnecessary\n",
    "\n",
    "solar = solar.drop([\"Catalog_Number\"], axis=1)"
   ]
  },
  {
   "cell_type": "code",
   "execution_count": null,
   "metadata": {},
   "outputs": [],
   "source": []
  },
  {
   "cell_type": "code",
   "execution_count": 100,
   "metadata": {},
   "outputs": [
    {
     "data": {
      "text/html": [
       "<div>\n",
       "<style scoped>\n",
       "    .dataframe tbody tr th:only-of-type {\n",
       "        vertical-align: middle;\n",
       "    }\n",
       "\n",
       "    .dataframe tbody tr th {\n",
       "        vertical-align: top;\n",
       "    }\n",
       "\n",
       "    .dataframe thead th {\n",
       "        text-align: right;\n",
       "    }\n",
       "</style>\n",
       "<table border=\"1\" class=\"dataframe\">\n",
       "  <thead>\n",
       "    <tr style=\"text-align: right;\">\n",
       "      <th></th>\n",
       "      <th>Calendar_Date</th>\n",
       "      <th>Eclipse_Time</th>\n",
       "      <th>Delta_T_(s)</th>\n",
       "      <th>Lunation_Number</th>\n",
       "      <th>Saros_Number</th>\n",
       "      <th>Eclipse_Type</th>\n",
       "      <th>Gamma</th>\n",
       "      <th>Eclipse_Magnitude</th>\n",
       "      <th>Sun_Altitude</th>\n",
       "      <th>Sun_Azimuth</th>\n",
       "      <th>Latitude_Number</th>\n",
       "      <th>Latitude_Letter</th>\n",
       "      <th>Longitude_Number</th>\n",
       "      <th>Longitude_Letter</th>\n",
       "    </tr>\n",
       "  </thead>\n",
       "  <tbody>\n",
       "    <tr>\n",
       "      <td>0</td>\n",
       "      <td>-1999 June 12</td>\n",
       "      <td>03:14:51</td>\n",
       "      <td>46438</td>\n",
       "      <td>-49456</td>\n",
       "      <td>5</td>\n",
       "      <td>T</td>\n",
       "      <td>-0.2701</td>\n",
       "      <td>1.0733</td>\n",
       "      <td>74</td>\n",
       "      <td>344</td>\n",
       "      <td>6.0</td>\n",
       "      <td>N</td>\n",
       "      <td>33.3</td>\n",
       "      <td>W</td>\n",
       "    </tr>\n",
       "    <tr>\n",
       "      <td>1</td>\n",
       "      <td>-1999 December 5</td>\n",
       "      <td>23:45:23</td>\n",
       "      <td>46426</td>\n",
       "      <td>-49450</td>\n",
       "      <td>10</td>\n",
       "      <td>A</td>\n",
       "      <td>-0.2317</td>\n",
       "      <td>0.9382</td>\n",
       "      <td>76</td>\n",
       "      <td>21</td>\n",
       "      <td>32.9</td>\n",
       "      <td>S</td>\n",
       "      <td>10.8</td>\n",
       "      <td>E</td>\n",
       "    </tr>\n",
       "    <tr>\n",
       "      <td>2</td>\n",
       "      <td>-1998 June 1</td>\n",
       "      <td>18:09:16</td>\n",
       "      <td>46415</td>\n",
       "      <td>-49444</td>\n",
       "      <td>15</td>\n",
       "      <td>T</td>\n",
       "      <td>0.4994</td>\n",
       "      <td>1.0284</td>\n",
       "      <td>60</td>\n",
       "      <td>151</td>\n",
       "      <td>46.2</td>\n",
       "      <td>N</td>\n",
       "      <td>83.4</td>\n",
       "      <td>E</td>\n",
       "    </tr>\n",
       "    <tr>\n",
       "      <td>3</td>\n",
       "      <td>-1998 November 25</td>\n",
       "      <td>05:57:03</td>\n",
       "      <td>46403</td>\n",
       "      <td>-49438</td>\n",
       "      <td>20</td>\n",
       "      <td>A</td>\n",
       "      <td>-0.9045</td>\n",
       "      <td>0.9806</td>\n",
       "      <td>25</td>\n",
       "      <td>74</td>\n",
       "      <td>67.8</td>\n",
       "      <td>S</td>\n",
       "      <td>143.8</td>\n",
       "      <td>W</td>\n",
       "    </tr>\n",
       "    <tr>\n",
       "      <td>4</td>\n",
       "      <td>-1997 April 22</td>\n",
       "      <td>13:19:56</td>\n",
       "      <td>46393</td>\n",
       "      <td>-49433</td>\n",
       "      <td>-13</td>\n",
       "      <td>P</td>\n",
       "      <td>-1.4670</td>\n",
       "      <td>0.1611</td>\n",
       "      <td>0</td>\n",
       "      <td>281</td>\n",
       "      <td>60.6</td>\n",
       "      <td>S</td>\n",
       "      <td>106.4</td>\n",
       "      <td>W</td>\n",
       "    </tr>\n",
       "  </tbody>\n",
       "</table>\n",
       "</div>"
      ],
      "text/plain": [
       "       Calendar_Date Eclipse_Time  Delta_T_(s)  Lunation_Number  Saros_Number  \\\n",
       "0      -1999 June 12     03:14:51        46438           -49456             5   \n",
       "1   -1999 December 5     23:45:23        46426           -49450            10   \n",
       "2       -1998 June 1     18:09:16        46415           -49444            15   \n",
       "3  -1998 November 25     05:57:03        46403           -49438            20   \n",
       "4     -1997 April 22     13:19:56        46393           -49433           -13   \n",
       "\n",
       "  Eclipse_Type   Gamma  Eclipse_Magnitude  Sun_Altitude  Sun_Azimuth  \\\n",
       "0            T -0.2701             1.0733            74          344   \n",
       "1            A -0.2317             0.9382            76           21   \n",
       "2            T  0.4994             1.0284            60          151   \n",
       "3            A -0.9045             0.9806            25           74   \n",
       "4            P -1.4670             0.1611             0          281   \n",
       "\n",
       "  Latitude_Number Latitude_Letter Longitude_Number Longitude_Letter  \n",
       "0             6.0               N             33.3                W  \n",
       "1            32.9               S             10.8                E  \n",
       "2            46.2               N             83.4                E  \n",
       "3            67.8               S            143.8                W  \n",
       "4            60.6               S            106.4                W  "
      ]
     },
     "execution_count": 100,
     "metadata": {},
     "output_type": "execute_result"
    }
   ],
   "source": [
    "solar.head()"
   ]
  },
  {
   "cell_type": "code",
   "execution_count": null,
   "metadata": {},
   "outputs": [],
   "source": []
  },
  {
   "cell_type": "code",
   "execution_count": 101,
   "metadata": {},
   "outputs": [
    {
     "data": {
      "text/plain": [
       "14"
      ]
     },
     "execution_count": 101,
     "metadata": {},
     "output_type": "execute_result"
    }
   ],
   "source": [
    "len(solar.columns)"
   ]
  },
  {
   "cell_type": "code",
   "execution_count": null,
   "metadata": {},
   "outputs": [],
   "source": []
  },
  {
   "cell_type": "code",
   "execution_count": 102,
   "metadata": {},
   "outputs": [
    {
     "data": {
      "text/html": [
       "<div>\n",
       "<style scoped>\n",
       "    .dataframe tbody tr th:only-of-type {\n",
       "        vertical-align: middle;\n",
       "    }\n",
       "\n",
       "    .dataframe tbody tr th {\n",
       "        vertical-align: top;\n",
       "    }\n",
       "\n",
       "    .dataframe thead th {\n",
       "        text-align: right;\n",
       "    }\n",
       "</style>\n",
       "<table border=\"1\" class=\"dataframe\">\n",
       "  <thead>\n",
       "    <tr style=\"text-align: right;\">\n",
       "      <th></th>\n",
       "      <th>Calendar_Date</th>\n",
       "      <th>Eclipse_Time</th>\n",
       "      <th>Eclipse_Type</th>\n",
       "      <th>Latitude_Number</th>\n",
       "      <th>Latitude_Letter</th>\n",
       "      <th>Longitude_Number</th>\n",
       "      <th>Longitude_Letter</th>\n",
       "    </tr>\n",
       "  </thead>\n",
       "  <tbody>\n",
       "    <tr>\n",
       "      <td>0</td>\n",
       "      <td>-1999 June 12</td>\n",
       "      <td>03:14:51</td>\n",
       "      <td>T</td>\n",
       "      <td>6.0</td>\n",
       "      <td>N</td>\n",
       "      <td>33.3</td>\n",
       "      <td>W</td>\n",
       "    </tr>\n",
       "    <tr>\n",
       "      <td>1</td>\n",
       "      <td>-1999 December 5</td>\n",
       "      <td>23:45:23</td>\n",
       "      <td>A</td>\n",
       "      <td>32.9</td>\n",
       "      <td>S</td>\n",
       "      <td>10.8</td>\n",
       "      <td>E</td>\n",
       "    </tr>\n",
       "    <tr>\n",
       "      <td>2</td>\n",
       "      <td>-1998 June 1</td>\n",
       "      <td>18:09:16</td>\n",
       "      <td>T</td>\n",
       "      <td>46.2</td>\n",
       "      <td>N</td>\n",
       "      <td>83.4</td>\n",
       "      <td>E</td>\n",
       "    </tr>\n",
       "    <tr>\n",
       "      <td>3</td>\n",
       "      <td>-1998 November 25</td>\n",
       "      <td>05:57:03</td>\n",
       "      <td>A</td>\n",
       "      <td>67.8</td>\n",
       "      <td>S</td>\n",
       "      <td>143.8</td>\n",
       "      <td>W</td>\n",
       "    </tr>\n",
       "    <tr>\n",
       "      <td>4</td>\n",
       "      <td>-1997 April 22</td>\n",
       "      <td>13:19:56</td>\n",
       "      <td>P</td>\n",
       "      <td>60.6</td>\n",
       "      <td>S</td>\n",
       "      <td>106.4</td>\n",
       "      <td>W</td>\n",
       "    </tr>\n",
       "    <tr>\n",
       "      <td>...</td>\n",
       "      <td>...</td>\n",
       "      <td>...</td>\n",
       "      <td>...</td>\n",
       "      <td>...</td>\n",
       "      <td>...</td>\n",
       "      <td>...</td>\n",
       "      <td>...</td>\n",
       "    </tr>\n",
       "    <tr>\n",
       "      <td>11892</td>\n",
       "      <td>2998 June 15</td>\n",
       "      <td>14:49:27</td>\n",
       "      <td>P</td>\n",
       "      <td>66.5</td>\n",
       "      <td>S</td>\n",
       "      <td>32.5</td>\n",
       "      <td>W</td>\n",
       "    </tr>\n",
       "    <tr>\n",
       "      <td>11893</td>\n",
       "      <td>2998 December 10</td>\n",
       "      <td>03:18:31</td>\n",
       "      <td>P</td>\n",
       "      <td>67.2</td>\n",
       "      <td>N</td>\n",
       "      <td>145.0</td>\n",
       "      <td>E</td>\n",
       "    </tr>\n",
       "    <tr>\n",
       "      <td>11894</td>\n",
       "      <td>2999 May 6</td>\n",
       "      <td>23:23:57</td>\n",
       "      <td>T</td>\n",
       "      <td>71.5</td>\n",
       "      <td>N</td>\n",
       "      <td>177.3</td>\n",
       "      <td>E</td>\n",
       "    </tr>\n",
       "    <tr>\n",
       "      <td>11895</td>\n",
       "      <td>2999 October 30</td>\n",
       "      <td>09:34:33</td>\n",
       "      <td>A</td>\n",
       "      <td>70.9</td>\n",
       "      <td>S</td>\n",
       "      <td>84.7</td>\n",
       "      <td>W</td>\n",
       "    </tr>\n",
       "    <tr>\n",
       "      <td>11896</td>\n",
       "      <td>3000 April 26</td>\n",
       "      <td>14:18:06</td>\n",
       "      <td>T</td>\n",
       "      <td>21.1</td>\n",
       "      <td>N</td>\n",
       "      <td>18.4</td>\n",
       "      <td>W</td>\n",
       "    </tr>\n",
       "  </tbody>\n",
       "</table>\n",
       "<p>11329 rows × 7 columns</p>\n",
       "</div>"
      ],
      "text/plain": [
       "           Calendar_Date Eclipse_Time Eclipse_Type Latitude_Number  \\\n",
       "0          -1999 June 12     03:14:51            T             6.0   \n",
       "1       -1999 December 5     23:45:23            A            32.9   \n",
       "2           -1998 June 1     18:09:16            T            46.2   \n",
       "3      -1998 November 25     05:57:03            A            67.8   \n",
       "4         -1997 April 22     13:19:56            P            60.6   \n",
       "...                  ...          ...          ...             ...   \n",
       "11892       2998 June 15     14:49:27            P            66.5   \n",
       "11893   2998 December 10     03:18:31            P            67.2   \n",
       "11894         2999 May 6     23:23:57            T            71.5   \n",
       "11895    2999 October 30     09:34:33            A            70.9   \n",
       "11896      3000 April 26     14:18:06            T            21.1   \n",
       "\n",
       "      Latitude_Letter Longitude_Number Longitude_Letter  \n",
       "0                   N             33.3                W  \n",
       "1                   S             10.8                E  \n",
       "2                   N             83.4                E  \n",
       "3                   S            143.8                W  \n",
       "4                   S            106.4                W  \n",
       "...               ...              ...              ...  \n",
       "11892               S             32.5                W  \n",
       "11893               N            145.0                E  \n",
       "11894               N            177.3                E  \n",
       "11895               S             84.7                W  \n",
       "11896               N             18.4                W  \n",
       "\n",
       "[11329 rows x 7 columns]"
      ]
     },
     "execution_count": 102,
     "metadata": {},
     "output_type": "execute_result"
    }
   ],
   "source": [
    "SolarCategoricals = solar.select_dtypes(object)\n",
    "SolarCategoricals"
   ]
  },
  {
   "cell_type": "code",
   "execution_count": null,
   "metadata": {},
   "outputs": [],
   "source": []
  },
  {
   "cell_type": "code",
   "execution_count": null,
   "metadata": {},
   "outputs": [],
   "source": [
    "# Need to convert Latitude_Number & Longitude_Number to float64 type"
   ]
  },
  {
   "cell_type": "code",
   "execution_count": 103,
   "metadata": {},
   "outputs": [
    {
     "data": {
      "text/html": [
       "<div>\n",
       "<style scoped>\n",
       "    .dataframe tbody tr th:only-of-type {\n",
       "        vertical-align: middle;\n",
       "    }\n",
       "\n",
       "    .dataframe tbody tr th {\n",
       "        vertical-align: top;\n",
       "    }\n",
       "\n",
       "    .dataframe thead th {\n",
       "        text-align: right;\n",
       "    }\n",
       "</style>\n",
       "<table border=\"1\" class=\"dataframe\">\n",
       "  <thead>\n",
       "    <tr style=\"text-align: right;\">\n",
       "      <th></th>\n",
       "      <th>Calendar_Date</th>\n",
       "      <th>Eclipse_Time</th>\n",
       "      <th>Delta_T_(s)</th>\n",
       "      <th>Lunation_Number</th>\n",
       "      <th>Saros_Number</th>\n",
       "      <th>Eclipse_Type</th>\n",
       "      <th>Gamma</th>\n",
       "      <th>Eclipse_Magnitude</th>\n",
       "      <th>Sun_Altitude</th>\n",
       "      <th>Sun_Azimuth</th>\n",
       "      <th>Latitude_Number</th>\n",
       "      <th>Latitude_Letter</th>\n",
       "      <th>Longitude_Number</th>\n",
       "      <th>Longitude_Letter</th>\n",
       "    </tr>\n",
       "  </thead>\n",
       "  <tbody>\n",
       "    <tr>\n",
       "      <td>0</td>\n",
       "      <td>-1999 June 12</td>\n",
       "      <td>03:14:51</td>\n",
       "      <td>46438</td>\n",
       "      <td>-49456</td>\n",
       "      <td>5</td>\n",
       "      <td>T</td>\n",
       "      <td>-0.2701</td>\n",
       "      <td>1.0733</td>\n",
       "      <td>74</td>\n",
       "      <td>344</td>\n",
       "      <td>6.0</td>\n",
       "      <td>N</td>\n",
       "      <td>33.3</td>\n",
       "      <td>W</td>\n",
       "    </tr>\n",
       "    <tr>\n",
       "      <td>1</td>\n",
       "      <td>-1999 December 5</td>\n",
       "      <td>23:45:23</td>\n",
       "      <td>46426</td>\n",
       "      <td>-49450</td>\n",
       "      <td>10</td>\n",
       "      <td>A</td>\n",
       "      <td>-0.2317</td>\n",
       "      <td>0.9382</td>\n",
       "      <td>76</td>\n",
       "      <td>21</td>\n",
       "      <td>32.9</td>\n",
       "      <td>S</td>\n",
       "      <td>10.8</td>\n",
       "      <td>E</td>\n",
       "    </tr>\n",
       "    <tr>\n",
       "      <td>2</td>\n",
       "      <td>-1998 June 1</td>\n",
       "      <td>18:09:16</td>\n",
       "      <td>46415</td>\n",
       "      <td>-49444</td>\n",
       "      <td>15</td>\n",
       "      <td>T</td>\n",
       "      <td>0.4994</td>\n",
       "      <td>1.0284</td>\n",
       "      <td>60</td>\n",
       "      <td>151</td>\n",
       "      <td>46.2</td>\n",
       "      <td>N</td>\n",
       "      <td>83.4</td>\n",
       "      <td>E</td>\n",
       "    </tr>\n",
       "    <tr>\n",
       "      <td>3</td>\n",
       "      <td>-1998 November 25</td>\n",
       "      <td>05:57:03</td>\n",
       "      <td>46403</td>\n",
       "      <td>-49438</td>\n",
       "      <td>20</td>\n",
       "      <td>A</td>\n",
       "      <td>-0.9045</td>\n",
       "      <td>0.9806</td>\n",
       "      <td>25</td>\n",
       "      <td>74</td>\n",
       "      <td>67.8</td>\n",
       "      <td>S</td>\n",
       "      <td>143.8</td>\n",
       "      <td>W</td>\n",
       "    </tr>\n",
       "    <tr>\n",
       "      <td>4</td>\n",
       "      <td>-1997 April 22</td>\n",
       "      <td>13:19:56</td>\n",
       "      <td>46393</td>\n",
       "      <td>-49433</td>\n",
       "      <td>-13</td>\n",
       "      <td>P</td>\n",
       "      <td>-1.4670</td>\n",
       "      <td>0.1611</td>\n",
       "      <td>0</td>\n",
       "      <td>281</td>\n",
       "      <td>60.6</td>\n",
       "      <td>S</td>\n",
       "      <td>106.4</td>\n",
       "      <td>W</td>\n",
       "    </tr>\n",
       "  </tbody>\n",
       "</table>\n",
       "</div>"
      ],
      "text/plain": [
       "       Calendar_Date Eclipse_Time  Delta_T_(s)  Lunation_Number  Saros_Number  \\\n",
       "0      -1999 June 12     03:14:51        46438           -49456             5   \n",
       "1   -1999 December 5     23:45:23        46426           -49450            10   \n",
       "2       -1998 June 1     18:09:16        46415           -49444            15   \n",
       "3  -1998 November 25     05:57:03        46403           -49438            20   \n",
       "4     -1997 April 22     13:19:56        46393           -49433           -13   \n",
       "\n",
       "  Eclipse_Type   Gamma  Eclipse_Magnitude  Sun_Altitude  Sun_Azimuth  \\\n",
       "0            T -0.2701             1.0733            74          344   \n",
       "1            A -0.2317             0.9382            76           21   \n",
       "2            T  0.4994             1.0284            60          151   \n",
       "3            A -0.9045             0.9806            25           74   \n",
       "4            P -1.4670             0.1611             0          281   \n",
       "\n",
       "   Latitude_Number Latitude_Letter Longitude_Number Longitude_Letter  \n",
       "0              6.0               N             33.3                W  \n",
       "1             32.9               S             10.8                E  \n",
       "2             46.2               N             83.4                E  \n",
       "3             67.8               S            143.8                W  \n",
       "4             60.6               S            106.4                W  "
      ]
     },
     "execution_count": 103,
     "metadata": {},
     "output_type": "execute_result"
    }
   ],
   "source": [
    "solar[\"Latitude_Number\"] = pd.to_numeric(solar[\"Latitude_Number\"])\n",
    "solar.head()"
   ]
  },
  {
   "cell_type": "code",
   "execution_count": null,
   "metadata": {},
   "outputs": [],
   "source": []
  },
  {
   "cell_type": "code",
   "execution_count": 104,
   "metadata": {},
   "outputs": [
    {
     "data": {
      "text/html": [
       "<div>\n",
       "<style scoped>\n",
       "    .dataframe tbody tr th:only-of-type {\n",
       "        vertical-align: middle;\n",
       "    }\n",
       "\n",
       "    .dataframe tbody tr th {\n",
       "        vertical-align: top;\n",
       "    }\n",
       "\n",
       "    .dataframe thead th {\n",
       "        text-align: right;\n",
       "    }\n",
       "</style>\n",
       "<table border=\"1\" class=\"dataframe\">\n",
       "  <thead>\n",
       "    <tr style=\"text-align: right;\">\n",
       "      <th></th>\n",
       "      <th>Calendar_Date</th>\n",
       "      <th>Eclipse_Time</th>\n",
       "      <th>Delta_T_(s)</th>\n",
       "      <th>Lunation_Number</th>\n",
       "      <th>Saros_Number</th>\n",
       "      <th>Eclipse_Type</th>\n",
       "      <th>Gamma</th>\n",
       "      <th>Eclipse_Magnitude</th>\n",
       "      <th>Sun_Altitude</th>\n",
       "      <th>Sun_Azimuth</th>\n",
       "      <th>Latitude_Number</th>\n",
       "      <th>Latitude_Letter</th>\n",
       "      <th>Longitude_Number</th>\n",
       "      <th>Longitude_Letter</th>\n",
       "    </tr>\n",
       "  </thead>\n",
       "  <tbody>\n",
       "    <tr>\n",
       "      <td>0</td>\n",
       "      <td>-1999 June 12</td>\n",
       "      <td>03:14:51</td>\n",
       "      <td>46438</td>\n",
       "      <td>-49456</td>\n",
       "      <td>5</td>\n",
       "      <td>T</td>\n",
       "      <td>-0.2701</td>\n",
       "      <td>1.0733</td>\n",
       "      <td>74</td>\n",
       "      <td>344</td>\n",
       "      <td>6.0</td>\n",
       "      <td>N</td>\n",
       "      <td>33.3</td>\n",
       "      <td>W</td>\n",
       "    </tr>\n",
       "    <tr>\n",
       "      <td>1</td>\n",
       "      <td>-1999 December 5</td>\n",
       "      <td>23:45:23</td>\n",
       "      <td>46426</td>\n",
       "      <td>-49450</td>\n",
       "      <td>10</td>\n",
       "      <td>A</td>\n",
       "      <td>-0.2317</td>\n",
       "      <td>0.9382</td>\n",
       "      <td>76</td>\n",
       "      <td>21</td>\n",
       "      <td>32.9</td>\n",
       "      <td>S</td>\n",
       "      <td>10.8</td>\n",
       "      <td>E</td>\n",
       "    </tr>\n",
       "    <tr>\n",
       "      <td>2</td>\n",
       "      <td>-1998 June 1</td>\n",
       "      <td>18:09:16</td>\n",
       "      <td>46415</td>\n",
       "      <td>-49444</td>\n",
       "      <td>15</td>\n",
       "      <td>T</td>\n",
       "      <td>0.4994</td>\n",
       "      <td>1.0284</td>\n",
       "      <td>60</td>\n",
       "      <td>151</td>\n",
       "      <td>46.2</td>\n",
       "      <td>N</td>\n",
       "      <td>83.4</td>\n",
       "      <td>E</td>\n",
       "    </tr>\n",
       "    <tr>\n",
       "      <td>3</td>\n",
       "      <td>-1998 November 25</td>\n",
       "      <td>05:57:03</td>\n",
       "      <td>46403</td>\n",
       "      <td>-49438</td>\n",
       "      <td>20</td>\n",
       "      <td>A</td>\n",
       "      <td>-0.9045</td>\n",
       "      <td>0.9806</td>\n",
       "      <td>25</td>\n",
       "      <td>74</td>\n",
       "      <td>67.8</td>\n",
       "      <td>S</td>\n",
       "      <td>143.8</td>\n",
       "      <td>W</td>\n",
       "    </tr>\n",
       "    <tr>\n",
       "      <td>4</td>\n",
       "      <td>-1997 April 22</td>\n",
       "      <td>13:19:56</td>\n",
       "      <td>46393</td>\n",
       "      <td>-49433</td>\n",
       "      <td>-13</td>\n",
       "      <td>P</td>\n",
       "      <td>-1.4670</td>\n",
       "      <td>0.1611</td>\n",
       "      <td>0</td>\n",
       "      <td>281</td>\n",
       "      <td>60.6</td>\n",
       "      <td>S</td>\n",
       "      <td>106.4</td>\n",
       "      <td>W</td>\n",
       "    </tr>\n",
       "  </tbody>\n",
       "</table>\n",
       "</div>"
      ],
      "text/plain": [
       "       Calendar_Date Eclipse_Time  Delta_T_(s)  Lunation_Number  Saros_Number  \\\n",
       "0      -1999 June 12     03:14:51        46438           -49456             5   \n",
       "1   -1999 December 5     23:45:23        46426           -49450            10   \n",
       "2       -1998 June 1     18:09:16        46415           -49444            15   \n",
       "3  -1998 November 25     05:57:03        46403           -49438            20   \n",
       "4     -1997 April 22     13:19:56        46393           -49433           -13   \n",
       "\n",
       "  Eclipse_Type   Gamma  Eclipse_Magnitude  Sun_Altitude  Sun_Azimuth  \\\n",
       "0            T -0.2701             1.0733            74          344   \n",
       "1            A -0.2317             0.9382            76           21   \n",
       "2            T  0.4994             1.0284            60          151   \n",
       "3            A -0.9045             0.9806            25           74   \n",
       "4            P -1.4670             0.1611             0          281   \n",
       "\n",
       "   Latitude_Number Latitude_Letter  Longitude_Number Longitude_Letter  \n",
       "0              6.0               N              33.3                W  \n",
       "1             32.9               S              10.8                E  \n",
       "2             46.2               N              83.4                E  \n",
       "3             67.8               S             143.8                W  \n",
       "4             60.6               S             106.4                W  "
      ]
     },
     "execution_count": 104,
     "metadata": {},
     "output_type": "execute_result"
    }
   ],
   "source": [
    "solar[\"Longitude_Number\"] = pd.to_numeric(solar[\"Longitude_Number\"])\n",
    "solar.head()"
   ]
  },
  {
   "cell_type": "code",
   "execution_count": null,
   "metadata": {},
   "outputs": [],
   "source": []
  },
  {
   "cell_type": "code",
   "execution_count": 105,
   "metadata": {},
   "outputs": [],
   "source": [
    "# Saving for future Tableau usage\n",
    "\n",
    "solar.to_csv('Solar_tableau')"
   ]
  },
  {
   "cell_type": "code",
   "execution_count": null,
   "metadata": {},
   "outputs": [],
   "source": []
  },
  {
   "cell_type": "code",
   "execution_count": 106,
   "metadata": {},
   "outputs": [
    {
     "data": {
      "text/plain": [
       "Calendar_Date         object\n",
       "Eclipse_Time          object\n",
       "Delta_T_(s)            int64\n",
       "Lunation_Number        int64\n",
       "Saros_Number           int64\n",
       "Eclipse_Type          object\n",
       "Gamma                float64\n",
       "Eclipse_Magnitude    float64\n",
       "Sun_Altitude           int64\n",
       "Sun_Azimuth            int64\n",
       "Latitude_Number      float64\n",
       "Latitude_Letter       object\n",
       "Longitude_Number     float64\n",
       "Longitude_Letter      object\n",
       "dtype: object"
      ]
     },
     "execution_count": 106,
     "metadata": {},
     "output_type": "execute_result"
    }
   ],
   "source": [
    "solar.dtypes"
   ]
  },
  {
   "cell_type": "code",
   "execution_count": null,
   "metadata": {},
   "outputs": [],
   "source": []
  },
  {
   "cell_type": "code",
   "execution_count": 107,
   "metadata": {},
   "outputs": [
    {
     "data": {
      "text/html": [
       "<div>\n",
       "<style scoped>\n",
       "    .dataframe tbody tr th:only-of-type {\n",
       "        vertical-align: middle;\n",
       "    }\n",
       "\n",
       "    .dataframe tbody tr th {\n",
       "        vertical-align: top;\n",
       "    }\n",
       "\n",
       "    .dataframe thead th {\n",
       "        text-align: right;\n",
       "    }\n",
       "</style>\n",
       "<table border=\"1\" class=\"dataframe\">\n",
       "  <thead>\n",
       "    <tr style=\"text-align: right;\">\n",
       "      <th></th>\n",
       "      <th>Calendar_Date</th>\n",
       "      <th>Eclipse_Time</th>\n",
       "      <th>Eclipse_Type</th>\n",
       "      <th>Latitude_Letter</th>\n",
       "      <th>Longitude_Letter</th>\n",
       "    </tr>\n",
       "  </thead>\n",
       "  <tbody>\n",
       "    <tr>\n",
       "      <td>0</td>\n",
       "      <td>-1999 June 12</td>\n",
       "      <td>03:14:51</td>\n",
       "      <td>T</td>\n",
       "      <td>N</td>\n",
       "      <td>W</td>\n",
       "    </tr>\n",
       "    <tr>\n",
       "      <td>1</td>\n",
       "      <td>-1999 December 5</td>\n",
       "      <td>23:45:23</td>\n",
       "      <td>A</td>\n",
       "      <td>S</td>\n",
       "      <td>E</td>\n",
       "    </tr>\n",
       "    <tr>\n",
       "      <td>2</td>\n",
       "      <td>-1998 June 1</td>\n",
       "      <td>18:09:16</td>\n",
       "      <td>T</td>\n",
       "      <td>N</td>\n",
       "      <td>E</td>\n",
       "    </tr>\n",
       "    <tr>\n",
       "      <td>3</td>\n",
       "      <td>-1998 November 25</td>\n",
       "      <td>05:57:03</td>\n",
       "      <td>A</td>\n",
       "      <td>S</td>\n",
       "      <td>W</td>\n",
       "    </tr>\n",
       "    <tr>\n",
       "      <td>4</td>\n",
       "      <td>-1997 April 22</td>\n",
       "      <td>13:19:56</td>\n",
       "      <td>P</td>\n",
       "      <td>S</td>\n",
       "      <td>W</td>\n",
       "    </tr>\n",
       "  </tbody>\n",
       "</table>\n",
       "</div>"
      ],
      "text/plain": [
       "       Calendar_Date Eclipse_Time Eclipse_Type Latitude_Letter  \\\n",
       "0      -1999 June 12     03:14:51            T               N   \n",
       "1   -1999 December 5     23:45:23            A               S   \n",
       "2       -1998 June 1     18:09:16            T               N   \n",
       "3  -1998 November 25     05:57:03            A               S   \n",
       "4     -1997 April 22     13:19:56            P               S   \n",
       "\n",
       "  Longitude_Letter  \n",
       "0                W  \n",
       "1                E  \n",
       "2                E  \n",
       "3                W  \n",
       "4                W  "
      ]
     },
     "execution_count": 107,
     "metadata": {},
     "output_type": "execute_result"
    }
   ],
   "source": [
    "SolarCategoricals = solar.select_dtypes(object)\n",
    "SolarCategoricals.head()"
   ]
  },
  {
   "cell_type": "code",
   "execution_count": null,
   "metadata": {},
   "outputs": [],
   "source": []
  },
  {
   "cell_type": "code",
   "execution_count": 108,
   "metadata": {},
   "outputs": [
    {
     "data": {
      "text/plain": [
       "5"
      ]
     },
     "execution_count": 108,
     "metadata": {},
     "output_type": "execute_result"
    }
   ],
   "source": [
    "len(SolarCategoricals.columns)"
   ]
  },
  {
   "cell_type": "code",
   "execution_count": null,
   "metadata": {},
   "outputs": [],
   "source": []
  },
  {
   "cell_type": "code",
   "execution_count": 109,
   "metadata": {},
   "outputs": [
    {
     "data": {
      "text/plain": [
       "14"
      ]
     },
     "execution_count": 109,
     "metadata": {},
     "output_type": "execute_result"
    }
   ],
   "source": [
    "# Total columns\n",
    "\n",
    "len(solar.dtypes)"
   ]
  },
  {
   "cell_type": "code",
   "execution_count": null,
   "metadata": {},
   "outputs": [],
   "source": []
  },
  {
   "cell_type": "code",
   "execution_count": 110,
   "metadata": {},
   "outputs": [],
   "source": [
    "solar = solar.drop(['Latitude_Number', 'Longitude_Number', 'Latitude_Letter', 'Longitude_Letter', 'Eclipse_Time'], axis=1)"
   ]
  },
  {
   "cell_type": "code",
   "execution_count": null,
   "metadata": {},
   "outputs": [],
   "source": []
  },
  {
   "cell_type": "code",
   "execution_count": 111,
   "metadata": {},
   "outputs": [
    {
     "data": {
      "text/html": [
       "<div>\n",
       "<style scoped>\n",
       "    .dataframe tbody tr th:only-of-type {\n",
       "        vertical-align: middle;\n",
       "    }\n",
       "\n",
       "    .dataframe tbody tr th {\n",
       "        vertical-align: top;\n",
       "    }\n",
       "\n",
       "    .dataframe thead th {\n",
       "        text-align: right;\n",
       "    }\n",
       "</style>\n",
       "<table border=\"1\" class=\"dataframe\">\n",
       "  <thead>\n",
       "    <tr style=\"text-align: right;\">\n",
       "      <th></th>\n",
       "      <th>Delta_T_(s)</th>\n",
       "      <th>Lunation_Number</th>\n",
       "      <th>Saros_Number</th>\n",
       "      <th>Gamma</th>\n",
       "      <th>Eclipse_Magnitude</th>\n",
       "      <th>Sun_Altitude</th>\n",
       "      <th>Sun_Azimuth</th>\n",
       "    </tr>\n",
       "  </thead>\n",
       "  <tbody>\n",
       "    <tr>\n",
       "      <td>0</td>\n",
       "      <td>46438</td>\n",
       "      <td>-49456</td>\n",
       "      <td>5</td>\n",
       "      <td>-0.2701</td>\n",
       "      <td>1.0733</td>\n",
       "      <td>74</td>\n",
       "      <td>344</td>\n",
       "    </tr>\n",
       "    <tr>\n",
       "      <td>1</td>\n",
       "      <td>46426</td>\n",
       "      <td>-49450</td>\n",
       "      <td>10</td>\n",
       "      <td>-0.2317</td>\n",
       "      <td>0.9382</td>\n",
       "      <td>76</td>\n",
       "      <td>21</td>\n",
       "    </tr>\n",
       "    <tr>\n",
       "      <td>2</td>\n",
       "      <td>46415</td>\n",
       "      <td>-49444</td>\n",
       "      <td>15</td>\n",
       "      <td>0.4994</td>\n",
       "      <td>1.0284</td>\n",
       "      <td>60</td>\n",
       "      <td>151</td>\n",
       "    </tr>\n",
       "    <tr>\n",
       "      <td>3</td>\n",
       "      <td>46403</td>\n",
       "      <td>-49438</td>\n",
       "      <td>20</td>\n",
       "      <td>-0.9045</td>\n",
       "      <td>0.9806</td>\n",
       "      <td>25</td>\n",
       "      <td>74</td>\n",
       "    </tr>\n",
       "    <tr>\n",
       "      <td>4</td>\n",
       "      <td>46393</td>\n",
       "      <td>-49433</td>\n",
       "      <td>-13</td>\n",
       "      <td>-1.4670</td>\n",
       "      <td>0.1611</td>\n",
       "      <td>0</td>\n",
       "      <td>281</td>\n",
       "    </tr>\n",
       "    <tr>\n",
       "      <td>...</td>\n",
       "      <td>...</td>\n",
       "      <td>...</td>\n",
       "      <td>...</td>\n",
       "      <td>...</td>\n",
       "      <td>...</td>\n",
       "      <td>...</td>\n",
       "      <td>...</td>\n",
       "    </tr>\n",
       "    <tr>\n",
       "      <td>11892</td>\n",
       "      <td>4410</td>\n",
       "      <td>12349</td>\n",
       "      <td>182</td>\n",
       "      <td>-1.0158</td>\n",
       "      <td>0.9792</td>\n",
       "      <td>0</td>\n",
       "      <td>9</td>\n",
       "    </tr>\n",
       "    <tr>\n",
       "      <td>11893</td>\n",
       "      <td>4414</td>\n",
       "      <td>12355</td>\n",
       "      <td>187</td>\n",
       "      <td>1.2838</td>\n",
       "      <td>0.4773</td>\n",
       "      <td>0</td>\n",
       "      <td>179</td>\n",
       "    </tr>\n",
       "    <tr>\n",
       "      <td>11894</td>\n",
       "      <td>4417</td>\n",
       "      <td>12360</td>\n",
       "      <td>154</td>\n",
       "      <td>0.8388</td>\n",
       "      <td>1.0566</td>\n",
       "      <td>33</td>\n",
       "      <td>146</td>\n",
       "    </tr>\n",
       "    <tr>\n",
       "      <td>11895</td>\n",
       "      <td>4420</td>\n",
       "      <td>12366</td>\n",
       "      <td>159</td>\n",
       "      <td>-1.0023</td>\n",
       "      <td>0.9586</td>\n",
       "      <td>0</td>\n",
       "      <td>137</td>\n",
       "    </tr>\n",
       "    <tr>\n",
       "      <td>11896</td>\n",
       "      <td>4424</td>\n",
       "      <td>12372</td>\n",
       "      <td>164</td>\n",
       "      <td>0.1310</td>\n",
       "      <td>1.0222</td>\n",
       "      <td>82</td>\n",
       "      <td>166</td>\n",
       "    </tr>\n",
       "  </tbody>\n",
       "</table>\n",
       "<p>11329 rows × 7 columns</p>\n",
       "</div>"
      ],
      "text/plain": [
       "       Delta_T_(s)  Lunation_Number  Saros_Number   Gamma  Eclipse_Magnitude  \\\n",
       "0            46438           -49456             5 -0.2701             1.0733   \n",
       "1            46426           -49450            10 -0.2317             0.9382   \n",
       "2            46415           -49444            15  0.4994             1.0284   \n",
       "3            46403           -49438            20 -0.9045             0.9806   \n",
       "4            46393           -49433           -13 -1.4670             0.1611   \n",
       "...            ...              ...           ...     ...                ...   \n",
       "11892         4410            12349           182 -1.0158             0.9792   \n",
       "11893         4414            12355           187  1.2838             0.4773   \n",
       "11894         4417            12360           154  0.8388             1.0566   \n",
       "11895         4420            12366           159 -1.0023             0.9586   \n",
       "11896         4424            12372           164  0.1310             1.0222   \n",
       "\n",
       "       Sun_Altitude  Sun_Azimuth  \n",
       "0                74          344  \n",
       "1                76           21  \n",
       "2                60          151  \n",
       "3                25           74  \n",
       "4                 0          281  \n",
       "...             ...          ...  \n",
       "11892             0            9  \n",
       "11893             0          179  \n",
       "11894            33          146  \n",
       "11895             0          137  \n",
       "11896            82          166  \n",
       "\n",
       "[11329 rows x 7 columns]"
      ]
     },
     "execution_count": 111,
     "metadata": {},
     "output_type": "execute_result"
    }
   ],
   "source": [
    "SolarNumericals = solar._get_numeric_data()\n",
    "SolarNumericals"
   ]
  },
  {
   "cell_type": "code",
   "execution_count": null,
   "metadata": {},
   "outputs": [],
   "source": []
  },
  {
   "cell_type": "code",
   "execution_count": 112,
   "metadata": {},
   "outputs": [
    {
     "data": {
      "text/html": [
       "<div>\n",
       "<style scoped>\n",
       "    .dataframe tbody tr th:only-of-type {\n",
       "        vertical-align: middle;\n",
       "    }\n",
       "\n",
       "    .dataframe tbody tr th {\n",
       "        vertical-align: top;\n",
       "    }\n",
       "\n",
       "    .dataframe thead th {\n",
       "        text-align: right;\n",
       "    }\n",
       "</style>\n",
       "<table border=\"1\" class=\"dataframe\">\n",
       "  <thead>\n",
       "    <tr style=\"text-align: right;\">\n",
       "      <th></th>\n",
       "      <th>Delta_T_(s)</th>\n",
       "      <th>Lunation_Number</th>\n",
       "      <th>Saros_Number</th>\n",
       "      <th>Gamma</th>\n",
       "      <th>Eclipse_Magnitude</th>\n",
       "      <th>Sun_Altitude</th>\n",
       "      <th>Sun_Azimuth</th>\n",
       "    </tr>\n",
       "  </thead>\n",
       "  <tbody>\n",
       "    <tr>\n",
       "      <td>Delta_T_(s)</td>\n",
       "      <td>1.000000</td>\n",
       "      <td>-0.895389</td>\n",
       "      <td>-0.859854</td>\n",
       "      <td>-0.001714</td>\n",
       "      <td>-0.017312</td>\n",
       "      <td>-0.006321</td>\n",
       "      <td>0.001028</td>\n",
       "    </tr>\n",
       "    <tr>\n",
       "      <td>Lunation_Number</td>\n",
       "      <td>-0.895389</td>\n",
       "      <td>1.000000</td>\n",
       "      <td>0.964364</td>\n",
       "      <td>-0.000305</td>\n",
       "      <td>0.007834</td>\n",
       "      <td>0.006855</td>\n",
       "      <td>0.000447</td>\n",
       "    </tr>\n",
       "    <tr>\n",
       "      <td>Saros_Number</td>\n",
       "      <td>-0.859854</td>\n",
       "      <td>0.964364</td>\n",
       "      <td>1.000000</td>\n",
       "      <td>-0.001338</td>\n",
       "      <td>0.006829</td>\n",
       "      <td>0.006747</td>\n",
       "      <td>-0.039708</td>\n",
       "    </tr>\n",
       "    <tr>\n",
       "      <td>Gamma</td>\n",
       "      <td>-0.001714</td>\n",
       "      <td>-0.000305</td>\n",
       "      <td>-0.001338</td>\n",
       "      <td>1.000000</td>\n",
       "      <td>0.004195</td>\n",
       "      <td>0.001739</td>\n",
       "      <td>-0.004446</td>\n",
       "    </tr>\n",
       "    <tr>\n",
       "      <td>Eclipse_Magnitude</td>\n",
       "      <td>-0.017312</td>\n",
       "      <td>0.007834</td>\n",
       "      <td>0.006829</td>\n",
       "      <td>0.004195</td>\n",
       "      <td>1.000000</td>\n",
       "      <td>0.690416</td>\n",
       "      <td>0.003867</td>\n",
       "    </tr>\n",
       "  </tbody>\n",
       "</table>\n",
       "</div>"
      ],
      "text/plain": [
       "                   Delta_T_(s)  Lunation_Number  Saros_Number     Gamma  \\\n",
       "Delta_T_(s)           1.000000        -0.895389     -0.859854 -0.001714   \n",
       "Lunation_Number      -0.895389         1.000000      0.964364 -0.000305   \n",
       "Saros_Number         -0.859854         0.964364      1.000000 -0.001338   \n",
       "Gamma                -0.001714        -0.000305     -0.001338  1.000000   \n",
       "Eclipse_Magnitude    -0.017312         0.007834      0.006829  0.004195   \n",
       "\n",
       "                   Eclipse_Magnitude  Sun_Altitude  Sun_Azimuth  \n",
       "Delta_T_(s)                -0.017312     -0.006321     0.001028  \n",
       "Lunation_Number             0.007834      0.006855     0.000447  \n",
       "Saros_Number                0.006829      0.006747    -0.039708  \n",
       "Gamma                       0.004195      0.001739    -0.004446  \n",
       "Eclipse_Magnitude           1.000000      0.690416     0.003867  "
      ]
     },
     "execution_count": 112,
     "metadata": {},
     "output_type": "execute_result"
    }
   ],
   "source": [
    "# use corr function, will untilize number of numerical columns \n",
    "\n",
    "S_corr_matrix = SolarNumericals.corr()\n",
    "S_corr_matrix.head()"
   ]
  },
  {
   "cell_type": "code",
   "execution_count": null,
   "metadata": {},
   "outputs": [],
   "source": []
  },
  {
   "cell_type": "code",
   "execution_count": 113,
   "metadata": {},
   "outputs": [
    {
     "data": {
      "text/plain": [
       "<matplotlib.axes._subplots.AxesSubplot at 0x1a22a14d50>"
      ]
     },
     "execution_count": 113,
     "metadata": {},
     "output_type": "execute_result"
    },
    {
     "data": {
      "image/png": "[encoded data removed]",
      "text/plain": [
       "<Figure size 576x576 with 2 Axes>"
      ]
     },
     "metadata": {
      "needs_background": "light"
     },
     "output_type": "display_data"
    }
   ],
   "source": [
    "# set fig size to have better readibility of heatmap\n",
    "\n",
    "fig, ax = plt.subplots(figsize=(8,8))\n",
    "S_heatmap = sns.heatmap(S_corr_matrix, annot =True, ax=ax)\n",
    "S_heatmap"
   ]
  },
  {
   "cell_type": "code",
   "execution_count": null,
   "metadata": {},
   "outputs": [],
   "source": []
  },
  {
   "cell_type": "code",
   "execution_count": 114,
   "metadata": {},
   "outputs": [],
   "source": [
    "# Due to high correlation, we are dropping 'Saros_Number' & 'Lunation_Number'\n",
    "\n",
    "solar = solar.drop(['Saros_Number', 'Lunation_Number'], axis=1)\n"
   ]
  },
  {
   "cell_type": "code",
   "execution_count": null,
   "metadata": {},
   "outputs": [],
   "source": []
  },
  {
   "cell_type": "code",
   "execution_count": 115,
   "metadata": {},
   "outputs": [
    {
     "data": {
      "text/html": [
       "<div>\n",
       "<style scoped>\n",
       "    .dataframe tbody tr th:only-of-type {\n",
       "        vertical-align: middle;\n",
       "    }\n",
       "\n",
       "    .dataframe tbody tr th {\n",
       "        vertical-align: top;\n",
       "    }\n",
       "\n",
       "    .dataframe thead th {\n",
       "        text-align: right;\n",
       "    }\n",
       "</style>\n",
       "<table border=\"1\" class=\"dataframe\">\n",
       "  <thead>\n",
       "    <tr style=\"text-align: right;\">\n",
       "      <th></th>\n",
       "      <th>Delta_T_(s)</th>\n",
       "      <th>Gamma</th>\n",
       "      <th>Eclipse_Magnitude</th>\n",
       "      <th>Sun_Altitude</th>\n",
       "      <th>Sun_Azimuth</th>\n",
       "    </tr>\n",
       "  </thead>\n",
       "  <tbody>\n",
       "    <tr>\n",
       "      <td>0</td>\n",
       "      <td>46438</td>\n",
       "      <td>-0.2701</td>\n",
       "      <td>1.0733</td>\n",
       "      <td>74</td>\n",
       "      <td>344</td>\n",
       "    </tr>\n",
       "    <tr>\n",
       "      <td>1</td>\n",
       "      <td>46426</td>\n",
       "      <td>-0.2317</td>\n",
       "      <td>0.9382</td>\n",
       "      <td>76</td>\n",
       "      <td>21</td>\n",
       "    </tr>\n",
       "    <tr>\n",
       "      <td>2</td>\n",
       "      <td>46415</td>\n",
       "      <td>0.4994</td>\n",
       "      <td>1.0284</td>\n",
       "      <td>60</td>\n",
       "      <td>151</td>\n",
       "    </tr>\n",
       "    <tr>\n",
       "      <td>3</td>\n",
       "      <td>46403</td>\n",
       "      <td>-0.9045</td>\n",
       "      <td>0.9806</td>\n",
       "      <td>25</td>\n",
       "      <td>74</td>\n",
       "    </tr>\n",
       "    <tr>\n",
       "      <td>4</td>\n",
       "      <td>46393</td>\n",
       "      <td>-1.4670</td>\n",
       "      <td>0.1611</td>\n",
       "      <td>0</td>\n",
       "      <td>281</td>\n",
       "    </tr>\n",
       "    <tr>\n",
       "      <td>...</td>\n",
       "      <td>...</td>\n",
       "      <td>...</td>\n",
       "      <td>...</td>\n",
       "      <td>...</td>\n",
       "      <td>...</td>\n",
       "    </tr>\n",
       "    <tr>\n",
       "      <td>11892</td>\n",
       "      <td>4410</td>\n",
       "      <td>-1.0158</td>\n",
       "      <td>0.9792</td>\n",
       "      <td>0</td>\n",
       "      <td>9</td>\n",
       "    </tr>\n",
       "    <tr>\n",
       "      <td>11893</td>\n",
       "      <td>4414</td>\n",
       "      <td>1.2838</td>\n",
       "      <td>0.4773</td>\n",
       "      <td>0</td>\n",
       "      <td>179</td>\n",
       "    </tr>\n",
       "    <tr>\n",
       "      <td>11894</td>\n",
       "      <td>4417</td>\n",
       "      <td>0.8388</td>\n",
       "      <td>1.0566</td>\n",
       "      <td>33</td>\n",
       "      <td>146</td>\n",
       "    </tr>\n",
       "    <tr>\n",
       "      <td>11895</td>\n",
       "      <td>4420</td>\n",
       "      <td>-1.0023</td>\n",
       "      <td>0.9586</td>\n",
       "      <td>0</td>\n",
       "      <td>137</td>\n",
       "    </tr>\n",
       "    <tr>\n",
       "      <td>11896</td>\n",
       "      <td>4424</td>\n",
       "      <td>0.1310</td>\n",
       "      <td>1.0222</td>\n",
       "      <td>82</td>\n",
       "      <td>166</td>\n",
       "    </tr>\n",
       "  </tbody>\n",
       "</table>\n",
       "<p>11329 rows × 5 columns</p>\n",
       "</div>"
      ],
      "text/plain": [
       "       Delta_T_(s)   Gamma  Eclipse_Magnitude  Sun_Altitude  Sun_Azimuth\n",
       "0            46438 -0.2701             1.0733            74          344\n",
       "1            46426 -0.2317             0.9382            76           21\n",
       "2            46415  0.4994             1.0284            60          151\n",
       "3            46403 -0.9045             0.9806            25           74\n",
       "4            46393 -1.4670             0.1611             0          281\n",
       "...            ...     ...                ...           ...          ...\n",
       "11892         4410 -1.0158             0.9792             0            9\n",
       "11893         4414  1.2838             0.4773             0          179\n",
       "11894         4417  0.8388             1.0566            33          146\n",
       "11895         4420 -1.0023             0.9586             0          137\n",
       "11896         4424  0.1310             1.0222            82          166\n",
       "\n",
       "[11329 rows x 5 columns]"
      ]
     },
     "execution_count": 115,
     "metadata": {},
     "output_type": "execute_result"
    }
   ],
   "source": [
    "# update \n",
    "\n",
    "SolarNumericals = solar._get_numeric_data()\n",
    "SolarNumericals"
   ]
  },
  {
   "cell_type": "code",
   "execution_count": null,
   "metadata": {},
   "outputs": [],
   "source": []
  },
  {
   "cell_type": "code",
   "execution_count": 116,
   "metadata": {},
   "outputs": [
    {
     "data": {
      "text/html": [
       "<div>\n",
       "<style scoped>\n",
       "    .dataframe tbody tr th:only-of-type {\n",
       "        vertical-align: middle;\n",
       "    }\n",
       "\n",
       "    .dataframe tbody tr th {\n",
       "        vertical-align: top;\n",
       "    }\n",
       "\n",
       "    .dataframe thead th {\n",
       "        text-align: right;\n",
       "    }\n",
       "</style>\n",
       "<table border=\"1\" class=\"dataframe\">\n",
       "  <thead>\n",
       "    <tr style=\"text-align: right;\">\n",
       "      <th></th>\n",
       "      <th>Delta_T_(s)</th>\n",
       "      <th>Gamma</th>\n",
       "      <th>Eclipse_Magnitude</th>\n",
       "      <th>Sun_Altitude</th>\n",
       "      <th>Sun_Azimuth</th>\n",
       "    </tr>\n",
       "  </thead>\n",
       "  <tbody>\n",
       "    <tr>\n",
       "      <td>Delta_T_(s)</td>\n",
       "      <td>1.000000</td>\n",
       "      <td>-0.001714</td>\n",
       "      <td>-0.017312</td>\n",
       "      <td>-0.006321</td>\n",
       "      <td>0.001028</td>\n",
       "    </tr>\n",
       "    <tr>\n",
       "      <td>Gamma</td>\n",
       "      <td>-0.001714</td>\n",
       "      <td>1.000000</td>\n",
       "      <td>0.004195</td>\n",
       "      <td>0.001739</td>\n",
       "      <td>-0.004446</td>\n",
       "    </tr>\n",
       "    <tr>\n",
       "      <td>Eclipse_Magnitude</td>\n",
       "      <td>-0.017312</td>\n",
       "      <td>0.004195</td>\n",
       "      <td>1.000000</td>\n",
       "      <td>0.690416</td>\n",
       "      <td>0.003867</td>\n",
       "    </tr>\n",
       "    <tr>\n",
       "      <td>Sun_Altitude</td>\n",
       "      <td>-0.006321</td>\n",
       "      <td>0.001739</td>\n",
       "      <td>0.690416</td>\n",
       "      <td>1.000000</td>\n",
       "      <td>0.003370</td>\n",
       "    </tr>\n",
       "    <tr>\n",
       "      <td>Sun_Azimuth</td>\n",
       "      <td>0.001028</td>\n",
       "      <td>-0.004446</td>\n",
       "      <td>0.003867</td>\n",
       "      <td>0.003370</td>\n",
       "      <td>1.000000</td>\n",
       "    </tr>\n",
       "  </tbody>\n",
       "</table>\n",
       "</div>"
      ],
      "text/plain": [
       "                   Delta_T_(s)     Gamma  Eclipse_Magnitude  Sun_Altitude  \\\n",
       "Delta_T_(s)           1.000000 -0.001714          -0.017312     -0.006321   \n",
       "Gamma                -0.001714  1.000000           0.004195      0.001739   \n",
       "Eclipse_Magnitude    -0.017312  0.004195           1.000000      0.690416   \n",
       "Sun_Altitude         -0.006321  0.001739           0.690416      1.000000   \n",
       "Sun_Azimuth           0.001028 -0.004446           0.003867      0.003370   \n",
       "\n",
       "                   Sun_Azimuth  \n",
       "Delta_T_(s)           0.001028  \n",
       "Gamma                -0.004446  \n",
       "Eclipse_Magnitude     0.003867  \n",
       "Sun_Altitude          0.003370  \n",
       "Sun_Azimuth           1.000000  "
      ]
     },
     "execution_count": 116,
     "metadata": {},
     "output_type": "execute_result"
    }
   ],
   "source": [
    "S_corr_matrix = SolarNumericals.corr()\n",
    "S_corr_matrix.head()"
   ]
  },
  {
   "cell_type": "code",
   "execution_count": null,
   "metadata": {},
   "outputs": [],
   "source": []
  },
  {
   "cell_type": "code",
   "execution_count": 117,
   "metadata": {},
   "outputs": [
    {
     "data": {
      "text/plain": [
       "<matplotlib.axes._subplots.AxesSubplot at 0x1a240754d0>"
      ]
     },
     "execution_count": 117,
     "metadata": {},
     "output_type": "execute_result"
    },
    {
     "data": {
      "image/png": "[encoded data removed]",
      "text/plain": [
       "<Figure size 576x576 with 2 Axes>"
      ]
     },
     "metadata": {
      "needs_background": "light"
     },
     "output_type": "display_data"
    }
   ],
   "source": [
    "fig, ax = plt.subplots(figsize=(8,8))\n",
    "S_heatmap = sns.heatmap(S_corr_matrix, annot =True, ax=ax)\n",
    "S_heatmap"
   ]
  },
  {
   "cell_type": "code",
   "execution_count": null,
   "metadata": {},
   "outputs": [],
   "source": []
  },
  {
   "cell_type": "code",
   "execution_count": 118,
   "metadata": {},
   "outputs": [
    {
     "data": {
      "text/plain": [
       "([0, 1, 2], <a list of 3 Text xticklabel objects>)"
      ]
     },
     "execution_count": 118,
     "metadata": {},
     "output_type": "execute_result"
    },
    {
     "data": {
      "image/png": "[encoded data removed]",
      "text/plain": [
       "<Figure size 432x288 with 1 Axes>"
      ]
     },
     "metadata": {
      "needs_background": "light"
     },
     "output_type": "display_data"
    }
   ],
   "source": [
    "plt.hist(solar[\"Eclipse_Type\"], bins = len(solar[\"Eclipse_Type\"].unique()))\n",
    "plt.xticks(rotation='vertical')"
   ]
  },
  {
   "cell_type": "code",
   "execution_count": null,
   "metadata": {},
   "outputs": [],
   "source": []
  },
  {
   "cell_type": "code",
   "execution_count": 119,
   "metadata": {},
   "outputs": [],
   "source": [
    "# normalize numerical values\n",
    "\n",
    "import pandas as pd\n",
    "from sklearn import preprocessing\n",
    "\n",
    "x = SolarNumericals.values #returns a numpy array\n",
    "min_max_scaler = preprocessing.MinMaxScaler()\n",
    "x_scaled = min_max_scaler.fit_transform(x)\n",
    "df = pd.DataFrame(x_scaled)"
   ]
  },
  {
   "cell_type": "code",
   "execution_count": null,
   "metadata": {},
   "outputs": [],
   "source": []
  },
  {
   "cell_type": "code",
   "execution_count": 120,
   "metadata": {},
   "outputs": [
    {
     "data": {
      "text/html": [
       "<div>\n",
       "<style scoped>\n",
       "    .dataframe tbody tr th:only-of-type {\n",
       "        vertical-align: middle;\n",
       "    }\n",
       "\n",
       "    .dataframe tbody tr th {\n",
       "        vertical-align: top;\n",
       "    }\n",
       "\n",
       "    .dataframe thead th {\n",
       "        text-align: right;\n",
       "    }\n",
       "</style>\n",
       "<table border=\"1\" class=\"dataframe\">\n",
       "  <thead>\n",
       "    <tr style=\"text-align: right;\">\n",
       "      <th></th>\n",
       "      <th>0</th>\n",
       "      <th>1</th>\n",
       "      <th>2</th>\n",
       "      <th>3</th>\n",
       "      <th>4</th>\n",
       "    </tr>\n",
       "  </thead>\n",
       "  <tbody>\n",
       "    <tr>\n",
       "      <td>0</td>\n",
       "      <td>1.000000</td>\n",
       "      <td>0.413715</td>\n",
       "      <td>0.992601</td>\n",
       "      <td>0.822222</td>\n",
       "      <td>0.955556</td>\n",
       "    </tr>\n",
       "    <tr>\n",
       "      <td>1</td>\n",
       "      <td>0.999742</td>\n",
       "      <td>0.425946</td>\n",
       "      <td>0.867659</td>\n",
       "      <td>0.844444</td>\n",
       "      <td>0.058333</td>\n",
       "    </tr>\n",
       "    <tr>\n",
       "      <td>2</td>\n",
       "      <td>0.999505</td>\n",
       "      <td>0.658810</td>\n",
       "      <td>0.951077</td>\n",
       "      <td>0.666667</td>\n",
       "      <td>0.419444</td>\n",
       "    </tr>\n",
       "    <tr>\n",
       "      <td>3</td>\n",
       "      <td>0.999246</td>\n",
       "      <td>0.211651</td>\n",
       "      <td>0.906871</td>\n",
       "      <td>0.277778</td>\n",
       "      <td>0.205556</td>\n",
       "    </tr>\n",
       "    <tr>\n",
       "      <td>4</td>\n",
       "      <td>0.999031</td>\n",
       "      <td>0.032488</td>\n",
       "      <td>0.148987</td>\n",
       "      <td>0.000000</td>\n",
       "      <td>0.780556</td>\n",
       "    </tr>\n",
       "  </tbody>\n",
       "</table>\n",
       "</div>"
      ],
      "text/plain": [
       "          0         1         2         3         4\n",
       "0  1.000000  0.413715  0.992601  0.822222  0.955556\n",
       "1  0.999742  0.425946  0.867659  0.844444  0.058333\n",
       "2  0.999505  0.658810  0.951077  0.666667  0.419444\n",
       "3  0.999246  0.211651  0.906871  0.277778  0.205556\n",
       "4  0.999031  0.032488  0.148987  0.000000  0.780556"
      ]
     },
     "execution_count": 120,
     "metadata": {},
     "output_type": "execute_result"
    }
   ],
   "source": [
    "df.head()"
   ]
  },
  {
   "cell_type": "code",
   "execution_count": null,
   "metadata": {},
   "outputs": [],
   "source": []
  },
  {
   "cell_type": "code",
   "execution_count": 121,
   "metadata": {},
   "outputs": [],
   "source": [
    "# make new column with no negative symbol\n",
    "\n",
    "def c0(x):\n",
    "    if '-' in x:\n",
    "        x = x.replace('-','')\n",
    "    return x"
   ]
  },
  {
   "cell_type": "code",
   "execution_count": null,
   "metadata": {},
   "outputs": [],
   "source": []
  },
  {
   "cell_type": "code",
   "execution_count": 122,
   "metadata": {},
   "outputs": [
    {
     "data": {
      "text/html": [
       "<div>\n",
       "<style scoped>\n",
       "    .dataframe tbody tr th:only-of-type {\n",
       "        vertical-align: middle;\n",
       "    }\n",
       "\n",
       "    .dataframe tbody tr th {\n",
       "        vertical-align: top;\n",
       "    }\n",
       "\n",
       "    .dataframe thead th {\n",
       "        text-align: right;\n",
       "    }\n",
       "</style>\n",
       "<table border=\"1\" class=\"dataframe\">\n",
       "  <thead>\n",
       "    <tr style=\"text-align: right;\">\n",
       "      <th></th>\n",
       "      <th>Calendar_Date</th>\n",
       "      <th>Delta_T_(s)</th>\n",
       "      <th>Eclipse_Type</th>\n",
       "      <th>Gamma</th>\n",
       "      <th>Eclipse_Magnitude</th>\n",
       "      <th>Sun_Altitude</th>\n",
       "      <th>Sun_Azimuth</th>\n",
       "      <th>Calendar_Date_Clean</th>\n",
       "    </tr>\n",
       "  </thead>\n",
       "  <tbody>\n",
       "    <tr>\n",
       "      <td>0</td>\n",
       "      <td>-1999 June 12</td>\n",
       "      <td>46438</td>\n",
       "      <td>T</td>\n",
       "      <td>-0.2701</td>\n",
       "      <td>1.0733</td>\n",
       "      <td>74</td>\n",
       "      <td>344</td>\n",
       "      <td>1999 June 12</td>\n",
       "    </tr>\n",
       "    <tr>\n",
       "      <td>1</td>\n",
       "      <td>-1999 December 5</td>\n",
       "      <td>46426</td>\n",
       "      <td>A</td>\n",
       "      <td>-0.2317</td>\n",
       "      <td>0.9382</td>\n",
       "      <td>76</td>\n",
       "      <td>21</td>\n",
       "      <td>1999 December 5</td>\n",
       "    </tr>\n",
       "    <tr>\n",
       "      <td>2</td>\n",
       "      <td>-1998 June 1</td>\n",
       "      <td>46415</td>\n",
       "      <td>T</td>\n",
       "      <td>0.4994</td>\n",
       "      <td>1.0284</td>\n",
       "      <td>60</td>\n",
       "      <td>151</td>\n",
       "      <td>1998 June 1</td>\n",
       "    </tr>\n",
       "    <tr>\n",
       "      <td>3</td>\n",
       "      <td>-1998 November 25</td>\n",
       "      <td>46403</td>\n",
       "      <td>A</td>\n",
       "      <td>-0.9045</td>\n",
       "      <td>0.9806</td>\n",
       "      <td>25</td>\n",
       "      <td>74</td>\n",
       "      <td>1998 November 25</td>\n",
       "    </tr>\n",
       "    <tr>\n",
       "      <td>4</td>\n",
       "      <td>-1997 April 22</td>\n",
       "      <td>46393</td>\n",
       "      <td>P</td>\n",
       "      <td>-1.4670</td>\n",
       "      <td>0.1611</td>\n",
       "      <td>0</td>\n",
       "      <td>281</td>\n",
       "      <td>1997 April 22</td>\n",
       "    </tr>\n",
       "  </tbody>\n",
       "</table>\n",
       "</div>"
      ],
      "text/plain": [
       "       Calendar_Date  Delta_T_(s) Eclipse_Type   Gamma  Eclipse_Magnitude  \\\n",
       "0      -1999 June 12        46438            T -0.2701             1.0733   \n",
       "1   -1999 December 5        46426            A -0.2317             0.9382   \n",
       "2       -1998 June 1        46415            T  0.4994             1.0284   \n",
       "3  -1998 November 25        46403            A -0.9045             0.9806   \n",
       "4     -1997 April 22        46393            P -1.4670             0.1611   \n",
       "\n",
       "   Sun_Altitude  Sun_Azimuth Calendar_Date_Clean  \n",
       "0            74          344        1999 June 12  \n",
       "1            76           21     1999 December 5  \n",
       "2            60          151         1998 June 1  \n",
       "3            25           74    1998 November 25  \n",
       "4             0          281       1997 April 22  "
      ]
     },
     "execution_count": 122,
     "metadata": {},
     "output_type": "execute_result"
    }
   ],
   "source": [
    "solar['Calendar_Date_Clean'] = list(map(c0, solar['Calendar_Date']))\n",
    "solar.head()"
   ]
  },
  {
   "cell_type": "code",
   "execution_count": null,
   "metadata": {},
   "outputs": [],
   "source": []
  },
  {
   "cell_type": "code",
   "execution_count": 123,
   "metadata": {},
   "outputs": [
    {
     "data": {
      "text/plain": [
       "['June']"
      ]
     },
     "execution_count": 123,
     "metadata": {},
     "output_type": "execute_result"
    }
   ],
   "source": [
    "# Look for months only\n",
    "\n",
    "import re \n",
    "re.findall('[A-z]+' , solar['Calendar_Date_Clean'][0])"
   ]
  },
  {
   "cell_type": "code",
   "execution_count": null,
   "metadata": {},
   "outputs": [],
   "source": []
  },
  {
   "cell_type": "code",
   "execution_count": 124,
   "metadata": {},
   "outputs": [],
   "source": [
    "# too much time trying to convert to correct datetime format, \n",
    "# used simple regex to remove negative symbol and extracted month\n",
    "\n",
    "\n",
    "def c1(x):\n",
    "    if '-' in x:\n",
    "        x = x.replace('-','')\n",
    "    return((re.findall('[A-z]+', x))[0])"
   ]
  },
  {
   "cell_type": "code",
   "execution_count": null,
   "metadata": {},
   "outputs": [],
   "source": []
  },
  {
   "cell_type": "code",
   "execution_count": 125,
   "metadata": {},
   "outputs": [
    {
     "data": {
      "text/plain": [
       "0            June\n",
       "1        December\n",
       "2            June\n",
       "3        November\n",
       "4           April\n",
       "           ...   \n",
       "11892        June\n",
       "11893    December\n",
       "11894         May\n",
       "11895     October\n",
       "11896       April\n",
       "Name: Calendar_Date_Month, Length: 11329, dtype: object"
      ]
     },
     "execution_count": 125,
     "metadata": {},
     "output_type": "execute_result"
    }
   ],
   "source": [
    "solar['Calendar_Date_Month'] = list(map(c1, solar['Calendar_Date']))\n",
    "solar['Calendar_Date_Month']"
   ]
  },
  {
   "cell_type": "code",
   "execution_count": null,
   "metadata": {},
   "outputs": [],
   "source": []
  },
  {
   "cell_type": "code",
   "execution_count": 126,
   "metadata": {},
   "outputs": [],
   "source": [
    "# Look for years only\n",
    "\n",
    "def c2(x):\n",
    "    if '-' in x:\n",
    "        x = x.replace('-','')\n",
    "    temp = re.findall('\\d\\d\\d\\d', x)\n",
    "    if len(temp)>0:\n",
    "        return temp[0]\n",
    "    else:\n",
    "        return temp"
   ]
  },
  {
   "cell_type": "code",
   "execution_count": 127,
   "metadata": {},
   "outputs": [
    {
     "data": {
      "text/html": [
       "<div>\n",
       "<style scoped>\n",
       "    .dataframe tbody tr th:only-of-type {\n",
       "        vertical-align: middle;\n",
       "    }\n",
       "\n",
       "    .dataframe tbody tr th {\n",
       "        vertical-align: top;\n",
       "    }\n",
       "\n",
       "    .dataframe thead th {\n",
       "        text-align: right;\n",
       "    }\n",
       "</style>\n",
       "<table border=\"1\" class=\"dataframe\">\n",
       "  <thead>\n",
       "    <tr style=\"text-align: right;\">\n",
       "      <th></th>\n",
       "      <th>Calendar_Date</th>\n",
       "      <th>Delta_T_(s)</th>\n",
       "      <th>Eclipse_Type</th>\n",
       "      <th>Gamma</th>\n",
       "      <th>Eclipse_Magnitude</th>\n",
       "      <th>Sun_Altitude</th>\n",
       "      <th>Sun_Azimuth</th>\n",
       "      <th>Calendar_Date_Clean</th>\n",
       "      <th>Calendar_Date_Month</th>\n",
       "      <th>Calendar_Date_Year</th>\n",
       "    </tr>\n",
       "  </thead>\n",
       "  <tbody>\n",
       "    <tr>\n",
       "      <td>0</td>\n",
       "      <td>-1999 June 12</td>\n",
       "      <td>46438</td>\n",
       "      <td>T</td>\n",
       "      <td>-0.2701</td>\n",
       "      <td>1.0733</td>\n",
       "      <td>74</td>\n",
       "      <td>344</td>\n",
       "      <td>1999 June 12</td>\n",
       "      <td>June</td>\n",
       "      <td>1999</td>\n",
       "    </tr>\n",
       "    <tr>\n",
       "      <td>1</td>\n",
       "      <td>-1999 December 5</td>\n",
       "      <td>46426</td>\n",
       "      <td>A</td>\n",
       "      <td>-0.2317</td>\n",
       "      <td>0.9382</td>\n",
       "      <td>76</td>\n",
       "      <td>21</td>\n",
       "      <td>1999 December 5</td>\n",
       "      <td>December</td>\n",
       "      <td>1999</td>\n",
       "    </tr>\n",
       "    <tr>\n",
       "      <td>2</td>\n",
       "      <td>-1998 June 1</td>\n",
       "      <td>46415</td>\n",
       "      <td>T</td>\n",
       "      <td>0.4994</td>\n",
       "      <td>1.0284</td>\n",
       "      <td>60</td>\n",
       "      <td>151</td>\n",
       "      <td>1998 June 1</td>\n",
       "      <td>June</td>\n",
       "      <td>1998</td>\n",
       "    </tr>\n",
       "    <tr>\n",
       "      <td>3</td>\n",
       "      <td>-1998 November 25</td>\n",
       "      <td>46403</td>\n",
       "      <td>A</td>\n",
       "      <td>-0.9045</td>\n",
       "      <td>0.9806</td>\n",
       "      <td>25</td>\n",
       "      <td>74</td>\n",
       "      <td>1998 November 25</td>\n",
       "      <td>November</td>\n",
       "      <td>1998</td>\n",
       "    </tr>\n",
       "    <tr>\n",
       "      <td>4</td>\n",
       "      <td>-1997 April 22</td>\n",
       "      <td>46393</td>\n",
       "      <td>P</td>\n",
       "      <td>-1.4670</td>\n",
       "      <td>0.1611</td>\n",
       "      <td>0</td>\n",
       "      <td>281</td>\n",
       "      <td>1997 April 22</td>\n",
       "      <td>April</td>\n",
       "      <td>1997</td>\n",
       "    </tr>\n",
       "  </tbody>\n",
       "</table>\n",
       "</div>"
      ],
      "text/plain": [
       "       Calendar_Date  Delta_T_(s) Eclipse_Type   Gamma  Eclipse_Magnitude  \\\n",
       "0      -1999 June 12        46438            T -0.2701             1.0733   \n",
       "1   -1999 December 5        46426            A -0.2317             0.9382   \n",
       "2       -1998 June 1        46415            T  0.4994             1.0284   \n",
       "3  -1998 November 25        46403            A -0.9045             0.9806   \n",
       "4     -1997 April 22        46393            P -1.4670             0.1611   \n",
       "\n",
       "   Sun_Altitude  Sun_Azimuth Calendar_Date_Clean Calendar_Date_Month  \\\n",
       "0            74          344        1999 June 12                June   \n",
       "1            76           21     1999 December 5            December   \n",
       "2            60          151         1998 June 1                June   \n",
       "3            25           74    1998 November 25            November   \n",
       "4             0          281       1997 April 22               April   \n",
       "\n",
       "  Calendar_Date_Year  \n",
       "0               1999  \n",
       "1               1999  \n",
       "2               1998  \n",
       "3               1998  \n",
       "4               1997  "
      ]
     },
     "execution_count": 127,
     "metadata": {},
     "output_type": "execute_result"
    }
   ],
   "source": [
    "solar['Calendar_Date_Year'] = list(map(c2, solar['Calendar_Date']))\n",
    "solar.head()"
   ]
  },
  {
   "cell_type": "code",
   "execution_count": 128,
   "metadata": {},
   "outputs": [],
   "source": [
    "# drop original column\n",
    "\n",
    "solar = solar.drop([\"Calendar_Date\"], axis=1)"
   ]
  },
  {
   "cell_type": "code",
   "execution_count": 129,
   "metadata": {},
   "outputs": [
    {
     "data": {
      "text/html": [
       "<div>\n",
       "<style scoped>\n",
       "    .dataframe tbody tr th:only-of-type {\n",
       "        vertical-align: middle;\n",
       "    }\n",
       "\n",
       "    .dataframe tbody tr th {\n",
       "        vertical-align: top;\n",
       "    }\n",
       "\n",
       "    .dataframe thead th {\n",
       "        text-align: right;\n",
       "    }\n",
       "</style>\n",
       "<table border=\"1\" class=\"dataframe\">\n",
       "  <thead>\n",
       "    <tr style=\"text-align: right;\">\n",
       "      <th></th>\n",
       "      <th>Delta_T_(s)</th>\n",
       "      <th>Eclipse_Type</th>\n",
       "      <th>Gamma</th>\n",
       "      <th>Eclipse_Magnitude</th>\n",
       "      <th>Sun_Altitude</th>\n",
       "      <th>Sun_Azimuth</th>\n",
       "      <th>Calendar_Date_Clean</th>\n",
       "      <th>Calendar_Date_Month</th>\n",
       "      <th>Calendar_Date_Year</th>\n",
       "    </tr>\n",
       "  </thead>\n",
       "  <tbody>\n",
       "    <tr>\n",
       "      <td>0</td>\n",
       "      <td>46438</td>\n",
       "      <td>T</td>\n",
       "      <td>-0.2701</td>\n",
       "      <td>1.0733</td>\n",
       "      <td>74</td>\n",
       "      <td>344</td>\n",
       "      <td>1999 June 12</td>\n",
       "      <td>June</td>\n",
       "      <td>1999</td>\n",
       "    </tr>\n",
       "    <tr>\n",
       "      <td>1</td>\n",
       "      <td>46426</td>\n",
       "      <td>A</td>\n",
       "      <td>-0.2317</td>\n",
       "      <td>0.9382</td>\n",
       "      <td>76</td>\n",
       "      <td>21</td>\n",
       "      <td>1999 December 5</td>\n",
       "      <td>December</td>\n",
       "      <td>1999</td>\n",
       "    </tr>\n",
       "    <tr>\n",
       "      <td>2</td>\n",
       "      <td>46415</td>\n",
       "      <td>T</td>\n",
       "      <td>0.4994</td>\n",
       "      <td>1.0284</td>\n",
       "      <td>60</td>\n",
       "      <td>151</td>\n",
       "      <td>1998 June 1</td>\n",
       "      <td>June</td>\n",
       "      <td>1998</td>\n",
       "    </tr>\n",
       "    <tr>\n",
       "      <td>3</td>\n",
       "      <td>46403</td>\n",
       "      <td>A</td>\n",
       "      <td>-0.9045</td>\n",
       "      <td>0.9806</td>\n",
       "      <td>25</td>\n",
       "      <td>74</td>\n",
       "      <td>1998 November 25</td>\n",
       "      <td>November</td>\n",
       "      <td>1998</td>\n",
       "    </tr>\n",
       "    <tr>\n",
       "      <td>4</td>\n",
       "      <td>46393</td>\n",
       "      <td>P</td>\n",
       "      <td>-1.4670</td>\n",
       "      <td>0.1611</td>\n",
       "      <td>0</td>\n",
       "      <td>281</td>\n",
       "      <td>1997 April 22</td>\n",
       "      <td>April</td>\n",
       "      <td>1997</td>\n",
       "    </tr>\n",
       "  </tbody>\n",
       "</table>\n",
       "</div>"
      ],
      "text/plain": [
       "   Delta_T_(s) Eclipse_Type   Gamma  Eclipse_Magnitude  Sun_Altitude  \\\n",
       "0        46438            T -0.2701             1.0733            74   \n",
       "1        46426            A -0.2317             0.9382            76   \n",
       "2        46415            T  0.4994             1.0284            60   \n",
       "3        46403            A -0.9045             0.9806            25   \n",
       "4        46393            P -1.4670             0.1611             0   \n",
       "\n",
       "   Sun_Azimuth Calendar_Date_Clean Calendar_Date_Month Calendar_Date_Year  \n",
       "0          344        1999 June 12                June               1999  \n",
       "1           21     1999 December 5            December               1999  \n",
       "2          151         1998 June 1                June               1998  \n",
       "3           74    1998 November 25            November               1998  \n",
       "4          281       1997 April 22               April               1997  "
      ]
     },
     "execution_count": 129,
     "metadata": {},
     "output_type": "execute_result"
    }
   ],
   "source": [
    "solar.head()"
   ]
  },
  {
   "cell_type": "code",
   "execution_count": 130,
   "metadata": {},
   "outputs": [],
   "source": [
    "# Now let's play with the categories!"
   ]
  },
  {
   "cell_type": "code",
   "execution_count": 131,
   "metadata": {},
   "outputs": [
    {
     "data": {
      "text/plain": [
       "Delta_T_(s)              int64\n",
       "Eclipse_Type            object\n",
       "Gamma                  float64\n",
       "Eclipse_Magnitude      float64\n",
       "Sun_Altitude             int64\n",
       "Sun_Azimuth              int64\n",
       "Calendar_Date_Clean     object\n",
       "Calendar_Date_Month     object\n",
       "Calendar_Date_Year      object\n",
       "dtype: object"
      ]
     },
     "execution_count": 131,
     "metadata": {},
     "output_type": "execute_result"
    }
   ],
   "source": [
    "solar.dtypes"
   ]
  },
  {
   "cell_type": "code",
   "execution_count": 132,
   "metadata": {},
   "outputs": [
    {
     "data": {
      "text/html": [
       "<div>\n",
       "<style scoped>\n",
       "    .dataframe tbody tr th:only-of-type {\n",
       "        vertical-align: middle;\n",
       "    }\n",
       "\n",
       "    .dataframe tbody tr th {\n",
       "        vertical-align: top;\n",
       "    }\n",
       "\n",
       "    .dataframe thead th {\n",
       "        text-align: right;\n",
       "    }\n",
       "</style>\n",
       "<table border=\"1\" class=\"dataframe\">\n",
       "  <thead>\n",
       "    <tr style=\"text-align: right;\">\n",
       "      <th></th>\n",
       "      <th>Eclipse_Type</th>\n",
       "      <th>Calendar_Date_Clean</th>\n",
       "      <th>Calendar_Date_Month</th>\n",
       "      <th>Calendar_Date_Year</th>\n",
       "    </tr>\n",
       "  </thead>\n",
       "  <tbody>\n",
       "    <tr>\n",
       "      <td>0</td>\n",
       "      <td>T</td>\n",
       "      <td>1999 June 12</td>\n",
       "      <td>June</td>\n",
       "      <td>1999</td>\n",
       "    </tr>\n",
       "    <tr>\n",
       "      <td>1</td>\n",
       "      <td>A</td>\n",
       "      <td>1999 December 5</td>\n",
       "      <td>December</td>\n",
       "      <td>1999</td>\n",
       "    </tr>\n",
       "    <tr>\n",
       "      <td>2</td>\n",
       "      <td>T</td>\n",
       "      <td>1998 June 1</td>\n",
       "      <td>June</td>\n",
       "      <td>1998</td>\n",
       "    </tr>\n",
       "    <tr>\n",
       "      <td>3</td>\n",
       "      <td>A</td>\n",
       "      <td>1998 November 25</td>\n",
       "      <td>November</td>\n",
       "      <td>1998</td>\n",
       "    </tr>\n",
       "    <tr>\n",
       "      <td>4</td>\n",
       "      <td>P</td>\n",
       "      <td>1997 April 22</td>\n",
       "      <td>April</td>\n",
       "      <td>1997</td>\n",
       "    </tr>\n",
       "  </tbody>\n",
       "</table>\n",
       "</div>"
      ],
      "text/plain": [
       "  Eclipse_Type Calendar_Date_Clean Calendar_Date_Month Calendar_Date_Year\n",
       "0            T        1999 June 12                June               1999\n",
       "1            A     1999 December 5            December               1999\n",
       "2            T         1998 June 1                June               1998\n",
       "3            A    1998 November 25            November               1998\n",
       "4            P       1997 April 22               April               1997"
      ]
     },
     "execution_count": 132,
     "metadata": {},
     "output_type": "execute_result"
    }
   ],
   "source": [
    "SolarCategoricals = solar.select_dtypes(object)\n",
    "SolarCategoricals.head()"
   ]
  },
  {
   "cell_type": "code",
   "execution_count": 133,
   "metadata": {},
   "outputs": [],
   "source": [
    "from sklearn import preprocessing\n",
    "\n"
   ]
  },
  {
   "cell_type": "code",
   "execution_count": 134,
   "metadata": {},
   "outputs": [
    {
     "data": {
      "text/html": [
       "<div>\n",
       "<style scoped>\n",
       "    .dataframe tbody tr th:only-of-type {\n",
       "        vertical-align: middle;\n",
       "    }\n",
       "\n",
       "    .dataframe tbody tr th {\n",
       "        vertical-align: top;\n",
       "    }\n",
       "\n",
       "    .dataframe thead th {\n",
       "        text-align: right;\n",
       "    }\n",
       "</style>\n",
       "<table border=\"1\" class=\"dataframe\">\n",
       "  <thead>\n",
       "    <tr style=\"text-align: right;\">\n",
       "      <th></th>\n",
       "      <th>Delta_T_(s)</th>\n",
       "      <th>Eclipse_Type</th>\n",
       "      <th>Gamma</th>\n",
       "      <th>Eclipse_Magnitude</th>\n",
       "      <th>Sun_Altitude</th>\n",
       "      <th>Sun_Azimuth</th>\n",
       "      <th>Calendar_Date_Clean</th>\n",
       "      <th>Calendar_Date_Month</th>\n",
       "      <th>Calendar_Date_Year</th>\n",
       "    </tr>\n",
       "  </thead>\n",
       "  <tbody>\n",
       "    <tr>\n",
       "      <td>0</td>\n",
       "      <td>46438</td>\n",
       "      <td>T</td>\n",
       "      <td>-0.2701</td>\n",
       "      <td>1.0733</td>\n",
       "      <td>74</td>\n",
       "      <td>344</td>\n",
       "      <td>1999 June 12</td>\n",
       "      <td>June</td>\n",
       "      <td>1999</td>\n",
       "    </tr>\n",
       "    <tr>\n",
       "      <td>1</td>\n",
       "      <td>46426</td>\n",
       "      <td>A</td>\n",
       "      <td>-0.2317</td>\n",
       "      <td>0.9382</td>\n",
       "      <td>76</td>\n",
       "      <td>21</td>\n",
       "      <td>1999 December 5</td>\n",
       "      <td>December</td>\n",
       "      <td>1999</td>\n",
       "    </tr>\n",
       "    <tr>\n",
       "      <td>2</td>\n",
       "      <td>46415</td>\n",
       "      <td>T</td>\n",
       "      <td>0.4994</td>\n",
       "      <td>1.0284</td>\n",
       "      <td>60</td>\n",
       "      <td>151</td>\n",
       "      <td>1998 June 1</td>\n",
       "      <td>June</td>\n",
       "      <td>1998</td>\n",
       "    </tr>\n",
       "    <tr>\n",
       "      <td>3</td>\n",
       "      <td>46403</td>\n",
       "      <td>A</td>\n",
       "      <td>-0.9045</td>\n",
       "      <td>0.9806</td>\n",
       "      <td>25</td>\n",
       "      <td>74</td>\n",
       "      <td>1998 November 25</td>\n",
       "      <td>November</td>\n",
       "      <td>1998</td>\n",
       "    </tr>\n",
       "    <tr>\n",
       "      <td>4</td>\n",
       "      <td>46393</td>\n",
       "      <td>P</td>\n",
       "      <td>-1.4670</td>\n",
       "      <td>0.1611</td>\n",
       "      <td>0</td>\n",
       "      <td>281</td>\n",
       "      <td>1997 April 22</td>\n",
       "      <td>April</td>\n",
       "      <td>1997</td>\n",
       "    </tr>\n",
       "  </tbody>\n",
       "</table>\n",
       "</div>"
      ],
      "text/plain": [
       "   Delta_T_(s) Eclipse_Type   Gamma  Eclipse_Magnitude  Sun_Altitude  \\\n",
       "0        46438            T -0.2701             1.0733            74   \n",
       "1        46426            A -0.2317             0.9382            76   \n",
       "2        46415            T  0.4994             1.0284            60   \n",
       "3        46403            A -0.9045             0.9806            25   \n",
       "4        46393            P -1.4670             0.1611             0   \n",
       "\n",
       "   Sun_Azimuth Calendar_Date_Clean Calendar_Date_Month Calendar_Date_Year  \n",
       "0          344        1999 June 12                June               1999  \n",
       "1           21     1999 December 5            December               1999  \n",
       "2          151         1998 June 1                June               1998  \n",
       "3           74    1998 November 25            November               1998  \n",
       "4          281       1997 April 22               April               1997  "
      ]
     },
     "execution_count": 134,
     "metadata": {},
     "output_type": "execute_result"
    }
   ],
   "source": [
    "solar.head()"
   ]
  },
  {
   "cell_type": "code",
   "execution_count": 135,
   "metadata": {},
   "outputs": [
    {
     "data": {
      "text/plain": [
       "Index(['Delta_T_(s)', 'Eclipse_Type', 'Gamma', 'Eclipse_Magnitude',\n",
       "       'Sun_Altitude', 'Sun_Azimuth', 'Calendar_Date_Clean',\n",
       "       'Calendar_Date_Month', 'Calendar_Date_Year'],\n",
       "      dtype='object')"
      ]
     },
     "execution_count": 135,
     "metadata": {},
     "output_type": "execute_result"
    }
   ],
   "source": [
    "solar.columns"
   ]
  },
  {
   "cell_type": "code",
   "execution_count": null,
   "metadata": {},
   "outputs": [],
   "source": [
    "'''\n",
    "The Target[Y] is finding the Eclipse_Type\n",
    "The Features[X] are what will determine the best outcome for Y\n",
    "need to determine which are the best features to use to get the prediction \n",
    "while having a high measurement of acuracy.\n",
    "\n",
    "We will do a Train/Test Split in order to verify.\n",
    "'''"
   ]
  },
  {
   "cell_type": "code",
   "execution_count": null,
   "metadata": {},
   "outputs": [],
   "source": [
    "# presentation: explain what is under & overfitting a model stressing we dont want either in data analysis\n",
    "\n",
    "aka (https://towardsdatascience.com/train-test-split-and-cross-validation-in-python-80b61beca4b6)\n",
    "we don't want this ' because they affect the predictability of our model '\n",
    "but we also want it so it can generalize predictions with other data\n",
    "\n",
    "overfitting- too complex/not AS generalized- will be VERY accurate on the training data, \n",
    "             ie. too many features or variables compared to the number of observations\n",
    "             in this case the model learns & describes the 'noise' in the training data instead of focusing\n",
    "             on the actual relationships between the variables in the training data.\n",
    "        \n",
    "underfitting- less prevalent than overfitting. misses the trends in the training data. due to too simple of a model, \n",
    "              not enough predictors or independent variables. also happens when fitting a linear model to data \n",
    "              that is nonlinear (such as using linear regression).\n",
    "        \n",
    "Best practice is to avoid both.\n",
    "Train/Test split & Cross Validation help avoid overfitting more than undefitting.\n",
    "\n",
    "    \"The training set contains a known output and the model learns on this data \n",
    "    in order to be generalized to other data later on. We have the test dataset \n",
    "    (or subset) in order to test our model’s prediction on this subset.\"\n",
    "    \n",
    "    \"Split the data into a training and test set\n",
    "    This allows for use to train our model on the training set and evaluate the \n",
    "    built model against the test set to identify errors.\""
   ]
  },
  {
   "cell_type": "code",
   "execution_count": 139,
   "metadata": {},
   "outputs": [
    {
     "data": {
      "text/html": [
       "<div>\n",
       "<style scoped>\n",
       "    .dataframe tbody tr th:only-of-type {\n",
       "        vertical-align: middle;\n",
       "    }\n",
       "\n",
       "    .dataframe tbody tr th {\n",
       "        vertical-align: top;\n",
       "    }\n",
       "\n",
       "    .dataframe thead th {\n",
       "        text-align: right;\n",
       "    }\n",
       "</style>\n",
       "<table border=\"1\" class=\"dataframe\">\n",
       "  <thead>\n",
       "    <tr style=\"text-align: right;\">\n",
       "      <th></th>\n",
       "      <th>Delta_T_(s)</th>\n",
       "      <th>Eclipse_Type</th>\n",
       "      <th>Gamma</th>\n",
       "      <th>Eclipse_Magnitude</th>\n",
       "      <th>Sun_Altitude</th>\n",
       "      <th>Sun_Azimuth</th>\n",
       "      <th>Calendar_Date_Clean</th>\n",
       "      <th>Calendar_Date_Month</th>\n",
       "      <th>Calendar_Date_Year</th>\n",
       "      <th>Eclipse_Type_Encoded</th>\n",
       "    </tr>\n",
       "  </thead>\n",
       "  <tbody>\n",
       "    <tr>\n",
       "      <td>0</td>\n",
       "      <td>46438</td>\n",
       "      <td>T</td>\n",
       "      <td>-0.2701</td>\n",
       "      <td>1.0733</td>\n",
       "      <td>74</td>\n",
       "      <td>344</td>\n",
       "      <td>1999 June 12</td>\n",
       "      <td>June</td>\n",
       "      <td>1999</td>\n",
       "      <td>2</td>\n",
       "    </tr>\n",
       "    <tr>\n",
       "      <td>1</td>\n",
       "      <td>46426</td>\n",
       "      <td>A</td>\n",
       "      <td>-0.2317</td>\n",
       "      <td>0.9382</td>\n",
       "      <td>76</td>\n",
       "      <td>21</td>\n",
       "      <td>1999 December 5</td>\n",
       "      <td>December</td>\n",
       "      <td>1999</td>\n",
       "      <td>0</td>\n",
       "    </tr>\n",
       "    <tr>\n",
       "      <td>2</td>\n",
       "      <td>46415</td>\n",
       "      <td>T</td>\n",
       "      <td>0.4994</td>\n",
       "      <td>1.0284</td>\n",
       "      <td>60</td>\n",
       "      <td>151</td>\n",
       "      <td>1998 June 1</td>\n",
       "      <td>June</td>\n",
       "      <td>1998</td>\n",
       "      <td>2</td>\n",
       "    </tr>\n",
       "    <tr>\n",
       "      <td>3</td>\n",
       "      <td>46403</td>\n",
       "      <td>A</td>\n",
       "      <td>-0.9045</td>\n",
       "      <td>0.9806</td>\n",
       "      <td>25</td>\n",
       "      <td>74</td>\n",
       "      <td>1998 November 25</td>\n",
       "      <td>November</td>\n",
       "      <td>1998</td>\n",
       "      <td>0</td>\n",
       "    </tr>\n",
       "    <tr>\n",
       "      <td>4</td>\n",
       "      <td>46393</td>\n",
       "      <td>P</td>\n",
       "      <td>-1.4670</td>\n",
       "      <td>0.1611</td>\n",
       "      <td>0</td>\n",
       "      <td>281</td>\n",
       "      <td>1997 April 22</td>\n",
       "      <td>April</td>\n",
       "      <td>1997</td>\n",
       "      <td>1</td>\n",
       "    </tr>\n",
       "    <tr>\n",
       "      <td>...</td>\n",
       "      <td>...</td>\n",
       "      <td>...</td>\n",
       "      <td>...</td>\n",
       "      <td>...</td>\n",
       "      <td>...</td>\n",
       "      <td>...</td>\n",
       "      <td>...</td>\n",
       "      <td>...</td>\n",
       "      <td>...</td>\n",
       "      <td>...</td>\n",
       "    </tr>\n",
       "    <tr>\n",
       "      <td>11892</td>\n",
       "      <td>4410</td>\n",
       "      <td>P</td>\n",
       "      <td>-1.0158</td>\n",
       "      <td>0.9792</td>\n",
       "      <td>0</td>\n",
       "      <td>9</td>\n",
       "      <td>2998 June 15</td>\n",
       "      <td>June</td>\n",
       "      <td>2998</td>\n",
       "      <td>1</td>\n",
       "    </tr>\n",
       "    <tr>\n",
       "      <td>11893</td>\n",
       "      <td>4414</td>\n",
       "      <td>P</td>\n",
       "      <td>1.2838</td>\n",
       "      <td>0.4773</td>\n",
       "      <td>0</td>\n",
       "      <td>179</td>\n",
       "      <td>2998 December 10</td>\n",
       "      <td>December</td>\n",
       "      <td>2998</td>\n",
       "      <td>1</td>\n",
       "    </tr>\n",
       "    <tr>\n",
       "      <td>11894</td>\n",
       "      <td>4417</td>\n",
       "      <td>T</td>\n",
       "      <td>0.8388</td>\n",
       "      <td>1.0566</td>\n",
       "      <td>33</td>\n",
       "      <td>146</td>\n",
       "      <td>2999 May 6</td>\n",
       "      <td>May</td>\n",
       "      <td>2999</td>\n",
       "      <td>2</td>\n",
       "    </tr>\n",
       "    <tr>\n",
       "      <td>11895</td>\n",
       "      <td>4420</td>\n",
       "      <td>A</td>\n",
       "      <td>-1.0023</td>\n",
       "      <td>0.9586</td>\n",
       "      <td>0</td>\n",
       "      <td>137</td>\n",
       "      <td>2999 October 30</td>\n",
       "      <td>October</td>\n",
       "      <td>2999</td>\n",
       "      <td>0</td>\n",
       "    </tr>\n",
       "    <tr>\n",
       "      <td>11896</td>\n",
       "      <td>4424</td>\n",
       "      <td>T</td>\n",
       "      <td>0.1310</td>\n",
       "      <td>1.0222</td>\n",
       "      <td>82</td>\n",
       "      <td>166</td>\n",
       "      <td>3000 April 26</td>\n",
       "      <td>April</td>\n",
       "      <td>3000</td>\n",
       "      <td>2</td>\n",
       "    </tr>\n",
       "  </tbody>\n",
       "</table>\n",
       "<p>11329 rows × 10 columns</p>\n",
       "</div>"
      ],
      "text/plain": [
       "       Delta_T_(s) Eclipse_Type   Gamma  Eclipse_Magnitude  Sun_Altitude  \\\n",
       "0            46438            T -0.2701             1.0733            74   \n",
       "1            46426            A -0.2317             0.9382            76   \n",
       "2            46415            T  0.4994             1.0284            60   \n",
       "3            46403            A -0.9045             0.9806            25   \n",
       "4            46393            P -1.4670             0.1611             0   \n",
       "...            ...          ...     ...                ...           ...   \n",
       "11892         4410            P -1.0158             0.9792             0   \n",
       "11893         4414            P  1.2838             0.4773             0   \n",
       "11894         4417            T  0.8388             1.0566            33   \n",
       "11895         4420            A -1.0023             0.9586             0   \n",
       "11896         4424            T  0.1310             1.0222            82   \n",
       "\n",
       "       Sun_Azimuth Calendar_Date_Clean Calendar_Date_Month Calendar_Date_Year  \\\n",
       "0              344        1999 June 12                June               1999   \n",
       "1               21     1999 December 5            December               1999   \n",
       "2              151         1998 June 1                June               1998   \n",
       "3               74    1998 November 25            November               1998   \n",
       "4              281       1997 April 22               April               1997   \n",
       "...            ...                 ...                 ...                ...   \n",
       "11892            9        2998 June 15                June               2998   \n",
       "11893          179    2998 December 10            December               2998   \n",
       "11894          146          2999 May 6                 May               2999   \n",
       "11895          137     2999 October 30             October               2999   \n",
       "11896          166       3000 April 26               April               3000   \n",
       "\n",
       "       Eclipse_Type_Encoded  \n",
       "0                         2  \n",
       "1                         0  \n",
       "2                         2  \n",
       "3                         0  \n",
       "4                         1  \n",
       "...                     ...  \n",
       "11892                     1  \n",
       "11893                     1  \n",
       "11894                     2  \n",
       "11895                     0  \n",
       "11896                     2  \n",
       "\n",
       "[11329 rows x 10 columns]"
      ]
     },
     "execution_count": 139,
     "metadata": {},
     "output_type": "execute_result"
    }
   ],
   "source": [
    "solar "
   ]
  },
  {
   "cell_type": "code",
   "execution_count": 151,
   "metadata": {},
   "outputs": [
    {
     "data": {
      "text/html": [
       "<div>\n",
       "<style scoped>\n",
       "    .dataframe tbody tr th:only-of-type {\n",
       "        vertical-align: middle;\n",
       "    }\n",
       "\n",
       "    .dataframe tbody tr th {\n",
       "        vertical-align: top;\n",
       "    }\n",
       "\n",
       "    .dataframe thead th {\n",
       "        text-align: right;\n",
       "    }\n",
       "</style>\n",
       "<table border=\"1\" class=\"dataframe\">\n",
       "  <thead>\n",
       "    <tr style=\"text-align: right;\">\n",
       "      <th></th>\n",
       "      <th>Delta_T_(s)</th>\n",
       "      <th>Gamma</th>\n",
       "      <th>Eclipse_Magnitude</th>\n",
       "      <th>Sun_Altitude</th>\n",
       "      <th>Sun_Azimuth</th>\n",
       "    </tr>\n",
       "  </thead>\n",
       "  <tbody>\n",
       "    <tr>\n",
       "      <td>0</td>\n",
       "      <td>46438</td>\n",
       "      <td>-0.2701</td>\n",
       "      <td>1.0733</td>\n",
       "      <td>74</td>\n",
       "      <td>344</td>\n",
       "    </tr>\n",
       "    <tr>\n",
       "      <td>1</td>\n",
       "      <td>46426</td>\n",
       "      <td>-0.2317</td>\n",
       "      <td>0.9382</td>\n",
       "      <td>76</td>\n",
       "      <td>21</td>\n",
       "    </tr>\n",
       "    <tr>\n",
       "      <td>2</td>\n",
       "      <td>46415</td>\n",
       "      <td>0.4994</td>\n",
       "      <td>1.0284</td>\n",
       "      <td>60</td>\n",
       "      <td>151</td>\n",
       "    </tr>\n",
       "    <tr>\n",
       "      <td>3</td>\n",
       "      <td>46403</td>\n",
       "      <td>-0.9045</td>\n",
       "      <td>0.9806</td>\n",
       "      <td>25</td>\n",
       "      <td>74</td>\n",
       "    </tr>\n",
       "    <tr>\n",
       "      <td>4</td>\n",
       "      <td>46393</td>\n",
       "      <td>-1.4670</td>\n",
       "      <td>0.1611</td>\n",
       "      <td>0</td>\n",
       "      <td>281</td>\n",
       "    </tr>\n",
       "    <tr>\n",
       "      <td>...</td>\n",
       "      <td>...</td>\n",
       "      <td>...</td>\n",
       "      <td>...</td>\n",
       "      <td>...</td>\n",
       "      <td>...</td>\n",
       "    </tr>\n",
       "    <tr>\n",
       "      <td>11892</td>\n",
       "      <td>4410</td>\n",
       "      <td>-1.0158</td>\n",
       "      <td>0.9792</td>\n",
       "      <td>0</td>\n",
       "      <td>9</td>\n",
       "    </tr>\n",
       "    <tr>\n",
       "      <td>11893</td>\n",
       "      <td>4414</td>\n",
       "      <td>1.2838</td>\n",
       "      <td>0.4773</td>\n",
       "      <td>0</td>\n",
       "      <td>179</td>\n",
       "    </tr>\n",
       "    <tr>\n",
       "      <td>11894</td>\n",
       "      <td>4417</td>\n",
       "      <td>0.8388</td>\n",
       "      <td>1.0566</td>\n",
       "      <td>33</td>\n",
       "      <td>146</td>\n",
       "    </tr>\n",
       "    <tr>\n",
       "      <td>11895</td>\n",
       "      <td>4420</td>\n",
       "      <td>-1.0023</td>\n",
       "      <td>0.9586</td>\n",
       "      <td>0</td>\n",
       "      <td>137</td>\n",
       "    </tr>\n",
       "    <tr>\n",
       "      <td>11896</td>\n",
       "      <td>4424</td>\n",
       "      <td>0.1310</td>\n",
       "      <td>1.0222</td>\n",
       "      <td>82</td>\n",
       "      <td>166</td>\n",
       "    </tr>\n",
       "  </tbody>\n",
       "</table>\n",
       "<p>11329 rows × 5 columns</p>\n",
       "</div>"
      ],
      "text/plain": [
       "       Delta_T_(s)   Gamma  Eclipse_Magnitude  Sun_Altitude  Sun_Azimuth\n",
       "0            46438 -0.2701             1.0733            74          344\n",
       "1            46426 -0.2317             0.9382            76           21\n",
       "2            46415  0.4994             1.0284            60          151\n",
       "3            46403 -0.9045             0.9806            25           74\n",
       "4            46393 -1.4670             0.1611             0          281\n",
       "...            ...     ...                ...           ...          ...\n",
       "11892         4410 -1.0158             0.9792             0            9\n",
       "11893         4414  1.2838             0.4773             0          179\n",
       "11894         4417  0.8388             1.0566            33          146\n",
       "11895         4420 -1.0023             0.9586             0          137\n",
       "11896         4424  0.1310             1.0222            82          166\n",
       "\n",
       "[11329 rows x 5 columns]"
      ]
     },
     "execution_count": 151,
     "metadata": {},
     "output_type": "execute_result"
    }
   ],
   "source": [
    "numericals = solar._get_numeric_data()\n",
    "numericals = pd.DataFrame(numericals)\n",
    "numericals = numericals.drop(['Eclipse_Type_Encoded'], axis=1)\n",
    "numericals"
   ]
  },
  {
   "cell_type": "code",
   "execution_count": 175,
   "metadata": {},
   "outputs": [
    {
     "data": {
      "text/html": [
       "<div>\n",
       "<style scoped>\n",
       "    .dataframe tbody tr th:only-of-type {\n",
       "        vertical-align: middle;\n",
       "    }\n",
       "\n",
       "    .dataframe tbody tr th {\n",
       "        vertical-align: top;\n",
       "    }\n",
       "\n",
       "    .dataframe thead th {\n",
       "        text-align: right;\n",
       "    }\n",
       "</style>\n",
       "<table border=\"1\" class=\"dataframe\">\n",
       "  <thead>\n",
       "    <tr style=\"text-align: right;\">\n",
       "      <th></th>\n",
       "      <th>0</th>\n",
       "      <th>1</th>\n",
       "      <th>2</th>\n",
       "      <th>3</th>\n",
       "      <th>4</th>\n",
       "    </tr>\n",
       "  </thead>\n",
       "  <tbody>\n",
       "    <tr>\n",
       "      <td>0</td>\n",
       "      <td>0.999971</td>\n",
       "      <td>-0.000006</td>\n",
       "      <td>0.000023</td>\n",
       "      <td>0.001593</td>\n",
       "      <td>0.007408</td>\n",
       "    </tr>\n",
       "    <tr>\n",
       "      <td>1</td>\n",
       "      <td>0.999999</td>\n",
       "      <td>-0.000005</td>\n",
       "      <td>0.000020</td>\n",
       "      <td>0.001637</td>\n",
       "      <td>0.000452</td>\n",
       "    </tr>\n",
       "    <tr>\n",
       "      <td>2</td>\n",
       "      <td>0.999994</td>\n",
       "      <td>0.000011</td>\n",
       "      <td>0.000022</td>\n",
       "      <td>0.001293</td>\n",
       "      <td>0.003253</td>\n",
       "    </tr>\n",
       "    <tr>\n",
       "      <td>3</td>\n",
       "      <td>0.999999</td>\n",
       "      <td>-0.000019</td>\n",
       "      <td>0.000021</td>\n",
       "      <td>0.000539</td>\n",
       "      <td>0.001595</td>\n",
       "    </tr>\n",
       "    <tr>\n",
       "      <td>4</td>\n",
       "      <td>0.999982</td>\n",
       "      <td>-0.000032</td>\n",
       "      <td>0.000003</td>\n",
       "      <td>0.000000</td>\n",
       "      <td>0.006057</td>\n",
       "    </tr>\n",
       "    <tr>\n",
       "      <td>...</td>\n",
       "      <td>...</td>\n",
       "      <td>...</td>\n",
       "      <td>...</td>\n",
       "      <td>...</td>\n",
       "      <td>...</td>\n",
       "    </tr>\n",
       "    <tr>\n",
       "      <td>11324</td>\n",
       "      <td>0.999998</td>\n",
       "      <td>-0.000230</td>\n",
       "      <td>0.000222</td>\n",
       "      <td>0.000000</td>\n",
       "      <td>0.002041</td>\n",
       "    </tr>\n",
       "    <tr>\n",
       "      <td>11325</td>\n",
       "      <td>0.999179</td>\n",
       "      <td>0.000291</td>\n",
       "      <td>0.000108</td>\n",
       "      <td>0.000000</td>\n",
       "      <td>0.040519</td>\n",
       "    </tr>\n",
       "    <tr>\n",
       "      <td>11326</td>\n",
       "      <td>0.999426</td>\n",
       "      <td>0.000190</td>\n",
       "      <td>0.000239</td>\n",
       "      <td>0.007467</td>\n",
       "      <td>0.033035</td>\n",
       "    </tr>\n",
       "    <tr>\n",
       "      <td>11327</td>\n",
       "      <td>0.999520</td>\n",
       "      <td>-0.000227</td>\n",
       "      <td>0.000217</td>\n",
       "      <td>0.000000</td>\n",
       "      <td>0.030981</td>\n",
       "    </tr>\n",
       "    <tr>\n",
       "      <td>11328</td>\n",
       "      <td>0.999125</td>\n",
       "      <td>0.000030</td>\n",
       "      <td>0.000231</td>\n",
       "      <td>0.018519</td>\n",
       "      <td>0.037490</td>\n",
       "    </tr>\n",
       "  </tbody>\n",
       "</table>\n",
       "<p>11329 rows × 5 columns</p>\n",
       "</div>"
      ],
      "text/plain": [
       "              0         1         2         3         4\n",
       "0      0.999971 -0.000006  0.000023  0.001593  0.007408\n",
       "1      0.999999 -0.000005  0.000020  0.001637  0.000452\n",
       "2      0.999994  0.000011  0.000022  0.001293  0.003253\n",
       "3      0.999999 -0.000019  0.000021  0.000539  0.001595\n",
       "4      0.999982 -0.000032  0.000003  0.000000  0.006057\n",
       "...         ...       ...       ...       ...       ...\n",
       "11324  0.999998 -0.000230  0.000222  0.000000  0.002041\n",
       "11325  0.999179  0.000291  0.000108  0.000000  0.040519\n",
       "11326  0.999426  0.000190  0.000239  0.007467  0.033035\n",
       "11327  0.999520 -0.000227  0.000217  0.000000  0.030981\n",
       "11328  0.999125  0.000030  0.000231  0.018519  0.037490\n",
       "\n",
       "[11329 rows x 5 columns]"
      ]
     },
     "execution_count": 175,
     "metadata": {},
     "output_type": "execute_result"
    }
   ],
   "source": [
    "from sklearn.preprocessing import Normalizer\n",
    "transformer = Normalizer().fit(numericals)\n",
    "normalized_x = transformer.transform(numericals)\n",
    "pd.DataFrame(normalized_x)"
   ]
  },
  {
   "cell_type": "code",
   "execution_count": 176,
   "metadata": {},
   "outputs": [],
   "source": [
    "categoricals = solar.select_dtypes('object')\n",
    "categoricals = categoricals['Eclipse_Type']\n",
    "y = categoricals"
   ]
  },
  {
   "cell_type": "code",
   "execution_count": 177,
   "metadata": {},
   "outputs": [],
   "source": [
    "# importing the necessary libraries\n",
    "\n",
    "import pandas as pd\n",
    "from sklearn import linear_model\n",
    "from sklearn.model_selection import train_test_split\n",
    "from matplotlib import pyplot as plt"
   ]
  },
  {
   "cell_type": "code",
   "execution_count": 178,
   "metadata": {},
   "outputs": [],
   "source": [
    "# defining the target variable (dependent variable) as y\n",
    "\n",
    "y = solar.Eclipse_Type"
   ]
  },
  {
   "cell_type": "code",
   "execution_count": 179,
   "metadata": {},
   "outputs": [
    {
     "data": {
      "text/plain": [
       "array([2, 0, 2, ..., 2, 0, 2])"
      ]
     },
     "execution_count": 179,
     "metadata": {},
     "output_type": "execute_result"
    }
   ],
   "source": [
    "from sklearn.preprocessing import LabelEncoder \n",
    "\n",
    "le = LabelEncoder() \n",
    "  \n",
    "y = le.fit_transform(y)\n",
    "y"
   ]
  },
  {
   "cell_type": "code",
   "execution_count": 180,
   "metadata": {},
   "outputs": [],
   "source": [
    "# creating training and testing variables\n",
    "# test_size = the percentage of the data for testing. It’s usually around 80/20 or 70/30. In this case 80/20\n",
    "\n",
    "X_train, X_test, y_train, y_test = train_test_split(normalized_x, y, test_size=0.2)"
   ]
  },
  {
   "cell_type": "code",
   "execution_count": 181,
   "metadata": {},
   "outputs": [
    {
     "name": "stdout",
     "output_type": "stream",
     "text": [
      "(9063, 5) (9063,)\n",
      "(2266, 5) (2266,)\n"
     ]
    }
   ],
   "source": [
    "print(X_train.shape, y_train.shape)\n",
    "print(X_test.shape, y_test.shape)"
   ]
  },
  {
   "cell_type": "markdown",
   "metadata": {},
   "source": [
    "# LINEAR REGRESSION"
   ]
  },
  {
   "cell_type": "code",
   "execution_count": 182,
   "metadata": {},
   "outputs": [],
   "source": [
    "# fitting the model on the training data\n",
    "\n",
    "\n",
    "lm = linear_model.LinearRegression()\n",
    "model = lm.fit(X_train, y_train)\n",
    "predictions = lm.predict(X_test)\n",
    "\n",
    "                    # ...nvm i have to use logistic regression for this CLASSIFICATION PROBLEM *eye roll, sweats*"
   ]
  },
  {
   "cell_type": "code",
   "execution_count": 183,
   "metadata": {},
   "outputs": [
    {
     "data": {
      "text/plain": [
       "array([0.92433664, 0.93015369, 0.9261206 , 0.92441777, 0.9247447 ])"
      ]
     },
     "execution_count": 183,
     "metadata": {},
     "output_type": "execute_result"
    }
   ],
   "source": [
    "# show first five predicted values\n",
    "\n",
    "predictions[0:5]"
   ]
  },
  {
   "cell_type": "code",
   "execution_count": 184,
   "metadata": {},
   "outputs": [
    {
     "ename": "SyntaxError",
     "evalue": "invalid character in identifier (<ipython-input-184-6ac5b9bd5e8d>, line 4)",
     "output_type": "error",
     "traceback": [
      "\u001b[0;36m  File \u001b[0;32m\"<ipython-input-184-6ac5b9bd5e8d>\"\u001b[0;36m, line \u001b[0;32m4\u001b[0m\n\u001b[0;31m    plt.xlabel(“True_Values”)\u001b[0m\n\u001b[0m                           ^\u001b[0m\n\u001b[0;31mSyntaxError\u001b[0m\u001b[0;31m:\u001b[0m invalid character in identifier\n"
     ]
    }
   ],
   "source": [
    "# plotting the model - The line / model\n",
    "\n",
    "plt.scatter(y_test, predictions)\n",
    "plt.xlabel(“True_Values”)\n",
    "plt.ylabel(“Predictions”)"
   ]
  },
  {
   "cell_type": "markdown",
   "metadata": {},
   "source": [
    "# LOGISTIC REGRESSION"
   ]
  },
  {
   "cell_type": "code",
   "execution_count": 185,
   "metadata": {},
   "outputs": [],
   "source": [
    "from sklearn.datasets import load_iris\n",
    "from sklearn.linear_model import LogisticRegression\n"
   ]
  },
  {
   "cell_type": "code",
   "execution_count": null,
   "metadata": {},
   "outputs": [],
   "source": [
    "# Training the Logistic Regression Model:"
   ]
  },
  {
   "cell_type": "code",
   "execution_count": 169,
   "metadata": {},
   "outputs": [],
   "source": [
    "# Split data into 'X' features and 'y' target label sets\n",
    "\n",
    "X = normalized_x\n",
    "y = le.fit_transform(y)"
   ]
  },
  {
   "cell_type": "code",
   "execution_count": 171,
   "metadata": {},
   "outputs": [],
   "source": [
    "# Import module to split dataset\n",
    "\n",
    "from sklearn.model_selection import train_test_split\n",
    "\n",
    "# Split data set into training and test sets\n",
    "X_train, X_test, y_train, y_test = train_test_split(X, y, test_size=0.2,) # random_state= _no._ simply sets a seed to the random generator, so that your train-test splits are always deterministic. If you don't set a seed, it is different each time."
   ]
  },
  {
   "cell_type": "code",
   "execution_count": 172,
   "metadata": {},
   "outputs": [
    {
     "name": "stderr",
     "output_type": "stream",
     "text": [
      "/opt/anaconda3/lib/python3.7/site-packages/sklearn/linear_model/logistic.py:432: FutureWarning: Default solver will be changed to 'lbfgs' in 0.22. Specify a solver to silence this warning.\n",
      "  FutureWarning)\n",
      "/opt/anaconda3/lib/python3.7/site-packages/sklearn/linear_model/logistic.py:469: FutureWarning: Default multi_class will be changed to 'auto' in 0.22. Specify the multi_class option to silence this warning.\n",
      "  \"this warning.\", FutureWarning)\n"
     ]
    },
    {
     "data": {
      "text/plain": [
       "LogisticRegression(C=1.0, class_weight=None, dual=False, fit_intercept=True,\n",
       "                   intercept_scaling=1, l1_ratio=None, max_iter=100,\n",
       "                   multi_class='warn', n_jobs=None, penalty='l2',\n",
       "                   random_state=None, solver='warn', tol=0.0001, verbose=0,\n",
       "                   warm_start=False)"
      ]
     },
     "execution_count": 172,
     "metadata": {},
     "output_type": "execute_result"
    }
   ],
   "source": [
    "# Import module for fitting\n",
    "from sklearn.linear_model import LogisticRegression\n",
    "\n",
    "# Create instance (i.e. object) of LogisticRegression\n",
    "logmodel = LogisticRegression()\n",
    "\n",
    "# Fit the model using the training data\n",
    "# X_train -> parameter supplies the data features\n",
    "# y_train -> parameter supplies the target labels\n",
    "logmodel.fit(X_train, y_train)"
   ]
  },
  {
   "cell_type": "code",
   "execution_count": null,
   "metadata": {},
   "outputs": [],
   "source": [
    "\"\"\"\n",
    "NOW,\n",
    "Evaluate the Model by reviewing the classification report or confusion matrix. \n",
    "By reviewing these tables, we are able to evaluate the model. \n",
    "Below we are able to identify that the model has a precision of 50.9% accuracy. \n",
    "To improve this we could gather more data, conduct further feature engineering and more to continue to adjust.\n",
    "\"\"\""
   ]
  },
  {
   "cell_type": "code",
   "execution_count": 194,
   "metadata": {},
   "outputs": [
    {
     "data": {
      "text/plain": [
       "array([0, 1, 1, ..., 1, 0, 2])"
      ]
     },
     "execution_count": 194,
     "metadata": {},
     "output_type": "execute_result"
    }
   ],
   "source": [
    "pd.DataFrame(y_test)"
   ]
  },
  {
   "cell_type": "code",
   "execution_count": 197,
   "metadata": {},
   "outputs": [],
   "source": [
    "from sklearn.metrics import classification_report, accuracy_score\n",
    "predictions = logmodel.predict(pd.DataFrame(X_test))"
   ]
  },
  {
   "cell_type": "code",
   "execution_count": 199,
   "metadata": {},
   "outputs": [
    {
     "name": "stdout",
     "output_type": "stream",
     "text": [
      "              precision    recall  f1-score   support\n",
      "\n",
      "           0       0.55      0.39      0.46       769\n",
      "           1       0.49      1.00      0.66       852\n",
      "           2       0.00      0.00      0.00       645\n",
      "\n",
      "    accuracy                           0.51      2266\n",
      "   macro avg       0.35      0.46      0.37      2266\n",
      "weighted avg       0.37      0.51      0.40      2266\n",
      "\n",
      "0.5088261253309797\n"
     ]
    },
    {
     "name": "stderr",
     "output_type": "stream",
     "text": [
      "/opt/anaconda3/lib/python3.7/site-packages/sklearn/metrics/classification.py:1437: UndefinedMetricWarning: Precision and F-score are ill-defined and being set to 0.0 in labels with no predicted samples.\n",
      "  'precision', 'predicted', average, warn_for)\n"
     ]
    }
   ],
   "source": [
    "print(classification_report(y_test, predictions))\n",
    "print(accuracy_score(y_test, predictions))"
   ]
  },
  {
   "cell_type": "markdown",
   "metadata": {},
   "source": [
    "# RANDOM FOREST ALGORITHM"
   ]
  },
  {
   "cell_type": "code",
   "execution_count": 210,
   "metadata": {},
   "outputs": [],
   "source": [
    "# dividing data into training and testing sets:\n",
    "\n",
    "from sklearn.model_selection import train_test_split\n",
    "\n",
    "X_train, X_test, y_train, y_test = train_test_split(X, y, test_size=0.2)"
   ]
  },
  {
   "cell_type": "code",
   "execution_count": 216,
   "metadata": {},
   "outputs": [],
   "source": [
    "# Feature Scaling\n",
    "\n",
    "from sklearn.preprocessing import StandardScaler\n",
    "\n",
    "sc = StandardScaler()\n",
    "X_train = sc.fit_transform(X_train)\n",
    "X_test = sc.transform(X_test)"
   ]
  },
  {
   "cell_type": "code",
   "execution_count": 230,
   "metadata": {},
   "outputs": [],
   "source": [
    "# training our random forests to solve this classification problem\n",
    "\n",
    "from sklearn.ensemble import RandomForestClassifier\n",
    "\n",
    "randomForestClassification = RandomForestClassifier(n_estimators=100) # ,random_state=0\n",
    "randomForestClassification.fit(X_train, y_train)\n",
    "y_pred = randomForestClassification.predict(X_test)"
   ]
  },
  {
   "cell_type": "code",
   "execution_count": 231,
   "metadata": {},
   "outputs": [
    {
     "data": {
      "text/plain": [
       "1    853\n",
       "0    813\n",
       "2    600\n",
       "dtype: int64"
      ]
     },
     "execution_count": 231,
     "metadata": {},
     "output_type": "execute_result"
    }
   ],
   "source": [
    "pd.Series(y_pred).value_counts()"
   ]
  },
  {
   "cell_type": "code",
   "execution_count": 232,
   "metadata": {},
   "outputs": [
    {
     "data": {
      "text/plain": [
       "'\\nFor classification problems the metrics used to evaluate an algorithm are \\naccuracy, confusion matrix, precision recall, and F1 values. (also known as balanced F-score or F-measure. The F1 score can be interpreted as a weighted average of the precision and recall, where an F1 score reaches its best value at 1 and worst score at 0.)\\nExecuting the following script to find these values:\\n'"
      ]
     },
     "execution_count": 232,
     "metadata": {},
     "output_type": "execute_result"
    }
   ],
   "source": [
    "# Evaluating the Algorithm -\n",
    "\"\"\"\n",
    "For classification problems the metrics used to evaluate an algorithm are \n",
    "accuracy, confusion matrix, precision recall, and F1 values. (also known as balanced F-score or F-measure. The F1 score can be interpreted as a weighted average of the precision and recall, where an F1 score reaches its best value at 1 and worst score at 0.)\n",
    "Executing the following script to find these values:\n",
    "\"\"\""
   ]
  },
  {
   "cell_type": "code",
   "execution_count": 233,
   "metadata": {
    "scrolled": true
   },
   "outputs": [
    {
     "name": "stdout",
     "output_type": "stream",
     "text": [
      "              precision    recall  f1-score   support\n",
      "\n",
      "           0       0.78      0.80      0.79       789\n",
      "           1       0.98      1.00      0.99       836\n",
      "           2       0.77      0.72      0.74       641\n",
      "\n",
      "    accuracy                           0.85      2266\n",
      "   macro avg       0.84      0.84      0.84      2266\n",
      "weighted avg       0.85      0.85      0.85      2266\n",
      "\n",
      "0.850397175639894\n"
     ]
    }
   ],
   "source": [
    "from sklearn.metrics import classification_report, confusion_matrix, accuracy_score\n",
    "\n",
    "# print(confusion_matrix(y_test,y_pred))\n",
    "print(classification_report(y_test,y_pred))\n",
    "print(accuracy_score(y_test, y_pred))\n",
    "\n",
    "# The accuracy achieved for by our random forest classifier with 100 trees is 85%. "
   ]
  },
  {
   "cell_type": "code",
   "execution_count": 234,
   "metadata": {},
   "outputs": [
    {
     "data": {
      "text/plain": [
       "array([0.09003995, 0.11522076, 0.16068987, 0.5399547 , 0.09409472])"
      ]
     },
     "execution_count": 234,
     "metadata": {},
     "output_type": "execute_result"
    }
   ],
   "source": [
    "randomForestClassification.feature_importances_"
   ]
  },
  {
   "cell_type": "code",
   "execution_count": 235,
   "metadata": {},
   "outputs": [
    {
     "ename": "FileNotFoundError",
     "evalue": "[Errno 2] File b'Customer-Churn.csv' does not exist: b'Customer-Churn.csv'",
     "output_type": "error",
     "traceback": [
      "\u001b[0;31m---------------------------------------------------------------------------\u001b[0m",
      "\u001b[0;31mFileNotFoundError\u001b[0m                         Traceback (most recent call last)",
      "\u001b[0;32m<ipython-input-235-7017e29aea82>\u001b[0m in \u001b[0;36m<module>\u001b[0;34m\u001b[0m\n\u001b[1;32m      8\u001b[0m \u001b[0;32mfrom\u001b[0m \u001b[0msklearn\u001b[0m\u001b[0;34m.\u001b[0m\u001b[0mmetrics\u001b[0m \u001b[0;32mimport\u001b[0m \u001b[0mconfusion_matrix\u001b[0m\u001b[0;34m,\u001b[0m \u001b[0maccuracy_score\u001b[0m\u001b[0;34m\u001b[0m\u001b[0;34m\u001b[0m\u001b[0m\n\u001b[1;32m      9\u001b[0m \u001b[0mpd\u001b[0m\u001b[0;34m.\u001b[0m\u001b[0mset_option\u001b[0m\u001b[0;34m(\u001b[0m\u001b[0;34m'display.max_columns'\u001b[0m\u001b[0;34m,\u001b[0m \u001b[0;36m100\u001b[0m\u001b[0;34m)\u001b[0m\u001b[0;34m\u001b[0m\u001b[0;34m\u001b[0m\u001b[0m\n\u001b[0;32m---> 10\u001b[0;31m \u001b[0mdata\u001b[0m \u001b[0;34m=\u001b[0m \u001b[0mpd\u001b[0m\u001b[0;34m.\u001b[0m\u001b[0mread_csv\u001b[0m\u001b[0;34m(\u001b[0m\u001b[0;34m'Customer-Churn.csv'\u001b[0m\u001b[0;34m)\u001b[0m\u001b[0;34m\u001b[0m\u001b[0;34m\u001b[0m\u001b[0m\n\u001b[0m\u001b[1;32m     11\u001b[0m \u001b[0;31m# print(data.head(2))\u001b[0m\u001b[0;34m\u001b[0m\u001b[0;34m\u001b[0m\u001b[0;34m\u001b[0m\u001b[0m\n\u001b[1;32m     12\u001b[0m \u001b[0mprint\u001b[0m\u001b[0;34m(\u001b[0m\u001b[0mdata\u001b[0m\u001b[0;34m.\u001b[0m\u001b[0mcolumns\u001b[0m\u001b[0;34m)\u001b[0m\u001b[0;34m\u001b[0m\u001b[0;34m\u001b[0m\u001b[0m\n",
      "\u001b[0;32m/opt/anaconda3/lib/python3.7/site-packages/pandas/io/parsers.py\u001b[0m in \u001b[0;36mparser_f\u001b[0;34m(filepath_or_buffer, sep, delimiter, header, names, index_col, usecols, squeeze, prefix, mangle_dupe_cols, dtype, engine, converters, true_values, false_values, skipinitialspace, skiprows, skipfooter, nrows, na_values, keep_default_na, na_filter, verbose, skip_blank_lines, parse_dates, infer_datetime_format, keep_date_col, date_parser, dayfirst, cache_dates, iterator, chunksize, compression, thousands, decimal, lineterminator, quotechar, quoting, doublequote, escapechar, comment, encoding, dialect, error_bad_lines, warn_bad_lines, delim_whitespace, low_memory, memory_map, float_precision)\u001b[0m\n\u001b[1;32m    683\u001b[0m         )\n\u001b[1;32m    684\u001b[0m \u001b[0;34m\u001b[0m\u001b[0m\n\u001b[0;32m--> 685\u001b[0;31m         \u001b[0;32mreturn\u001b[0m \u001b[0m_read\u001b[0m\u001b[0;34m(\u001b[0m\u001b[0mfilepath_or_buffer\u001b[0m\u001b[0;34m,\u001b[0m \u001b[0mkwds\u001b[0m\u001b[0;34m)\u001b[0m\u001b[0;34m\u001b[0m\u001b[0;34m\u001b[0m\u001b[0m\n\u001b[0m\u001b[1;32m    686\u001b[0m \u001b[0;34m\u001b[0m\u001b[0m\n\u001b[1;32m    687\u001b[0m     \u001b[0mparser_f\u001b[0m\u001b[0;34m.\u001b[0m\u001b[0m__name__\u001b[0m \u001b[0;34m=\u001b[0m \u001b[0mname\u001b[0m\u001b[0;34m\u001b[0m\u001b[0;34m\u001b[0m\u001b[0m\n",
      "\u001b[0;32m/opt/anaconda3/lib/python3.7/site-packages/pandas/io/parsers.py\u001b[0m in \u001b[0;36m_read\u001b[0;34m(filepath_or_buffer, kwds)\u001b[0m\n\u001b[1;32m    455\u001b[0m \u001b[0;34m\u001b[0m\u001b[0m\n\u001b[1;32m    456\u001b[0m     \u001b[0;31m# Create the parser.\u001b[0m\u001b[0;34m\u001b[0m\u001b[0;34m\u001b[0m\u001b[0;34m\u001b[0m\u001b[0m\n\u001b[0;32m--> 457\u001b[0;31m     \u001b[0mparser\u001b[0m \u001b[0;34m=\u001b[0m \u001b[0mTextFileReader\u001b[0m\u001b[0;34m(\u001b[0m\u001b[0mfp_or_buf\u001b[0m\u001b[0;34m,\u001b[0m \u001b[0;34m**\u001b[0m\u001b[0mkwds\u001b[0m\u001b[0;34m)\u001b[0m\u001b[0;34m\u001b[0m\u001b[0;34m\u001b[0m\u001b[0m\n\u001b[0m\u001b[1;32m    458\u001b[0m \u001b[0;34m\u001b[0m\u001b[0m\n\u001b[1;32m    459\u001b[0m     \u001b[0;32mif\u001b[0m \u001b[0mchunksize\u001b[0m \u001b[0;32mor\u001b[0m \u001b[0miterator\u001b[0m\u001b[0;34m:\u001b[0m\u001b[0;34m\u001b[0m\u001b[0;34m\u001b[0m\u001b[0m\n",
      "\u001b[0;32m/opt/anaconda3/lib/python3.7/site-packages/pandas/io/parsers.py\u001b[0m in \u001b[0;36m__init__\u001b[0;34m(self, f, engine, **kwds)\u001b[0m\n\u001b[1;32m    893\u001b[0m             \u001b[0mself\u001b[0m\u001b[0;34m.\u001b[0m\u001b[0moptions\u001b[0m\u001b[0;34m[\u001b[0m\u001b[0;34m\"has_index_names\"\u001b[0m\u001b[0;34m]\u001b[0m \u001b[0;34m=\u001b[0m \u001b[0mkwds\u001b[0m\u001b[0;34m[\u001b[0m\u001b[0;34m\"has_index_names\"\u001b[0m\u001b[0;34m]\u001b[0m\u001b[0;34m\u001b[0m\u001b[0;34m\u001b[0m\u001b[0m\n\u001b[1;32m    894\u001b[0m \u001b[0;34m\u001b[0m\u001b[0m\n\u001b[0;32m--> 895\u001b[0;31m         \u001b[0mself\u001b[0m\u001b[0;34m.\u001b[0m\u001b[0m_make_engine\u001b[0m\u001b[0;34m(\u001b[0m\u001b[0mself\u001b[0m\u001b[0;34m.\u001b[0m\u001b[0mengine\u001b[0m\u001b[0;34m)\u001b[0m\u001b[0;34m\u001b[0m\u001b[0;34m\u001b[0m\u001b[0m\n\u001b[0m\u001b[1;32m    896\u001b[0m \u001b[0;34m\u001b[0m\u001b[0m\n\u001b[1;32m    897\u001b[0m     \u001b[0;32mdef\u001b[0m \u001b[0mclose\u001b[0m\u001b[0;34m(\u001b[0m\u001b[0mself\u001b[0m\u001b[0;34m)\u001b[0m\u001b[0;34m:\u001b[0m\u001b[0;34m\u001b[0m\u001b[0;34m\u001b[0m\u001b[0m\n",
      "\u001b[0;32m/opt/anaconda3/lib/python3.7/site-packages/pandas/io/parsers.py\u001b[0m in \u001b[0;36m_make_engine\u001b[0;34m(self, engine)\u001b[0m\n\u001b[1;32m   1133\u001b[0m     \u001b[0;32mdef\u001b[0m \u001b[0m_make_engine\u001b[0m\u001b[0;34m(\u001b[0m\u001b[0mself\u001b[0m\u001b[0;34m,\u001b[0m \u001b[0mengine\u001b[0m\u001b[0;34m=\u001b[0m\u001b[0;34m\"c\"\u001b[0m\u001b[0;34m)\u001b[0m\u001b[0;34m:\u001b[0m\u001b[0;34m\u001b[0m\u001b[0;34m\u001b[0m\u001b[0m\n\u001b[1;32m   1134\u001b[0m         \u001b[0;32mif\u001b[0m \u001b[0mengine\u001b[0m \u001b[0;34m==\u001b[0m \u001b[0;34m\"c\"\u001b[0m\u001b[0;34m:\u001b[0m\u001b[0;34m\u001b[0m\u001b[0;34m\u001b[0m\u001b[0m\n\u001b[0;32m-> 1135\u001b[0;31m             \u001b[0mself\u001b[0m\u001b[0;34m.\u001b[0m\u001b[0m_engine\u001b[0m \u001b[0;34m=\u001b[0m \u001b[0mCParserWrapper\u001b[0m\u001b[0;34m(\u001b[0m\u001b[0mself\u001b[0m\u001b[0;34m.\u001b[0m\u001b[0mf\u001b[0m\u001b[0;34m,\u001b[0m \u001b[0;34m**\u001b[0m\u001b[0mself\u001b[0m\u001b[0;34m.\u001b[0m\u001b[0moptions\u001b[0m\u001b[0;34m)\u001b[0m\u001b[0;34m\u001b[0m\u001b[0;34m\u001b[0m\u001b[0m\n\u001b[0m\u001b[1;32m   1136\u001b[0m         \u001b[0;32melse\u001b[0m\u001b[0;34m:\u001b[0m\u001b[0;34m\u001b[0m\u001b[0;34m\u001b[0m\u001b[0m\n\u001b[1;32m   1137\u001b[0m             \u001b[0;32mif\u001b[0m \u001b[0mengine\u001b[0m \u001b[0;34m==\u001b[0m \u001b[0;34m\"python\"\u001b[0m\u001b[0;34m:\u001b[0m\u001b[0;34m\u001b[0m\u001b[0;34m\u001b[0m\u001b[0m\n",
      "\u001b[0;32m/opt/anaconda3/lib/python3.7/site-packages/pandas/io/parsers.py\u001b[0m in \u001b[0;36m__init__\u001b[0;34m(self, src, **kwds)\u001b[0m\n\u001b[1;32m   1915\u001b[0m         \u001b[0mkwds\u001b[0m\u001b[0;34m[\u001b[0m\u001b[0;34m\"usecols\"\u001b[0m\u001b[0;34m]\u001b[0m \u001b[0;34m=\u001b[0m \u001b[0mself\u001b[0m\u001b[0;34m.\u001b[0m\u001b[0musecols\u001b[0m\u001b[0;34m\u001b[0m\u001b[0;34m\u001b[0m\u001b[0m\n\u001b[1;32m   1916\u001b[0m \u001b[0;34m\u001b[0m\u001b[0m\n\u001b[0;32m-> 1917\u001b[0;31m         \u001b[0mself\u001b[0m\u001b[0;34m.\u001b[0m\u001b[0m_reader\u001b[0m \u001b[0;34m=\u001b[0m \u001b[0mparsers\u001b[0m\u001b[0;34m.\u001b[0m\u001b[0mTextReader\u001b[0m\u001b[0;34m(\u001b[0m\u001b[0msrc\u001b[0m\u001b[0;34m,\u001b[0m \u001b[0;34m**\u001b[0m\u001b[0mkwds\u001b[0m\u001b[0;34m)\u001b[0m\u001b[0;34m\u001b[0m\u001b[0;34m\u001b[0m\u001b[0m\n\u001b[0m\u001b[1;32m   1918\u001b[0m         \u001b[0mself\u001b[0m\u001b[0;34m.\u001b[0m\u001b[0munnamed_cols\u001b[0m \u001b[0;34m=\u001b[0m \u001b[0mself\u001b[0m\u001b[0;34m.\u001b[0m\u001b[0m_reader\u001b[0m\u001b[0;34m.\u001b[0m\u001b[0munnamed_cols\u001b[0m\u001b[0;34m\u001b[0m\u001b[0;34m\u001b[0m\u001b[0m\n\u001b[1;32m   1919\u001b[0m \u001b[0;34m\u001b[0m\u001b[0m\n",
      "\u001b[0;32mpandas/_libs/parsers.pyx\u001b[0m in \u001b[0;36mpandas._libs.parsers.TextReader.__cinit__\u001b[0;34m()\u001b[0m\n",
      "\u001b[0;32mpandas/_libs/parsers.pyx\u001b[0m in \u001b[0;36mpandas._libs.parsers.TextReader._setup_parser_source\u001b[0;34m()\u001b[0m\n",
      "\u001b[0;31mFileNotFoundError\u001b[0m: [Errno 2] File b'Customer-Churn.csv' does not exist: b'Customer-Churn.csv'"
     ]
    }
   ],
   "source": [
    "import pandas as pd\n",
    "import numpy as np\n",
    "from sklearn.ensemble import RandomForestClassifier\n",
    "from sklearn.model_selection import RandomizedSearchCV\n",
    "from sklearn.preprocessing import StandardScaler\n",
    "from sklearn.model_selection import train_test_split\n",
    "from sklearn.metrics import roc_curve, roc_auc_score\n",
    "from sklearn.metrics import confusion_matrix, accuracy_score\n",
    "pd.set_option('display.max_columns', 100)\n",
    "data = pd.read_csv('Customer-Churn.csv')\n",
    "# print(data.head(2))\n",
    "print(data.columns)\n",
    "print(data.shape)\n",
    "X = data[['tenure', 'SeniorCitizen', 'MonthlyCharges']]\n",
    "Y = np.array(data['Churn'])\n",
    "transformer = StandardScaler().fit(X)\n",
    "x_standardized = transformer.transform(X)\n",
    "X_train, X_test, y_train, y_test = train_test_split(x_standardized, Y, train_size=0.8)\n",
    "# Number of trees in random forest\n",
    "n_estimators = [int(x) for x in np.linspace(start = 200, stop = 2000, num = 10)]\n",
    "# Number of features to consider at every split\n",
    "max_features = ['auto', 'sqrt']\n",
    "# Maximum number of levels in tree\n",
    "max_depth = [int(x) for x in np.linspace(10, 110, num = 11)]\n",
    "max_depth.append(None)\n",
    "# Minimum number of samples required to split a node\n",
    "min_samples_split = [2, 5, 10]\n",
    "# Minimum number of samples required at each leaf node\n",
    "min_samples_leaf = [1, 2, 4]\n",
    "# Method of selecting samples for training each tree\n",
    "bootstrap = [True, False]\n",
    "random_grid = {'n_estimators': n_estimators,\n",
    "               'max_features': max_features,\n",
    "               'max_depth': max_depth,\n",
    "               'min_samples_split': min_samples_split,\n",
    "               'min_samples_leaf': min_samples_leaf,\n",
    "               'bootstrap': bootstrap}\n",
    "model = RandomForestClassifier()\n",
    "model_random = RandomizedSearchCV(estimator=model, param_distributions=random_grid, n_iter=10, cv=3, verbose=2, random_state=42, n_jobs=-1)\n",
    "model_random.fit(X_train, y_train)\n",
    "print(model_random.best_params_)\n",
    "base_model = RandomForestClassifier(n_estimators=model_random.best_params_['n_estimators'], random_state=42,\n",
    "                                   max_depth=model_random.best_params_['max_depth'],min_samples_split=model_random.best_params_['min_samples_split'],\n",
    "                                    min_samples_leaf=model_random.best_params_['min_samples_leaf'],\n",
    "                                    bootstrap=model_random.best_params_['bootstrap'])\n",
    "base_model.fit(X_test, y_test)\n",
    "def evaluate(model_rf, test_features, test_labels):\n",
    "    predictions = model_rf.predict(test_features)\n",
    "    print(confusion_matrix(test_labels, predictions))\n",
    "    accuracy = accuracy_score(test_labels, predictions)\n",
    "    print('Accuracy = {:0.2f}.'.format(accuracy))\n",
    "    return 1\n",
    "base_accuracy = evaluate(base_model, X_test, y_test)\n",
    "# Actual class predictions\n",
    "rf_predictions = base_model.predict(X_test)\n",
    "# Probabilities for each class\n",
    "rf_probs = base_model.predict_proba(X_test)[:, 1]\n",
    "from sklearn.metrics import roc_auc_score\n",
    "# Calculate roc auc\n",
    "roc_value = roc_auc_score(y_test, rf_probs)\n",
    "print(roc_value)\n",
    "from sklearn import metrics\n",
    "y_pred = base_model.predict(X_test)\n",
    "print(metrics.confusion_matrix(y_test, y_pred))\n",
    "fi = pd.DataFrame({'feature': list(X.columns), 'importance': model.feature_importances_}).\\\n",
    "                    sort_values('importance', ascending = False)\n",
    "print(fi)\n"
   ]
  },
  {
   "cell_type": "code",
   "execution_count": null,
   "metadata": {},
   "outputs": [],
   "source": []
  },
  {
   "cell_type": "code",
   "execution_count": null,
   "metadata": {},
   "outputs": [],
   "source": []
  },
  {
   "cell_type": "code",
   "execution_count": null,
   "metadata": {},
   "outputs": [],
   "source": []
  },
  {
   "cell_type": "code",
   "execution_count": null,
   "metadata": {},
   "outputs": [],
   "source": []
  },
  {
   "cell_type": "code",
   "execution_count": null,
   "metadata": {},
   "outputs": [],
   "source": []
  },
  {
   "cell_type": "code",
   "execution_count": null,
   "metadata": {},
   "outputs": [],
   "source": []
  },
  {
   "cell_type": "code",
   "execution_count": null,
   "metadata": {},
   "outputs": [],
   "source": []
  },
  {
   "cell_type": "code",
   "execution_count": null,
   "metadata": {},
   "outputs": [],
   "source": []
  },
  {
   "cell_type": "markdown",
   "metadata": {},
   "source": [
    "# NOW LUNAR DATASET "
   ]
  },
  {
   "cell_type": "code",
   "execution_count": 44,
   "metadata": {},
   "outputs": [
    {
     "data": {
      "text/html": [
       "<div>\n",
       "<style scoped>\n",
       "    .dataframe tbody tr th:only-of-type {\n",
       "        vertical-align: middle;\n",
       "    }\n",
       "\n",
       "    .dataframe tbody tr th {\n",
       "        vertical-align: top;\n",
       "    }\n",
       "\n",
       "    .dataframe thead th {\n",
       "        text-align: right;\n",
       "    }\n",
       "</style>\n",
       "<table border=\"1\" class=\"dataframe\">\n",
       "  <thead>\n",
       "    <tr style=\"text-align: right;\">\n",
       "      <th></th>\n",
       "      <th>Catalog Number</th>\n",
       "      <th>Calendar Date</th>\n",
       "      <th>Eclipse Time</th>\n",
       "      <th>Delta T (s)</th>\n",
       "      <th>Lunation Number</th>\n",
       "      <th>Saros Number</th>\n",
       "      <th>Eclipse Type</th>\n",
       "      <th>Quincena Solar Eclipse</th>\n",
       "      <th>Gamma</th>\n",
       "      <th>Penumbral Magnitude</th>\n",
       "      <th>Umbral Magnitude</th>\n",
       "      <th>Latitude</th>\n",
       "      <th>Longitude</th>\n",
       "      <th>Penumbral Eclipse Duration (m)</th>\n",
       "      <th>Partial Eclipse Duration (m)</th>\n",
       "      <th>Total Eclipse Duration (m)</th>\n",
       "    </tr>\n",
       "  </thead>\n",
       "  <tbody>\n",
       "    <tr>\n",
       "      <td>0</td>\n",
       "      <td>1</td>\n",
       "      <td>-1999 June 26</td>\n",
       "      <td>14:13:28</td>\n",
       "      <td>46437</td>\n",
       "      <td>-49456</td>\n",
       "      <td>17</td>\n",
       "      <td>N</td>\n",
       "      <td>t-</td>\n",
       "      <td>-1.0981</td>\n",
       "      <td>0.8791</td>\n",
       "      <td>-0.1922</td>\n",
       "      <td>24S</td>\n",
       "      <td>22W</td>\n",
       "      <td>268.8</td>\n",
       "      <td>-</td>\n",
       "      <td>-</td>\n",
       "    </tr>\n",
       "    <tr>\n",
       "      <td>1</td>\n",
       "      <td>2</td>\n",
       "      <td>-1999 November 21</td>\n",
       "      <td>20:23:49</td>\n",
       "      <td>46427</td>\n",
       "      <td>-49451</td>\n",
       "      <td>-16</td>\n",
       "      <td>N</td>\n",
       "      <td>-a</td>\n",
       "      <td>-1.1155</td>\n",
       "      <td>0.8143</td>\n",
       "      <td>-0.1921</td>\n",
       "      <td>15N</td>\n",
       "      <td>98W</td>\n",
       "      <td>233.4</td>\n",
       "      <td>-</td>\n",
       "      <td>-</td>\n",
       "    </tr>\n",
       "    <tr>\n",
       "      <td>2</td>\n",
       "      <td>3</td>\n",
       "      <td>-1998 May 17</td>\n",
       "      <td>05:47:36</td>\n",
       "      <td>46416</td>\n",
       "      <td>-49445</td>\n",
       "      <td>-11</td>\n",
       "      <td>P</td>\n",
       "      <td>-t</td>\n",
       "      <td>0.8988</td>\n",
       "      <td>1.2105</td>\n",
       "      <td>0.2069</td>\n",
       "      <td>13S</td>\n",
       "      <td>89E</td>\n",
       "      <td>281.7</td>\n",
       "      <td>102.7</td>\n",
       "      <td>-</td>\n",
       "    </tr>\n",
       "    <tr>\n",
       "      <td>3</td>\n",
       "      <td>4</td>\n",
       "      <td>-1998 November 11</td>\n",
       "      <td>05:15:58</td>\n",
       "      <td>46404</td>\n",
       "      <td>-49439</td>\n",
       "      <td>-6</td>\n",
       "      <td>P</td>\n",
       "      <td>-a</td>\n",
       "      <td>-0.4644</td>\n",
       "      <td>2.0382</td>\n",
       "      <td>0.9740</td>\n",
       "      <td>12N</td>\n",
       "      <td>113E</td>\n",
       "      <td>343.4</td>\n",
       "      <td>200.8</td>\n",
       "      <td>-</td>\n",
       "    </tr>\n",
       "    <tr>\n",
       "      <td>4</td>\n",
       "      <td>5</td>\n",
       "      <td>-1997 May 6</td>\n",
       "      <td>18:57:01</td>\n",
       "      <td>46392</td>\n",
       "      <td>-49433</td>\n",
       "      <td>-1</td>\n",
       "      <td>T+</td>\n",
       "      <td>pp</td>\n",
       "      <td>0.1003</td>\n",
       "      <td>2.6513</td>\n",
       "      <td>1.6963</td>\n",
       "      <td>11S</td>\n",
       "      <td>92W</td>\n",
       "      <td>322.8</td>\n",
       "      <td>213.5</td>\n",
       "      <td>98.2</td>\n",
       "    </tr>\n",
       "  </tbody>\n",
       "</table>\n",
       "</div>"
      ],
      "text/plain": [
       "   Catalog Number      Calendar Date Eclipse Time  Delta T (s)  \\\n",
       "0               1      -1999 June 26     14:13:28        46437   \n",
       "1               2  -1999 November 21     20:23:49        46427   \n",
       "2               3       -1998 May 17     05:47:36        46416   \n",
       "3               4  -1998 November 11     05:15:58        46404   \n",
       "4               5        -1997 May 6     18:57:01        46392   \n",
       "\n",
       "   Lunation Number  Saros Number Eclipse Type Quincena Solar Eclipse   Gamma  \\\n",
       "0           -49456            17            N                     t- -1.0981   \n",
       "1           -49451           -16            N                     -a -1.1155   \n",
       "2           -49445           -11            P                     -t  0.8988   \n",
       "3           -49439            -6            P                     -a -0.4644   \n",
       "4           -49433            -1           T+                     pp  0.1003   \n",
       "\n",
       "   Penumbral Magnitude  Umbral Magnitude Latitude Longitude  \\\n",
       "0               0.8791           -0.1922      24S       22W   \n",
       "1               0.8143           -0.1921      15N       98W   \n",
       "2               1.2105            0.2069      13S       89E   \n",
       "3               2.0382            0.9740      12N      113E   \n",
       "4               2.6513            1.6963      11S       92W   \n",
       "\n",
       "   Penumbral Eclipse Duration (m) Partial Eclipse Duration (m)  \\\n",
       "0                           268.8                            -   \n",
       "1                           233.4                            -   \n",
       "2                           281.7                        102.7   \n",
       "3                           343.4                        200.8   \n",
       "4                           322.8                        213.5   \n",
       "\n",
       "  Total Eclipse Duration (m)  \n",
       "0                          -  \n",
       "1                          -  \n",
       "2                          -  \n",
       "3                          -  \n",
       "4                       98.2  "
      ]
     },
     "execution_count": 44,
     "metadata": {},
     "output_type": "execute_result"
    }
   ],
   "source": [
    "lunar = pd.read_csv('/Users/gracemartinez/Downloads/lunar.csv')\n",
    "lunar.head()"
   ]
  },
  {
   "cell_type": "code",
   "execution_count": 8,
   "metadata": {},
   "outputs": [
    {
     "data": {
      "text/plain": [
       "(12064, 16)"
      ]
     },
     "execution_count": 8,
     "metadata": {},
     "output_type": "execute_result"
    }
   ],
   "source": [
    "lunar.shape"
   ]
  },
  {
   "cell_type": "code",
   "execution_count": 45,
   "metadata": {},
   "outputs": [
    {
     "data": {
      "text/plain": [
       "Index(['Catalog Number', 'Calendar Date', 'Eclipse Time', 'Delta T (s)',\n",
       "       'Lunation Number', 'Saros Number', 'Eclipse Type',\n",
       "       'Quincena Solar Eclipse', 'Gamma', 'Penumbral Magnitude',\n",
       "       'Umbral Magnitude', 'Latitude', 'Longitude',\n",
       "       'Penumbral Eclipse Duration (m)', 'Partial Eclipse Duration (m)',\n",
       "       'Total Eclipse Duration (m)'],\n",
       "      dtype='object')"
      ]
     },
     "execution_count": 45,
     "metadata": {},
     "output_type": "execute_result"
    }
   ],
   "source": [
    "lunar.columns"
   ]
  },
  {
   "cell_type": "code",
   "execution_count": 46,
   "metadata": {},
   "outputs": [
    {
     "data": {
      "text/plain": [
       "Index(['Catalog_Number', 'Calendar_Date', 'Eclipse_Time', 'Delta_T_(s)',\n",
       "       'Lunation_Number', 'Saros_Number', 'Eclipse_Type',\n",
       "       'Quincena_Solar_Eclipse', 'Gamma', 'Penumbral_Magnitude',\n",
       "       'Umbral_Magnitude', 'Latitude', 'Longitude',\n",
       "       'Penumbral_Eclipse_Duration_(m)', 'Partial_Eclipse_Duration_(m)',\n",
       "       'Total_Eclipse_Duration_(m)'],\n",
       "      dtype='object')"
      ]
     },
     "execution_count": 46,
     "metadata": {},
     "output_type": "execute_result"
    }
   ],
   "source": [
    "lunar.columns = lunar.columns.str.replace(' ','_')\n",
    "lunar.columns"
   ]
  },
  {
   "cell_type": "code",
   "execution_count": 12,
   "metadata": {},
   "outputs": [
    {
     "data": {
      "text/plain": [
       "16"
      ]
     },
     "execution_count": 12,
     "metadata": {},
     "output_type": "execute_result"
    }
   ],
   "source": [
    "len(lunar.columns)"
   ]
  },
  {
   "cell_type": "code",
   "execution_count": 13,
   "metadata": {},
   "outputs": [
    {
     "data": {
      "text/plain": [
       "Catalog_Number                      int64\n",
       "Calendar_Date                      object\n",
       "Eclipse_Time                       object\n",
       "Delta_T_(s)                         int64\n",
       "Lunation_Number                     int64\n",
       "Saros_Number                        int64\n",
       "Eclipse_Type                       object\n",
       "Quincena_Solar_Eclipse             object\n",
       "Gamma                             float64\n",
       "Penumbral_Magnitude               float64\n",
       "Umbral_Magnitude                  float64\n",
       "Latitude                           object\n",
       "Longitude                          object\n",
       "Penumbral_Eclipse_Duration_(m)    float64\n",
       "Partial_Eclipse_Duration_(m)       object\n",
       "Total_Eclipse_Duration_(m)         object\n",
       "dtype: object"
      ]
     },
     "execution_count": 13,
     "metadata": {},
     "output_type": "execute_result"
    }
   ],
   "source": [
    "lunar.dtypes"
   ]
  },
  {
   "cell_type": "code",
   "execution_count": null,
   "metadata": {},
   "outputs": [],
   "source": [
    "# need to know what each column mean/represents to know if they're a correct type"
   ]
  },
  {
   "cell_type": "code",
   "execution_count": 47,
   "metadata": {},
   "outputs": [
    {
     "data": {
      "text/plain": [
       "P     4207\n",
       "N     4020\n",
       "T     1405\n",
       "T+    1042\n",
       "T-    1032\n",
       "Nx     141\n",
       "Ne     115\n",
       "Nb     102\n",
       "Name: Eclipse_Type, dtype: int64"
      ]
     },
     "execution_count": 47,
     "metadata": {},
     "output_type": "execute_result"
    }
   ],
   "source": [
    "lunar['Eclipse_Type'].value_counts()"
   ]
  },
  {
   "cell_type": "code",
   "execution_count": 16,
   "metadata": {},
   "outputs": [
    {
     "data": {
      "text/plain": [
       "8"
      ]
     },
     "execution_count": 16,
     "metadata": {},
     "output_type": "execute_result"
    }
   ],
   "source": [
    "len(lunar['Eclipse_Type'].value_counts())"
   ]
  },
  {
   "cell_type": "code",
   "execution_count": 48,
   "metadata": {},
   "outputs": [],
   "source": [
    "# only 3 types of lunar eclipse: N, P, T\n",
    "\n",
    "def eclipsetypeClean(x):\n",
    "    if 'N' in x:\n",
    "        return('N')\n",
    "    if 'P' in x:\n",
    "        return('P')\n",
    "    if 'T' in x:\n",
    "        return('T')\n"
   ]
  },
  {
   "cell_type": "code",
   "execution_count": 49,
   "metadata": {},
   "outputs": [],
   "source": [
    "lunar['Eclipse_Type'] = list(map(eclipsetypeClean,lunar['Eclipse_Type']))"
   ]
  },
  {
   "cell_type": "code",
   "execution_count": 50,
   "metadata": {},
   "outputs": [
    {
     "data": {
      "text/plain": [
       "N    4378\n",
       "P    4207\n",
       "T    3479\n",
       "Name: Eclipse_Type, dtype: int64"
      ]
     },
     "execution_count": 50,
     "metadata": {},
     "output_type": "execute_result"
    }
   ],
   "source": [
    "lunar['Eclipse_Type'].value_counts()"
   ]
  },
  {
   "cell_type": "code",
   "execution_count": 52,
   "metadata": {},
   "outputs": [
    {
     "data": {
      "text/plain": [
       "3"
      ]
     },
     "execution_count": 52,
     "metadata": {},
     "output_type": "execute_result"
    }
   ],
   "source": [
    "len(lunar['Eclipse_Type'].value_counts())"
   ]
  },
  {
   "cell_type": "code",
   "execution_count": null,
   "metadata": {},
   "outputs": [],
   "source": [
    "# so there would be 3 different categories of 'Eclipse Type'"
   ]
  },
  {
   "cell_type": "code",
   "execution_count": 53,
   "metadata": {},
   "outputs": [
    {
     "data": {
      "text/plain": [
       "Catalog_Number                    0\n",
       "Calendar_Date                     0\n",
       "Eclipse_Time                      0\n",
       "Delta_T_(s)                       0\n",
       "Lunation_Number                   0\n",
       "Saros_Number                      0\n",
       "Eclipse_Type                      0\n",
       "Quincena_Solar_Eclipse            0\n",
       "Gamma                             0\n",
       "Penumbral_Magnitude               0\n",
       "Umbral_Magnitude                  0\n",
       "Latitude                          0\n",
       "Longitude                         0\n",
       "Penumbral_Eclipse_Duration_(m)    0\n",
       "Partial_Eclipse_Duration_(m)      0\n",
       "Total_Eclipse_Duration_(m)        0\n",
       "dtype: int64"
      ]
     },
     "execution_count": 53,
     "metadata": {},
     "output_type": "execute_result"
    }
   ],
   "source": [
    "lunar.isnull().sum()\n",
    "\n",
    "# there are no missing values"
   ]
  },
  {
   "cell_type": "code",
   "execution_count": 62,
   "metadata": {},
   "outputs": [],
   "source": [
    "# not necessary for estimation of problem in python\n",
    "\n",
    "lunar = lunar.drop([\"Latitude\", \"Longitude\"], axis=1)"
   ]
  },
  {
   "cell_type": "code",
   "execution_count": 63,
   "metadata": {},
   "outputs": [
    {
     "data": {
      "text/html": [
       "<div>\n",
       "<style scoped>\n",
       "    .dataframe tbody tr th:only-of-type {\n",
       "        vertical-align: middle;\n",
       "    }\n",
       "\n",
       "    .dataframe tbody tr th {\n",
       "        vertical-align: top;\n",
       "    }\n",
       "\n",
       "    .dataframe thead th {\n",
       "        text-align: right;\n",
       "    }\n",
       "</style>\n",
       "<table border=\"1\" class=\"dataframe\">\n",
       "  <thead>\n",
       "    <tr style=\"text-align: right;\">\n",
       "      <th></th>\n",
       "      <th>Catalog_Number</th>\n",
       "      <th>Calendar_Date</th>\n",
       "      <th>Eclipse_Time</th>\n",
       "      <th>Delta_T_(s)</th>\n",
       "      <th>Lunation_Number</th>\n",
       "      <th>Saros_Number</th>\n",
       "      <th>Eclipse_Type</th>\n",
       "      <th>Quincena_Solar_Eclipse</th>\n",
       "      <th>Gamma</th>\n",
       "      <th>Penumbral_Magnitude</th>\n",
       "      <th>Umbral_Magnitude</th>\n",
       "      <th>Penumbral_Eclipse_Duration_(m)</th>\n",
       "      <th>Partial_Eclipse_Duration_(m)</th>\n",
       "      <th>Total_Eclipse_Duration_(m)</th>\n",
       "    </tr>\n",
       "  </thead>\n",
       "  <tbody>\n",
       "    <tr>\n",
       "      <td>0</td>\n",
       "      <td>1</td>\n",
       "      <td>-1999 June 26</td>\n",
       "      <td>14:13:28</td>\n",
       "      <td>46437</td>\n",
       "      <td>-49456</td>\n",
       "      <td>17</td>\n",
       "      <td>N</td>\n",
       "      <td>t-</td>\n",
       "      <td>-1.0981</td>\n",
       "      <td>0.8791</td>\n",
       "      <td>-0.1922</td>\n",
       "      <td>268.8</td>\n",
       "      <td>-</td>\n",
       "      <td>-</td>\n",
       "    </tr>\n",
       "    <tr>\n",
       "      <td>1</td>\n",
       "      <td>2</td>\n",
       "      <td>-1999 November 21</td>\n",
       "      <td>20:23:49</td>\n",
       "      <td>46427</td>\n",
       "      <td>-49451</td>\n",
       "      <td>-16</td>\n",
       "      <td>N</td>\n",
       "      <td>-a</td>\n",
       "      <td>-1.1155</td>\n",
       "      <td>0.8143</td>\n",
       "      <td>-0.1921</td>\n",
       "      <td>233.4</td>\n",
       "      <td>-</td>\n",
       "      <td>-</td>\n",
       "    </tr>\n",
       "    <tr>\n",
       "      <td>2</td>\n",
       "      <td>3</td>\n",
       "      <td>-1998 May 17</td>\n",
       "      <td>05:47:36</td>\n",
       "      <td>46416</td>\n",
       "      <td>-49445</td>\n",
       "      <td>-11</td>\n",
       "      <td>P</td>\n",
       "      <td>-t</td>\n",
       "      <td>0.8988</td>\n",
       "      <td>1.2105</td>\n",
       "      <td>0.2069</td>\n",
       "      <td>281.7</td>\n",
       "      <td>102.7</td>\n",
       "      <td>-</td>\n",
       "    </tr>\n",
       "    <tr>\n",
       "      <td>3</td>\n",
       "      <td>4</td>\n",
       "      <td>-1998 November 11</td>\n",
       "      <td>05:15:58</td>\n",
       "      <td>46404</td>\n",
       "      <td>-49439</td>\n",
       "      <td>-6</td>\n",
       "      <td>P</td>\n",
       "      <td>-a</td>\n",
       "      <td>-0.4644</td>\n",
       "      <td>2.0382</td>\n",
       "      <td>0.9740</td>\n",
       "      <td>343.4</td>\n",
       "      <td>200.8</td>\n",
       "      <td>-</td>\n",
       "    </tr>\n",
       "    <tr>\n",
       "      <td>4</td>\n",
       "      <td>5</td>\n",
       "      <td>-1997 May 6</td>\n",
       "      <td>18:57:01</td>\n",
       "      <td>46392</td>\n",
       "      <td>-49433</td>\n",
       "      <td>-1</td>\n",
       "      <td>T</td>\n",
       "      <td>pp</td>\n",
       "      <td>0.1003</td>\n",
       "      <td>2.6513</td>\n",
       "      <td>1.6963</td>\n",
       "      <td>322.8</td>\n",
       "      <td>213.5</td>\n",
       "      <td>98.2</td>\n",
       "    </tr>\n",
       "  </tbody>\n",
       "</table>\n",
       "</div>"
      ],
      "text/plain": [
       "   Catalog_Number      Calendar_Date Eclipse_Time  Delta_T_(s)  \\\n",
       "0               1      -1999 June 26     14:13:28        46437   \n",
       "1               2  -1999 November 21     20:23:49        46427   \n",
       "2               3       -1998 May 17     05:47:36        46416   \n",
       "3               4  -1998 November 11     05:15:58        46404   \n",
       "4               5        -1997 May 6     18:57:01        46392   \n",
       "\n",
       "   Lunation_Number  Saros_Number Eclipse_Type Quincena_Solar_Eclipse   Gamma  \\\n",
       "0           -49456            17            N                     t- -1.0981   \n",
       "1           -49451           -16            N                     -a -1.1155   \n",
       "2           -49445           -11            P                     -t  0.8988   \n",
       "3           -49439            -6            P                     -a -0.4644   \n",
       "4           -49433            -1            T                     pp  0.1003   \n",
       "\n",
       "   Penumbral_Magnitude  Umbral_Magnitude  Penumbral_Eclipse_Duration_(m)  \\\n",
       "0               0.8791           -0.1922                           268.8   \n",
       "1               0.8143           -0.1921                           233.4   \n",
       "2               1.2105            0.2069                           281.7   \n",
       "3               2.0382            0.9740                           343.4   \n",
       "4               2.6513            1.6963                           322.8   \n",
       "\n",
       "  Partial_Eclipse_Duration_(m) Total_Eclipse_Duration_(m)  \n",
       "0                            -                          -  \n",
       "1                            -                          -  \n",
       "2                        102.7                          -  \n",
       "3                        200.8                          -  \n",
       "4                        213.5                       98.2  "
      ]
     },
     "execution_count": 63,
     "metadata": {},
     "output_type": "execute_result"
    }
   ],
   "source": [
    "lunar.head()"
   ]
  },
  {
   "cell_type": "code",
   "execution_count": 73,
   "metadata": {},
   "outputs": [
    {
     "data": {
      "text/plain": [
       "14"
      ]
     },
     "execution_count": 73,
     "metadata": {},
     "output_type": "execute_result"
    }
   ],
   "source": [
    "len(lunar.columns)"
   ]
  },
  {
   "cell_type": "code",
   "execution_count": 69,
   "metadata": {},
   "outputs": [
    {
     "data": {
      "text/html": [
       "<div>\n",
       "<style scoped>\n",
       "    .dataframe tbody tr th:only-of-type {\n",
       "        vertical-align: middle;\n",
       "    }\n",
       "\n",
       "    .dataframe tbody tr th {\n",
       "        vertical-align: top;\n",
       "    }\n",
       "\n",
       "    .dataframe thead th {\n",
       "        text-align: right;\n",
       "    }\n",
       "</style>\n",
       "<table border=\"1\" class=\"dataframe\">\n",
       "  <thead>\n",
       "    <tr style=\"text-align: right;\">\n",
       "      <th></th>\n",
       "      <th>Calendar_Date</th>\n",
       "      <th>Eclipse_Time</th>\n",
       "      <th>Eclipse_Type</th>\n",
       "      <th>Quincena_Solar_Eclipse</th>\n",
       "      <th>Partial_Eclipse_Duration_(m)</th>\n",
       "      <th>Total_Eclipse_Duration_(m)</th>\n",
       "    </tr>\n",
       "  </thead>\n",
       "  <tbody>\n",
       "    <tr>\n",
       "      <td>0</td>\n",
       "      <td>-1999 June 26</td>\n",
       "      <td>14:13:28</td>\n",
       "      <td>N</td>\n",
       "      <td>t-</td>\n",
       "      <td>-</td>\n",
       "      <td>-</td>\n",
       "    </tr>\n",
       "    <tr>\n",
       "      <td>1</td>\n",
       "      <td>-1999 November 21</td>\n",
       "      <td>20:23:49</td>\n",
       "      <td>N</td>\n",
       "      <td>-a</td>\n",
       "      <td>-</td>\n",
       "      <td>-</td>\n",
       "    </tr>\n",
       "    <tr>\n",
       "      <td>2</td>\n",
       "      <td>-1998 May 17</td>\n",
       "      <td>05:47:36</td>\n",
       "      <td>P</td>\n",
       "      <td>-t</td>\n",
       "      <td>102.7</td>\n",
       "      <td>-</td>\n",
       "    </tr>\n",
       "    <tr>\n",
       "      <td>3</td>\n",
       "      <td>-1998 November 11</td>\n",
       "      <td>05:15:58</td>\n",
       "      <td>P</td>\n",
       "      <td>-a</td>\n",
       "      <td>200.8</td>\n",
       "      <td>-</td>\n",
       "    </tr>\n",
       "    <tr>\n",
       "      <td>4</td>\n",
       "      <td>-1997 May 6</td>\n",
       "      <td>18:57:01</td>\n",
       "      <td>T</td>\n",
       "      <td>pp</td>\n",
       "      <td>213.5</td>\n",
       "      <td>98.2</td>\n",
       "    </tr>\n",
       "    <tr>\n",
       "      <td>...</td>\n",
       "      <td>...</td>\n",
       "      <td>...</td>\n",
       "      <td>...</td>\n",
       "      <td>...</td>\n",
       "      <td>...</td>\n",
       "      <td>...</td>\n",
       "    </tr>\n",
       "    <tr>\n",
       "      <td>12059</td>\n",
       "      <td>2999 May 21</td>\n",
       "      <td>13:21:13</td>\n",
       "      <td>P</td>\n",
       "      <td>t-</td>\n",
       "      <td>204.2</td>\n",
       "      <td>-</td>\n",
       "    </tr>\n",
       "    <tr>\n",
       "      <td>12060</td>\n",
       "      <td>2999 November 14</td>\n",
       "      <td>16:41:25</td>\n",
       "      <td>T</td>\n",
       "      <td>a-</td>\n",
       "      <td>189.1</td>\n",
       "      <td>18.5</td>\n",
       "    </tr>\n",
       "    <tr>\n",
       "      <td>12061</td>\n",
       "      <td>3000 May 10</td>\n",
       "      <td>15:00:16</td>\n",
       "      <td>N</td>\n",
       "      <td>t-</td>\n",
       "      <td>-</td>\n",
       "      <td>-</td>\n",
       "    </tr>\n",
       "    <tr>\n",
       "      <td>12062</td>\n",
       "      <td>3000 October 5</td>\n",
       "      <td>17:10:38</td>\n",
       "      <td>N</td>\n",
       "      <td>-h</td>\n",
       "      <td>-</td>\n",
       "      <td>-</td>\n",
       "    </tr>\n",
       "    <tr>\n",
       "      <td>12063</td>\n",
       "      <td>3000 November 4</td>\n",
       "      <td>05:45:18</td>\n",
       "      <td>N</td>\n",
       "      <td>h-</td>\n",
       "      <td>-</td>\n",
       "      <td>-</td>\n",
       "    </tr>\n",
       "  </tbody>\n",
       "</table>\n",
       "<p>12064 rows × 6 columns</p>\n",
       "</div>"
      ],
      "text/plain": [
       "           Calendar_Date Eclipse_Time Eclipse_Type Quincena_Solar_Eclipse  \\\n",
       "0          -1999 June 26     14:13:28            N                     t-   \n",
       "1      -1999 November 21     20:23:49            N                     -a   \n",
       "2           -1998 May 17     05:47:36            P                     -t   \n",
       "3      -1998 November 11     05:15:58            P                     -a   \n",
       "4            -1997 May 6     18:57:01            T                     pp   \n",
       "...                  ...          ...          ...                    ...   \n",
       "12059        2999 May 21     13:21:13            P                     t-   \n",
       "12060   2999 November 14     16:41:25            T                     a-   \n",
       "12061        3000 May 10     15:00:16            N                     t-   \n",
       "12062     3000 October 5     17:10:38            N                     -h   \n",
       "12063    3000 November 4     05:45:18            N                     h-   \n",
       "\n",
       "      Partial_Eclipse_Duration_(m) Total_Eclipse_Duration_(m)  \n",
       "0                                -                          -  \n",
       "1                                -                          -  \n",
       "2                            102.7                          -  \n",
       "3                            200.8                          -  \n",
       "4                            213.5                       98.2  \n",
       "...                            ...                        ...  \n",
       "12059                        204.2                          -  \n",
       "12060                        189.1                       18.5  \n",
       "12061                            -                          -  \n",
       "12062                            -                          -  \n",
       "12063                            -                          -  \n",
       "\n",
       "[12064 rows x 6 columns]"
      ]
     },
     "execution_count": 69,
     "metadata": {},
     "output_type": "execute_result"
    }
   ],
   "source": [
    "LunarCategoricals = lunar.select_dtypes(object)\n",
    "LunarCategoricals"
   ]
  },
  {
   "cell_type": "code",
   "execution_count": 71,
   "metadata": {},
   "outputs": [
    {
     "data": {
      "text/plain": [
       "6"
      ]
     },
     "execution_count": 71,
     "metadata": {},
     "output_type": "execute_result"
    }
   ],
   "source": [
    "len(LunarCategoricals.columns)"
   ]
  },
  {
   "cell_type": "code",
   "execution_count": 68,
   "metadata": {},
   "outputs": [
    {
     "data": {
      "text/html": [
       "<div>\n",
       "<style scoped>\n",
       "    .dataframe tbody tr th:only-of-type {\n",
       "        vertical-align: middle;\n",
       "    }\n",
       "\n",
       "    .dataframe tbody tr th {\n",
       "        vertical-align: top;\n",
       "    }\n",
       "\n",
       "    .dataframe thead th {\n",
       "        text-align: right;\n",
       "    }\n",
       "</style>\n",
       "<table border=\"1\" class=\"dataframe\">\n",
       "  <thead>\n",
       "    <tr style=\"text-align: right;\">\n",
       "      <th></th>\n",
       "      <th>Catalog_Number</th>\n",
       "      <th>Delta_T_(s)</th>\n",
       "      <th>Lunation_Number</th>\n",
       "      <th>Saros_Number</th>\n",
       "      <th>Gamma</th>\n",
       "      <th>Penumbral_Magnitude</th>\n",
       "      <th>Umbral_Magnitude</th>\n",
       "      <th>Penumbral_Eclipse_Duration_(m)</th>\n",
       "    </tr>\n",
       "  </thead>\n",
       "  <tbody>\n",
       "    <tr>\n",
       "      <td>0</td>\n",
       "      <td>1</td>\n",
       "      <td>46437</td>\n",
       "      <td>-49456</td>\n",
       "      <td>17</td>\n",
       "      <td>-1.0981</td>\n",
       "      <td>0.8791</td>\n",
       "      <td>-0.1922</td>\n",
       "      <td>268.8</td>\n",
       "    </tr>\n",
       "    <tr>\n",
       "      <td>1</td>\n",
       "      <td>2</td>\n",
       "      <td>46427</td>\n",
       "      <td>-49451</td>\n",
       "      <td>-16</td>\n",
       "      <td>-1.1155</td>\n",
       "      <td>0.8143</td>\n",
       "      <td>-0.1921</td>\n",
       "      <td>233.4</td>\n",
       "    </tr>\n",
       "    <tr>\n",
       "      <td>2</td>\n",
       "      <td>3</td>\n",
       "      <td>46416</td>\n",
       "      <td>-49445</td>\n",
       "      <td>-11</td>\n",
       "      <td>0.8988</td>\n",
       "      <td>1.2105</td>\n",
       "      <td>0.2069</td>\n",
       "      <td>281.7</td>\n",
       "    </tr>\n",
       "    <tr>\n",
       "      <td>3</td>\n",
       "      <td>4</td>\n",
       "      <td>46404</td>\n",
       "      <td>-49439</td>\n",
       "      <td>-6</td>\n",
       "      <td>-0.4644</td>\n",
       "      <td>2.0382</td>\n",
       "      <td>0.9740</td>\n",
       "      <td>343.4</td>\n",
       "    </tr>\n",
       "    <tr>\n",
       "      <td>4</td>\n",
       "      <td>5</td>\n",
       "      <td>46392</td>\n",
       "      <td>-49433</td>\n",
       "      <td>-1</td>\n",
       "      <td>0.1003</td>\n",
       "      <td>2.6513</td>\n",
       "      <td>1.6963</td>\n",
       "      <td>322.8</td>\n",
       "    </tr>\n",
       "    <tr>\n",
       "      <td>...</td>\n",
       "      <td>...</td>\n",
       "      <td>...</td>\n",
       "      <td>...</td>\n",
       "      <td>...</td>\n",
       "      <td>...</td>\n",
       "      <td>...</td>\n",
       "      <td>...</td>\n",
       "      <td>...</td>\n",
       "    </tr>\n",
       "    <tr>\n",
       "      <td>12059</td>\n",
       "      <td>12060</td>\n",
       "      <td>4417</td>\n",
       "      <td>12360</td>\n",
       "      <td>166</td>\n",
       "      <td>0.4971</td>\n",
       "      <td>1.9853</td>\n",
       "      <td>0.9069</td>\n",
       "      <td>356.7</td>\n",
       "    </tr>\n",
       "    <tr>\n",
       "      <td>12060</td>\n",
       "      <td>12061</td>\n",
       "      <td>4421</td>\n",
       "      <td>12366</td>\n",
       "      <td>171</td>\n",
       "      <td>-0.4669</td>\n",
       "      <td>1.9868</td>\n",
       "      <td>1.0153</td>\n",
       "      <td>308.0</td>\n",
       "    </tr>\n",
       "    <tr>\n",
       "      <td>12061</td>\n",
       "      <td>12062</td>\n",
       "      <td>4424</td>\n",
       "      <td>12372</td>\n",
       "      <td>176</td>\n",
       "      <td>1.2117</td>\n",
       "      <td>0.6604</td>\n",
       "      <td>-0.3907</td>\n",
       "      <td>230.6</td>\n",
       "    </tr>\n",
       "    <tr>\n",
       "      <td>12062</td>\n",
       "      <td>12063</td>\n",
       "      <td>4427</td>\n",
       "      <td>12377</td>\n",
       "      <td>143</td>\n",
       "      <td>1.5497</td>\n",
       "      <td>0.0329</td>\n",
       "      <td>-1.0039</td>\n",
       "      <td>53.5</td>\n",
       "    </tr>\n",
       "    <tr>\n",
       "      <td>12063</td>\n",
       "      <td>12064</td>\n",
       "      <td>4428</td>\n",
       "      <td>12378</td>\n",
       "      <td>181</td>\n",
       "      <td>-1.2170</td>\n",
       "      <td>0.6326</td>\n",
       "      <td>-0.3828</td>\n",
       "      <td>214.8</td>\n",
       "    </tr>\n",
       "  </tbody>\n",
       "</table>\n",
       "<p>12064 rows × 8 columns</p>\n",
       "</div>"
      ],
      "text/plain": [
       "       Catalog_Number  Delta_T_(s)  Lunation_Number  Saros_Number   Gamma  \\\n",
       "0                   1        46437           -49456            17 -1.0981   \n",
       "1                   2        46427           -49451           -16 -1.1155   \n",
       "2                   3        46416           -49445           -11  0.8988   \n",
       "3                   4        46404           -49439            -6 -0.4644   \n",
       "4                   5        46392           -49433            -1  0.1003   \n",
       "...               ...          ...              ...           ...     ...   \n",
       "12059           12060         4417            12360           166  0.4971   \n",
       "12060           12061         4421            12366           171 -0.4669   \n",
       "12061           12062         4424            12372           176  1.2117   \n",
       "12062           12063         4427            12377           143  1.5497   \n",
       "12063           12064         4428            12378           181 -1.2170   \n",
       "\n",
       "       Penumbral_Magnitude  Umbral_Magnitude  Penumbral_Eclipse_Duration_(m)  \n",
       "0                   0.8791           -0.1922                           268.8  \n",
       "1                   0.8143           -0.1921                           233.4  \n",
       "2                   1.2105            0.2069                           281.7  \n",
       "3                   2.0382            0.9740                           343.4  \n",
       "4                   2.6513            1.6963                           322.8  \n",
       "...                    ...               ...                             ...  \n",
       "12059               1.9853            0.9069                           356.7  \n",
       "12060               1.9868            1.0153                           308.0  \n",
       "12061               0.6604           -0.3907                           230.6  \n",
       "12062               0.0329           -1.0039                            53.5  \n",
       "12063               0.6326           -0.3828                           214.8  \n",
       "\n",
       "[12064 rows x 8 columns]"
      ]
     },
     "execution_count": 68,
     "metadata": {},
     "output_type": "execute_result"
    }
   ],
   "source": [
    "LunarNumericals = lunar._get_numeric_data()\n",
    "LunarNumericals"
   ]
  },
  {
   "cell_type": "code",
   "execution_count": 72,
   "metadata": {},
   "outputs": [
    {
     "data": {
      "text/plain": [
       "8"
      ]
     },
     "execution_count": 72,
     "metadata": {},
     "output_type": "execute_result"
    }
   ],
   "source": [
    "len(LunarNumericals.columns)"
   ]
  },
  {
   "cell_type": "code",
   "execution_count": 94,
   "metadata": {},
   "outputs": [],
   "source": [
    "L_corr_matrix = LunarNumericals.corr()"
   ]
  },
  {
   "cell_type": "code",
   "execution_count": 95,
   "metadata": {},
   "outputs": [
    {
     "data": {
      "text/plain": [
       "<matplotlib.axes._subplots.AxesSubplot at 0x1a181addd0>"
      ]
     },
     "execution_count": 95,
     "metadata": {},
     "output_type": "execute_result"
    },
    {
     "data": {
      "image/png": "[encoded data removed]",
      "text/plain": [
       "<Figure size 576x576 with 2 Axes>"
      ]
     },
     "metadata": {
      "needs_background": "light"
     },
     "output_type": "display_data"
    }
   ],
   "source": [
    "# set fig size to have better readibility of heatmap\n",
    "\n",
    "fig, ax = plt.subplots(figsize=(8,8))\n",
    "L_heatmap = sns.heatmap(L_corr_matrix, annot =True, ax=ax)\n",
    "L_heatmap"
   ]
  },
  {
   "cell_type": "code",
   "execution_count": 96,
   "metadata": {},
   "outputs": [
    {
     "data": {
      "text/plain": [
       "([0, 1, 2], <a list of 3 Text xticklabel objects>)"
      ]
     },
     "execution_count": 96,
     "metadata": {},
     "output_type": "execute_result"
    },
    {
     "data": {
      "image/png": "[encoded data removed]",
      "text/plain": [
       "<Figure size 432x288 with 1 Axes>"
      ]
     },
     "metadata": {
      "needs_background": "light"
     },
     "output_type": "display_data"
    }
   ],
   "source": [
    "plt.hist(lunar[\"Eclipse_Type\"], bins = len(lunar[\"Eclipse_Type\"].unique()))\n",
    "plt.xticks(rotation='vertical')"
   ]
  },
  {
   "cell_type": "code",
   "execution_count": null,
   "metadata": {},
   "outputs": [],
   "source": []
  },
  {
   "cell_type": "code",
   "execution_count": null,
   "metadata": {},
   "outputs": [],
   "source": []
  },
  {
   "cell_type": "code",
   "execution_count": null,
   "metadata": {},
   "outputs": [],
   "source": []
  },
  {
   "cell_type": "code",
   "execution_count": null,
   "metadata": {},
   "outputs": [],
   "source": []
  },
  {
   "cell_type": "code",
   "execution_count": 101,
   "metadata": {},
   "outputs": [
    {
     "ename": "ModuleNotFoundError",
     "evalue": "No module named 'tensorflow'",
     "output_type": "error",
     "traceback": [
      "\u001b[0;31m---------------------------------------------------------------------------\u001b[0m",
      "\u001b[0;31mModuleNotFoundError\u001b[0m                       Traceback (most recent call last)",
      "\u001b[0;32m<ipython-input-101-64156d691fe5>\u001b[0m in \u001b[0;36m<module>\u001b[0;34m\u001b[0m\n\u001b[0;32m----> 1\u001b[0;31m \u001b[0;32mimport\u001b[0m \u001b[0mtensorflow\u001b[0m \u001b[0;32mas\u001b[0m \u001b[0mtf\u001b[0m\u001b[0;34m\u001b[0m\u001b[0;34m\u001b[0m\u001b[0m\n\u001b[0m",
      "\u001b[0;31mModuleNotFoundError\u001b[0m: No module named 'tensorflow'"
     ]
    }
   ],
   "source": [
    "import tensorflow as tf"
   ]
  },
  {
   "cell_type": "code",
   "execution_count": null,
   "metadata": {},
   "outputs": [],
   "source": [
    "date = solar['Calendar Date'].str[1:].str.split()\n",
    "year, month, day = date.str[0], date.str[1], date.str[2]\n",
    "timeline = [pd.datetime(year=y, month=m, day=d) for y, m, d in zip(year, month, day)]"
   ]
  }
 ],
 "metadata": {
  "kernelspec": {
   "display_name": "Python 3",
   "language": "python",
   "name": "python3"
  },
  "language_info": {
   "codemirror_mode": {
    "name": "ipython",
    "version": 3
   },
   "file_extension": ".py",
   "mimetype": "text/x-python",
   "name": "python",
   "nbconvert_exporter": "python",
   "pygments_lexer": "ipython3",
   "version": "3.7.4"
  }
 },
 "nbformat": 4,
 "nbformat_minor": 2
}
